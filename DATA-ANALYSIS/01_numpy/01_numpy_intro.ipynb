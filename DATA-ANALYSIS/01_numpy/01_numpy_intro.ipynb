{
 "cells": [
  {
   "cell_type": "markdown",
   "metadata": {},
   "source": [
    "# Data Science\n",
    "- 방대한 양의 데이터를 수집, 분석, 시각화 처리하여 유의미한 정보를 추출하는 것\n",
    "- 파이썬 패키지로는 numpy, pandas, matplotlib, seabom 등이 주로 사용됨"
   ]
  },
  {
   "cell_type": "markdown",
   "metadata": {},
   "source": [
    "---\n",
    "#numpy\n",
    "- 대규모의 다차원 배열, 수치 연산을 지원하는 라이브러리"
   ]
  },
  {
   "cell_type": "code",
   "execution_count": 1,
   "metadata": {},
   "outputs": [
    {
     "name": "stdout",
     "output_type": "stream",
     "text": [
      "Requirement already satisfied: numpy in /usr/local/lib/python3.10/site-packages (2.2.2)\n"
     ]
    }
   ],
   "source": [
    "!pip install numpy"
   ]
  },
  {
   "cell_type": "markdown",
   "metadata": {},
   "source": [
    "# 다차원 배열 생성"
   ]
  },
  {
   "cell_type": "code",
   "execution_count": 2,
   "metadata": {},
   "outputs": [],
   "source": [
    "import numpy as np"
   ]
  },
  {
   "cell_type": "code",
   "execution_count": 3,
   "metadata": {},
   "outputs": [
    {
     "name": "stdout",
     "output_type": "stream",
     "text": [
      "[2025    1    9   11   34] <class 'numpy.ndarray'>\n",
      "[2025, 1, 9, 11, 34] <class 'list'>\n"
     ]
    }
   ],
   "source": [
    "arr = np.array([2025, 1, 9, 11, 34])\n",
    "today_arr = [2025, 1, 9, 11, 34]\n",
    "\n",
    "print(arr, type(arr))\n",
    "print(today_arr, type(today_arr))"
   ]
  },
  {
   "cell_type": "code",
   "execution_count": 4,
   "metadata": {},
   "outputs": [
    {
     "name": "stdout",
     "output_type": "stream",
     "text": [
      "[1 2 3 4 5] <class 'numpy.ndarray'>\n"
     ]
    }
   ],
   "source": [
    "arr = np.array((1, 2, 3, 4, 5))\n",
    "print(arr, type(arr))"
   ]
  },
  {
   "cell_type": "code",
   "execution_count": 5,
   "metadata": {},
   "outputs": [
    {
     "name": "stdout",
     "output_type": "stream",
     "text": [
      "(5,)\n",
      "1\n",
      "5\n",
      "int64\n"
     ]
    }
   ],
   "source": [
    "arr = np.array([2025, 1, 9, 11, 34])\n",
    "\n",
    "# ndarray 구조\n",
    "print(arr.shape)    # 형태 반환\n",
    "print(arr.ndim)     # 깊이\n",
    "print(arr.size)     # 요소의 갯수\n",
    "print(arr.dtype)    # 요소의 자료형"
   ]
  },
  {
   "cell_type": "code",
   "execution_count": 6,
   "metadata": {},
   "outputs": [
    {
     "name": "stdout",
     "output_type": "stream",
     "text": [
      "[[1 2 3]\n",
      " [4 5 6]]\n",
      "[[1, 2, 3], [4, 5, 6]]\n",
      "(2, 3)\n",
      "2\n",
      "6\n",
      "int64\n"
     ]
    }
   ],
   "source": [
    "arr_2d = np.array([[1, 2, 3], [4, 5, 6]])\n",
    "print(arr_2d)\n",
    "print(([[1, 2, 3], [4, 5, 6]]))\n",
    "\n",
    "print(arr_2d.shape)    # 2, 3\n",
    "print(arr_2d.ndim)     # 2\n",
    "print(arr_2d.size)     # 6\n",
    "print(arr_2d.dtype)    # int64"
   ]
  },
  {
   "cell_type": "code",
   "execution_count": 7,
   "metadata": {},
   "outputs": [
    {
     "name": "stdout",
     "output_type": "stream",
     "text": [
      "int64\n",
      "float64\n",
      "bool\n",
      "<U9\n"
     ]
    }
   ],
   "source": [
    "arr_int = np.array([2025, 1, 9])\n",
    "print(arr_int.dtype)    # int64(8byte), int32\n",
    "arr_float = np.array([1.234, 3.456, 9.876, 10]) # ndarray는 하나의 타입만 저장 가능\n",
    "print(arr_float.dtype)  # float64, float32\n",
    "arr_bool = np.array([True, False, True, False])\n",
    "print(arr_bool.dtype)   # bool\n",
    "arr_str = np.array(['Hello', 'World', 'numpy-lib', 'great'])\n",
    "print(arr_str.dtype)    # <U9 : 유니코드 9글자까지 저장 가능한 문자열\n"
   ]
  },
  {
   "cell_type": "code",
   "execution_count": 8,
   "metadata": {},
   "outputs": [
    {
     "data": {
      "text/plain": [
       "(array([ 1,  5,  9, 10]), dtype('int64'))"
      ]
     },
     "execution_count": 8,
     "metadata": {},
     "output_type": "execute_result"
    }
   ],
   "source": [
    "# 형변환\n",
    "arr = np.array([1.234, 5.678, 9, 10])\n",
    "arr = np.array([1.234, 5.678, 9, 10], dtype=float)\n",
    "arr = np.array([1.234, 5.678, 9, 10], dtype=int)\n",
    "\n",
    "arr = np.array([1.234, 5.678, 9, 10])\n",
    "arr = arr.astype(int)\n",
    "\n",
    "arr, arr.dtype"
   ]
  },
  {
   "cell_type": "markdown",
   "metadata": {},
   "source": [
    "##### python list와 ndarray의 차이\n",
    "- ndarray는 동일한 자료형만 저장 가능\n",
    "- ndarray는 다차원인 경우, 중첩 배열은 동일한 크기만 허용\n",
    "- 형태/길이를 확인하는 방법의 차이\n",
    "    - python list: len()\n",
    "    - ndarray: ndarray.shape, ndarray.ndim, ndarray.size\n"
   ]
  },
  {
   "cell_type": "code",
   "execution_count": 9,
   "metadata": {},
   "outputs": [
    {
     "name": "stdout",
     "output_type": "stream",
     "text": [
      "[2025, 1, 9, 'numpy', True]\n",
      "[[1, 2, 3], [4, 5], [6]]\n",
      "3\n",
      "2\n"
     ]
    }
   ],
   "source": [
    "my_list = [2025, 1, 9, 'numpy', True]\n",
    "print(my_list)\n",
    "\n",
    "my_list = [[1, 2, 3], [4, 5], [6]]\n",
    "print(my_list)\n",
    "print(len(my_list))\n",
    "print(len(my_list[1]))"
   ]
  },
  {
   "cell_type": "code",
   "execution_count": 10,
   "metadata": {},
   "outputs": [
    {
     "name": "stdout",
     "output_type": "stream",
     "text": [
      "[[1, 2, 3], [4, 5], [6]]\n"
     ]
    }
   ],
   "source": [
    "arr = np.array([2025, 1, 9, 'numpy', True])\n",
    "arr = [[1, 2, 3], [4, 5], [6]]\n",
    "print(arr)\n",
    "# print(arr.shape)\n",
    "# print(arr.ndim)\n",
    "# print(arr.size)\n",
    "# print(arr.dtype)"
   ]
  },
  {
   "cell_type": "markdown",
   "metadata": {},
   "source": [
    "##### 특정 수로 초기화된 ndarray 생성"
   ]
  },
  {
   "cell_type": "code",
   "execution_count": 11,
   "metadata": {},
   "outputs": [
    {
     "name": "stdout",
     "output_type": "stream",
     "text": [
      "[[0. 0. 0.]\n",
      " [0. 0. 0.]\n",
      " [0. 0. 0.]]\n",
      "[[1. 1.]\n",
      " [1. 1.]\n",
      " [1. 1.]\n",
      " [1. 1.]\n",
      " [1. 1.]]\n",
      "[[9]\n",
      " [9]\n",
      " [9]\n",
      " [9]]\n",
      "[9 9 9 9]\n"
     ]
    }
   ],
   "source": [
    "# zeros\n",
    "arr = np.zeros((3, 3))\n",
    "print(arr)\n",
    "\n",
    "# ones\n",
    "arr = np.ones([5, 2])   # 5개의 요소가 2열이 있음\n",
    "print(arr)\n",
    "\n",
    "# full\n",
    "arr = np.full([4, 1], 9)    # 인자 값 추가가\n",
    "print(arr)\n",
    "\n",
    "arr = np.full((4,), 9)\n",
    "print(arr)"
   ]
  },
  {
   "cell_type": "code",
   "execution_count": 12,
   "metadata": {},
   "outputs": [
    {
     "name": "stdout",
     "output_type": "stream",
     "text": [
      "[[0 0]\n",
      " [0 0]]\n",
      "[[1 1]\n",
      " [1 1]]\n",
      "[[9 9]\n",
      " [9 9]]\n"
     ]
    }
   ],
   "source": [
    "arr = np.array([[10, 20], [30, 40]])\n",
    "\n",
    "# zeros_like\n",
    "print(np.zeros_like(arr))\n",
    "\n",
    "# ones_like\n",
    "print(np.ones_like(arr))\n",
    "\n",
    "# full_like\n",
    "print(np.full_like(arr, 9))\n"
   ]
  },
  {
   "cell_type": "markdown",
   "metadata": {},
   "source": [
    "##### 수열 생성\n",
    "- np.arange(start, end, step)\n",
    "    - start: 시작하는 숫자\n",
    "    - end: 끝나는 숫자\n",
    "    - num: 더해주는 값"
   ]
  },
  {
   "cell_type": "code",
   "execution_count": 13,
   "metadata": {},
   "outputs": [
    {
     "name": "stdout",
     "output_type": "stream",
     "text": [
      "[0 1 2 3 4 5 6 7 8 9]\n"
     ]
    }
   ],
   "source": [
    "arr = np.arange(1, 10)\n",
    "arr = np.arange(1, 10, .1)\n",
    "arr = np.arange(10)\n",
    "print(arr)"
   ]
  },
  {
   "cell_type": "markdown",
   "metadata": {},
   "source": [
    "#####\n",
    "\n",
    "- np.linspace(start, end, num)\n",
    "    - start: 시작하는 숫자\n",
    "    - end: 끝나는 숫자\n",
    "    - num: 결과로 만들어진 수열의 갯수"
   ]
  },
  {
   "cell_type": "code",
   "execution_count": 14,
   "metadata": {},
   "outputs": [
    {
     "name": "stdout",
     "output_type": "stream",
     "text": [
      "[ 0.          0.20408163  0.40816327  0.6122449   0.81632653  1.02040816\n",
      "  1.2244898   1.42857143  1.63265306  1.83673469  2.04081633  2.24489796\n",
      "  2.44897959  2.65306122  2.85714286  3.06122449  3.26530612  3.46938776\n",
      "  3.67346939  3.87755102  4.08163265  4.28571429  4.48979592  4.69387755\n",
      "  4.89795918  5.10204082  5.30612245  5.51020408  5.71428571  5.91836735\n",
      "  6.12244898  6.32653061  6.53061224  6.73469388  6.93877551  7.14285714\n",
      "  7.34693878  7.55102041  7.75510204  7.95918367  8.16326531  8.36734694\n",
      "  8.57142857  8.7755102   8.97959184  9.18367347  9.3877551   9.59183673\n",
      "  9.79591837 10.        ]\n"
     ]
    }
   ],
   "source": [
    "arr = np.linspace(0, 10, 5)\n",
    "arr = np.linspace(0, 10)\n",
    "# arr = np.linspace(10)\n",
    "print(arr)"
   ]
  },
  {
   "cell_type": "markdown",
   "metadata": {},
   "source": [
    "- np.logspace(start_end, end_exp, base)\n",
    "    - start_exp: 시작 지수\n",
    "    - end_exp: 끝 지수\n",
    "    - num: 결과로 만들어진 수열의 요소 갯수\n",
    "    - base: 밑 (기본값 = 10)"
   ]
  },
  {
   "cell_type": "code",
   "execution_count": 15,
   "metadata": {},
   "outputs": [
    {
     "name": "stdout",
     "output_type": "stream",
     "text": [
      "[  10.           46.41588834  215.443469   1000.        ]\n"
     ]
    }
   ],
   "source": [
    "arr = np.logspace(1, 3, 4)\n",
    "print(arr)"
   ]
  },
  {
   "cell_type": "code",
   "execution_count": 16,
   "metadata": {},
   "outputs": [
    {
     "name": "stdout",
     "output_type": "stream",
     "text": [
      "[[0. 0. 0.]\n",
      " [0. 0. 0.]\n",
      " [0. 0. 0.]\n",
      " [0. 0. 0.]]\n",
      "[[1. 1. 1.]\n",
      " [1. 1. 1.]\n",
      " [1. 1. 1.]]\n",
      "[ 0  5 10 15 20]\n",
      "[0.         0.33333333 0.66666667 1.        ]\n",
      "[[1 2]\n",
      " [3 4]]\n",
      "[[-0.43482213 -0.59078313]\n",
      " [-1.04545525  0.05990024]]\n",
      "[[ 1.13762133  0.65936186]\n",
      " [ 1.30888446 -1.91449421]]\n"
     ]
    }
   ],
   "source": [
    "# 1\n",
    "arr = np.zeros([4, 3])\n",
    "print(arr)\n",
    "\n",
    "# 2\n",
    "arr = np.ones([3, 3])\n",
    "print(arr)\n",
    "\n",
    "# 3\n",
    "arr = np.arange(0, 21, 5)\n",
    "print(arr)\n",
    "\n",
    "# 4\n",
    "arr = np.linspace(0, 1, 4)\n",
    "print(arr)\n",
    "\n",
    "# 5\n",
    "arr = np.array([[1, 2], [3, 4]])\n",
    "print(arr)\n",
    "\n",
    "# 정규 분포표\n",
    "arr = np.random.randn(2, 2) # 표준 정규분포를 따름\n",
    "print(arr)\n",
    "\n",
    "arr = np.random.normal(loc = 0, scale = 1, size=(2, 2))\n",
    "print(arr)"
   ]
  },
  {
   "cell_type": "markdown",
   "metadata": {},
   "source": [
    "---\n",
    "### ndarray indexing & slicing"
   ]
  },
  {
   "cell_type": "code",
   "execution_count": 17,
   "metadata": {},
   "outputs": [
    {
     "name": "stdout",
     "output_type": "stream",
     "text": [
      "[ 1  2  3  4  5  6  7  8  9 10]\n"
     ]
    },
    {
     "ename": "IndexError",
     "evalue": "index 10 is out of bounds for axis 0 with size 10",
     "output_type": "error",
     "traceback": [
      "\u001b[0;31m---------------------------------------------------------------------------\u001b[0m",
      "\u001b[0;31mIndexError\u001b[0m                                Traceback (most recent call last)",
      "Cell \u001b[0;32mIn[17], line 4\u001b[0m\n\u001b[1;32m      2\u001b[0m arr \u001b[38;5;241m=\u001b[39m np\u001b[38;5;241m.\u001b[39marange(\u001b[38;5;241m1\u001b[39m, \u001b[38;5;241m11\u001b[39m)\n\u001b[1;32m      3\u001b[0m \u001b[38;5;28mprint\u001b[39m(arr)\n\u001b[0;32m----> 4\u001b[0m \u001b[38;5;28mprint\u001b[39m(arr[\u001b[38;5;241m1\u001b[39m], arr[\u001b[38;5;241m3\u001b[39m], \u001b[43marr\u001b[49m\u001b[43m[\u001b[49m\u001b[38;5;241;43m10\u001b[39;49m\u001b[43m]\u001b[49m)\n",
      "\u001b[0;31mIndexError\u001b[0m: index 10 is out of bounds for axis 0 with size 10"
     ]
    }
   ],
   "source": [
    "# 1차원 배열 인덱싱\n",
    "arr = np.arange(1, 11)\n",
    "print(arr)\n",
    "print(arr[1], arr[3], arr[10])"
   ]
  },
  {
   "cell_type": "code",
   "execution_count": 82,
   "metadata": {},
   "outputs": [
    {
     "name": "stdout",
     "output_type": "stream",
     "text": [
      "[[10 20 30]\n",
      " [40 50 60]]\n",
      "(2, 3)\n",
      "[10 20 30]\n",
      "10 20 30\n"
     ]
    }
   ],
   "source": [
    "# 2차원 배열 인덱싱\n",
    "arr_2d = np.array([[10, 20, 30], [40, 50, 60]])\n",
    "print(arr_2d)\n",
    "print(arr_2d.shape)\n",
    "\n",
    "print(arr_2d[0])\n",
    "print(arr_2d[0][0], arr_2d[0, 1], arr_2d[(0, 2)])"
   ]
  },
  {
   "cell_type": "code",
   "execution_count": 84,
   "metadata": {},
   "outputs": [
    {
     "name": "stdout",
     "output_type": "stream",
     "text": [
      "44\n",
      "88\n",
      "88\n"
     ]
    }
   ],
   "source": [
    "arr_2d = np.array([[11, 22, 33], [44, 55, 66], [77, 88, 99]])\n",
    "print(arr_2d[1][0])# 44\n",
    "print(arr_2d[2][1])# 88\n",
    "print(arr_2d[-1][-2])# 88 (음수 인덱스 활용)"
   ]
  },
  {
   "cell_type": "code",
   "execution_count": 100,
   "metadata": {},
   "outputs": [
    {
     "name": "stdout",
     "output_type": "stream",
     "text": [
      "[ 1  2  3  4  5  6  7  8  9 10]\n",
      "[3 4 5 6 7]\n",
      "[1 3 5 7 9]\n",
      "[ 5  6  7  8  9 10]\n",
      "[1 2 3 4 5 6 7]\n",
      "[10  9  8  7  6  5  4  3  2  1]\n"
     ]
    }
   ],
   "source": [
    "# 1차원 배열 슬라이싱\n",
    "arr = np.arange(1, 11)\n",
    "print(arr)\n",
    "\n",
    "print(arr[2:7])\n",
    "print(arr[::2])\n",
    "print(arr[4:])\n",
    "print(arr[:7])\n",
    "print(arr[::-1])"
   ]
  },
  {
   "cell_type": "code",
   "execution_count": 9,
   "metadata": {},
   "outputs": [
    {
     "name": "stdout",
     "output_type": "stream",
     "text": [
      "[[10 20 30]\n",
      " [40 50 60]\n",
      " [70 80 90]]\n",
      "[[10 20 30]\n",
      " [40 50 60]]\n",
      "[[20 30]\n",
      " [50 60]\n",
      " [80 90]]\n",
      "[[10]\n",
      " [40]] (2, 1)\n",
      "[10 40] (2,)\n"
     ]
    }
   ],
   "source": [
    "# 2 차원 배열 슬라이싱\n",
    "arr = np.array([[10, 20, 30], [40, 50, 60], [70, 80, 90]])\n",
    "print(arr)\n",
    "print(arr[:2]) \n",
    "print(arr[:, 1:]) \n",
    "\n",
    "# 슬라이싱 = shape 유지 (차원 유지)\n",
    "print(arr[:-1, 0:1], arr[:-1, 0:1].shape)\n",
    "\n",
    "# index 접근 -> 값을 꺼내서 반환 (차원 제가)\n",
    "print(arr[:-1, 0], arr[:-1, 0].shape) \n"
   ]
  },
  {
   "cell_type": "code",
   "execution_count": 126,
   "metadata": {},
   "outputs": [
    {
     "name": "stdout",
     "output_type": "stream",
     "text": [
      "[ 5 10 15 20 25 30]\n",
      "[10 20 30]\n",
      "[10 20 30]\n"
     ]
    }
   ],
   "source": [
    "# fancy indexing\n",
    "arr = np.arange(5, 31, 5)\n",
    "print(arr)\n",
    "print(arr[[1, 3, 5]])\n",
    "\n",
    "indices = [1, 3, 5]\n",
    "print(arr[indices])"
   ]
  },
  {
   "cell_type": "code",
   "execution_count": 160,
   "metadata": {},
   "outputs": [
    {
     "name": "stdout",
     "output_type": "stream",
     "text": [
      "[10 35]\n"
     ]
    }
   ],
   "source": [
    "arr = np.array([\n",
    "    [5, 10, 15, 20],\n",
    "    [25, 30, 35, 40],\n",
    "    [45, 50, 55, 60]\n",
    "])\n",
    "\n",
    "print(arr[[0,1],[1,2]])"
   ]
  },
  {
   "cell_type": "code",
   "execution_count": 162,
   "metadata": {},
   "outputs": [
    {
     "name": "stdout",
     "output_type": "stream",
     "text": [
      "[1 2 3 4 5]\n",
      "[1 5]\n"
     ]
    }
   ],
   "source": [
    "# boolean indexing\n",
    "arr = np.arange(1, 6)\n",
    "print(arr)\n",
    "\n",
    "bools = [True, False, False, False, True]\n",
    "print(arr[bools])"
   ]
  },
  {
   "cell_type": "code",
   "execution_count": 164,
   "metadata": {},
   "outputs": [
    {
     "name": "stdout",
     "output_type": "stream",
     "text": [
      "[[ 3  6  9]\n",
      " [12 15 18]\n",
      " [21 24 27]]\n",
      "[12 15 18 21 24 27]\n",
      "[ 6 12 18 24]\n"
     ]
    }
   ],
   "source": [
    "# 2차원 배열 boolean indexing\n",
    "arr = np.array([\n",
    "    [3, 6, 9],\n",
    "    [12, 15, 18],\n",
    "    [21, 24, 27]\n",
    "])\n",
    "print(arr)\n",
    "\n",
    "print(arr[arr > 10])\n",
    "print(arr[arr % 2 == 0])"
   ]
  },
  {
   "cell_type": "markdown",
   "metadata": {},
   "source": [
    "- np.all()\n",
    "- np.any()"
   ]
  },
  {
   "cell_type": "code",
   "execution_count": 170,
   "metadata": {},
   "outputs": [
    {
     "name": "stdout",
     "output_type": "stream",
     "text": [
      "오답\n"
     ]
    }
   ],
   "source": [
    "arr = np.array([10, 20, 30, 40, -50])\n",
    "is_all_positive = np.all(arr > 0)   # np.False_\n",
    "\n",
    "if is_all_positive:\n",
    "    print(\"정답\")\n",
    "else:\n",
    "    print(\"오답\")"
   ]
  },
  {
   "cell_type": "code",
   "execution_count": 169,
   "metadata": {},
   "outputs": [
    {
     "name": "stdout",
     "output_type": "stream",
     "text": [
      "양수 포함\n"
     ]
    }
   ],
   "source": [
    "has_positive = np.any(arr > 0)\n",
    "\n",
    "if has_positive:\n",
    "    print('양수 포함')\n",
    "else:\n",
    "    print(\"양수 x\")"
   ]
  },
  {
   "cell_type": "markdown",
   "metadata": {},
   "source": [
    "np.all() : ndarray의 모든 요소가 조건을 만족할 때 True 반환\n",
    "np.any() : ndarray의 요소 중 하나라도 조건을 만족할 때 True 반환"
   ]
  },
  {
   "cell_type": "code",
   "execution_count": 191,
   "metadata": {},
   "outputs": [
    {
     "name": "stdout",
     "output_type": "stream",
     "text": [
      "60\n",
      "[[20]\n",
      " [50]\n",
      " [80]]\n",
      "[[40 50]\n",
      " [70 80]]\n",
      "[10 30 50]\n",
      "[60 70]\n"
     ]
    }
   ],
   "source": [
    "# 1\n",
    "arr = np.array([[10, 20, 30], [40, 50, 60], [70, 80, 90]])\n",
    "print(arr[1][2])\n",
    "print(arr[:, 1:2])\n",
    "print(arr[1:, 0:2])\n",
    "\n",
    "# 2\n",
    "arr = np.array([10, 20, 30, 40, 50, 60, 70])\n",
    "cols = [0, 2, 4]\n",
    "print(arr[cols])\n",
    "print(arr[arr > 50])"
   ]
  },
  {
   "cell_type": "code",
   "execution_count": null,
   "metadata": {},
   "outputs": [],
   "source": [
    "# 3\n",
    "import numpy as np\n",
    "\n",
    "sales = np.array([[120, 150, 100],\n",
    "                  [80, 90, 110],\n",
    "                  [200, 180, 220],\n",
    "                  [50, 45, 70],\n",
    "                  [300, 320, 310]])\n",
    "\n",
    "month = sales[sales >= 200]\n",
    "print(month)\n",
    "\n",
    "month3 = sales[sales[:, 2] <= 100, 0:2]\n",
    "print(month3)\n",
    "\n",
    "month2 = sales[sales[:, 1] >= 150, :]\n",
    "print(month2)"
   ]
  }
 ],
 "metadata": {
  "kernelspec": {
   "display_name": "Python 3",
   "language": "python",
   "name": "python3"
  },
  "language_info": {
   "codemirror_mode": {
    "name": "ipython",
    "version": 3
   },
   "file_extension": ".py",
   "mimetype": "text/x-python",
   "name": "python",
   "nbconvert_exporter": "python",
   "pygments_lexer": "ipython3",
   "version": "3.13.1"
  }
 },
 "nbformat": 4,
 "nbformat_minor": 2
}
