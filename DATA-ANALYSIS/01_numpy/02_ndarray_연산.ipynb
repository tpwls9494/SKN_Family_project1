{
 "cells": [
  {
   "cell_type": "markdown",
   "metadata": {},
   "source": [
    "# nparray의 기본 연산"
   ]
  },
  {
   "cell_type": "code",
   "execution_count": 2,
   "metadata": {},
   "outputs": [],
   "source": [
    "import numpy as np"
   ]
  },
  {
   "cell_type": "code",
   "execution_count": 7,
   "metadata": {},
   "outputs": [
    {
     "name": "stdout",
     "output_type": "stream",
     "text": [
      "[[1 2 3]\n",
      " [4 5 6]\n",
      " [7 8 9]]\n",
      "[[3 3 3]\n",
      " [3 3 3]\n",
      " [3 3 3]]\n"
     ]
    }
   ],
   "source": [
    "# 2차원 배열 연산\n",
    "arr_a = np.arange(1, 10).reshape(3, 3) # .reshape() N차원의 모습으로 만들어 줌\n",
    "arr_b = np.full_like(arr_a, 3) # .full_like(변수, 특정값) 차원이 있는 '변수'와 같은 모양으로 '특정값'으로 요소를 채워줌\n",
    "\n",
    "print(arr_a)\n",
    "print(arr_b)"
   ]
  },
  {
   "cell_type": "code",
   "execution_count": 6,
   "metadata": {},
   "outputs": [
    {
     "name": "stdout",
     "output_type": "stream",
     "text": [
      "[[ 4  5  6]\n",
      " [ 7  8  9]\n",
      " [10 11 12]]\n",
      "[[ 4  5  6]\n",
      " [ 7  8  9]\n",
      " [10 11 12]]\n"
     ]
    }
   ],
   "source": [
    "# 덧셈\n",
    "print(arr_a + arr_b) \n",
    "print(np.add(arr_a, arr_b))\n",
    "      "
   ]
  },
  {
   "cell_type": "code",
   "execution_count": 7,
   "metadata": {},
   "outputs": [
    {
     "name": "stdout",
     "output_type": "stream",
     "text": [
      "[[-2 -1  0]\n",
      " [ 1  2  3]\n",
      " [ 4  5  6]]\n",
      "[[-2 -1  0]\n",
      " [ 1  2  3]\n",
      " [ 4  5  6]]\n"
     ]
    }
   ],
   "source": [
    "# 뺄셈\n",
    "print(arr_a - arr_b) #\n",
    "print(np.subtract(arr_a, arr_b))"
   ]
  },
  {
   "cell_type": "code",
   "execution_count": 8,
   "metadata": {},
   "outputs": [
    {
     "name": "stdout",
     "output_type": "stream",
     "text": [
      "[[ 3  6  9]\n",
      " [12 15 18]\n",
      " [21 24 27]]\n",
      "[[ 3  6  9]\n",
      " [12 15 18]\n",
      " [21 24 27]]\n"
     ]
    }
   ],
   "source": [
    "# 곱셈\n",
    "print(arr_a * arr_b) #\n",
    "print(np.multiply(arr_a, arr_b))"
   ]
  },
  {
   "cell_type": "code",
   "execution_count": 9,
   "metadata": {},
   "outputs": [
    {
     "name": "stdout",
     "output_type": "stream",
     "text": [
      "[[0.33333333 0.66666667 1.        ]\n",
      " [1.33333333 1.66666667 2.        ]\n",
      " [2.33333333 2.66666667 3.        ]]\n",
      "[[0.33333333 0.66666667 1.        ]\n",
      " [1.33333333 1.66666667 2.        ]\n",
      " [2.33333333 2.66666667 3.        ]]\n"
     ]
    }
   ],
   "source": [
    "# 나눗셈\n",
    "print(arr_a / arr_b) #\n",
    "print(np.divide(arr_a, arr_b))"
   ]
  },
  {
   "cell_type": "code",
   "execution_count": null,
   "metadata": {},
   "outputs": [],
   "source": [
    "# 특수연산 1: 거듭제곱\n",
    "print(arr_a ** arr_b) #\n",
    "print(np.power(arr_a, arr_b))\n",
    "print"
   ]
  },
  {
   "cell_type": "code",
   "execution_count": 11,
   "metadata": {},
   "outputs": [
    {
     "name": "stdout",
     "output_type": "stream",
     "text": [
      "[[0 0 1]\n",
      " [1 1 2]\n",
      " [2 2 3]]\n",
      "[[0 0 1]\n",
      " [1 1 2]\n",
      " [2 2 3]]\n"
     ]
    }
   ],
   "source": [
    "# 특수연산 2: 몫\n",
    "print(arr_a // arr_b) #\n",
    "print(np.floor_divide(arr_a, arr_b)) #"
   ]
  },
  {
   "cell_type": "code",
   "execution_count": 12,
   "metadata": {},
   "outputs": [
    {
     "name": "stdout",
     "output_type": "stream",
     "text": [
      "[[1 2 0]\n",
      " [1 2 0]\n",
      " [1 2 0]]\n",
      "[[1 2 0]\n",
      " [1 2 0]\n",
      " [1 2 0]]\n"
     ]
    }
   ],
   "source": [
    "# 특수연산 3: 나머지\n",
    "print(arr_a % arr_b) #\n",
    "print(np.mod(arr_a, arr_b))"
   ]
  },
  {
   "cell_type": "code",
   "execution_count": 13,
   "metadata": {},
   "outputs": [
    {
     "name": "stdout",
     "output_type": "stream",
     "text": [
      "[[1.         1.41421356 1.73205081]\n",
      " [2.         2.23606798 2.44948974]\n",
      " [2.64575131 2.82842712 3.        ]]\n"
     ]
    }
   ],
   "source": [
    "# 제곱근\n",
    "print(np.sqrt(arr_a))"
   ]
  },
  {
   "cell_type": "code",
   "execution_count": 21,
   "metadata": {},
   "outputs": [
    {
     "name": "stdout",
     "output_type": "stream",
     "text": [
      "[420 640 330 820]\n",
      "[210. 320. 165. 410.]\n"
     ]
    }
   ],
   "source": [
    "# p1\n",
    "sales1 = [200, 340, 150, 400] \n",
    "sales2 = [220, 300, 180, 420]\n",
    "\n",
    "sum = np.add(sales1, sales2)\n",
    "# avg = np.add(sales1, sales2) / 2\n",
    "avg = np.divide(np.add(sales1, sales2), 2)\n",
    "\n",
    "print(sum)\n",
    "print(avg)"
   ]
  },
  {
   "cell_type": "code",
   "execution_count": 19,
   "metadata": {},
   "outputs": [
    {
     "name": "stdout",
     "output_type": "stream",
     "text": [
      "[11 22 33 44]\n",
      "[ 9 18 27 36]\n",
      "[ 10  40  90 160]\n",
      "[10. 10. 10. 10.]\n"
     ]
    }
   ],
   "source": [
    "arr1 = np.array([10, 20, 30, 40])\n",
    "arr2 = np.array([1, 2, 3, 4])\n",
    "\n",
    "print(np.add(arr1, arr2))\n",
    "print(np.subtract(arr1, arr2))\n",
    "print(np.multiply(arr1, arr2))\n",
    "print(np.divide(arr1,arr2))"
   ]
  },
  {
   "cell_type": "markdown",
   "metadata": {},
   "source": [
    "---\n",
    "\n",
    "### broadcasting 연산\n",
    "- 두 배열의 shape이 다르면 broadcasting 연산을 수행한다.\n",
    "- shape이 작은 쪽이 큰 쪽에 맞춰 확장한다.\n",
    "- 두 배열의 행 또는 열이 일치해야 확장 가능하다.\n",
    "- 크기가 1인 경우 무조건 확장 가능하다.\n",
    "- shape이 다른 경우 마지막 축부터 차원이 동일한지 비교한다."
   ]
  },
  {
   "cell_type": "code",
   "execution_count": 10,
   "metadata": {},
   "outputs": [
    {
     "data": {
      "text/plain": [
       "array([[ 5,  8,  9],\n",
       "       [20, 20, 18],\n",
       "       [35, 32, 27]])"
      ]
     },
     "execution_count": 11,
     "metadata": {},
     "output_type": "execute_result"
    }
   ],
   "source": [
    "result_arr = arr_a * np.array([[5, 5, 5], [5, 5, 5], [5, 5, 5]]) # (3, 3)\n",
    "result_arr = arr_a * np.array([5, 5, 5]) # (3,)\n",
    "result_arr = arr_a * np.array([5]) # (3,)\n",
    "result_arr = arr_a * 5 # (3,)\n",
    "result_arr "
   ]
  },
  {
   "cell_type": "code",
   "execution_count": 12,
   "metadata": {},
   "outputs": [
    {
     "data": {
      "text/plain": [
       "array([[  6,  12, 103],\n",
       "       [  9,  15, 106]])"
      ]
     },
     "execution_count": 12,
     "metadata": {},
     "output_type": "execute_result"
    }
   ],
   "source": [
    "arr1 = np.array([[1, 2, 3], [4, 5, 6]]) # (2, 3)\n",
    "arr2 = np.array([5, 10, 100])           # (3,)\n",
    "\n",
    "arr1 + arr2"
   ]
  },
  {
   "cell_type": "code",
   "execution_count": 13,
   "metadata": {},
   "outputs": [
    {
     "data": {
      "text/plain": [
       "array([[101, 102, 103],\n",
       "       [204, 205, 206]])"
      ]
     },
     "execution_count": 13,
     "metadata": {},
     "output_type": "execute_result"
    }
   ],
   "source": [
    "arr1 = np.array([[1, 2, 3], [4, 5, 6]]) # (2, 3)\n",
    "arr2 = np.array([[100], [200]])\n",
    "arr1 + arr2"
   ]
  },
  {
   "cell_type": "code",
   "execution_count": 15,
   "metadata": {},
   "outputs": [
    {
     "data": {
      "text/plain": [
       "array([[5, 6, 7],\n",
       "       [6, 7, 8],\n",
       "       [7, 8, 9]])"
      ]
     },
     "execution_count": 15,
     "metadata": {},
     "output_type": "execute_result"
    }
   ],
   "source": [
    "arr1 = np.array([1, 2, 3]) #(3,)\n",
    "arr2 = np.array([[4], [5], [6]]) #(3, 1)\n",
    "arr1.shape, arr2.shape\n",
    "arr1 + arr2"
   ]
  },
  {
   "cell_type": "code",
   "execution_count": null,
   "metadata": {},
   "outputs": [],
   "source": [
    "# 크기가 작은 쪽이 큰 쪽을 따라간다\n",
    "\n",
    "arr1 = np.array([[1, 2, 3], [4, 5, 6]]) # (2, 3)\n",
    "arr2 = np.array([1, 2])                 # (2,)\n",
    "# arr1 + arr2   # Values error\n",
    "\n"
   ]
  },
  {
   "cell_type": "markdown",
   "metadata": {},
   "source": [
    "---\n",
    "### 행렬 곱셈\n",
    "- 점곱연산 (Dot Product / 내적)\n",
    "    - 두 행렬 A, B의 곱셈은 첫 번째 행렬 A의 행과 두 번째 행렬 B의 열 간의 곱셈을 수행한다.\n",
    "    - 첫 번째 행렬 A의 열의 수와 두 번째 행렬 B의 행의 수가 같아야 한다.\n",
    "    - 연산 결과의 shape은 (첫 번째 행렬 A의 행수, 두 번째 행렬 B의 열수)이다."
   ]
  },
  {
   "cell_type": "code",
   "execution_count": 4,
   "metadata": {},
   "outputs": [
    {
     "name": "stdout",
     "output_type": "stream",
     "text": [
      "[[ 5 12]\n",
      " [21 32]]\n",
      "(2, 2) (2, 2) (2, 2)\n",
      "[[19 22]\n",
      " [43 50]]\n",
      "(2, 2)\n"
     ]
    }
   ],
   "source": [
    "arr1 = np.array([[1, 2], [3, 4]])\n",
    "arr2 = np.array([[5, 6], [7, 8]])\n",
    "print(arr1 * arr2)\n",
    "print(arr1.shape,arr2.shape, (arr1*arr2).shape)\n",
    "\n",
    "print(np.dot(arr1,arr2))\n",
    "print(np.dot(arr1,arr2).shape)"
   ]
  },
  {
   "cell_type": "code",
   "execution_count": 6,
   "metadata": {},
   "outputs": [
    {
     "name": "stdout",
     "output_type": "stream",
     "text": [
      "(2, 3) (3, 2) (2, 2)\n"
     ]
    }
   ],
   "source": [
    "arr3 = np.array([[1, 2, 3], [4, 5, 6]])\n",
    "arr4 = np.array([[7, 8], [9, 10], [11, 12]])\n",
    "print(arr3.shape, arr4.shape, np.dot(arr3, arr4).shape)\n",
    "# np.dot(arr3, arr4).shape -> (2,3) * (3,2) = (2,2)\n",
    "# np.dot(arr4, arr3).shape -> (3,2) * (2,3) = (3,3)"
   ]
  },
  {
   "cell_type": "code",
   "execution_count": null,
   "metadata": {},
   "outputs": [],
   "source": [
    "# (100, 100)\n",
    "# (20000, 20000)\n",
    "# Valueserror"
   ]
  },
  {
   "cell_type": "code",
   "execution_count": 10,
   "metadata": {},
   "outputs": [
    {
     "name": "stdout",
     "output_type": "stream",
     "text": [
      "[[1 2 3]\n",
      " [4 5 6]]\n",
      "[[1 4]\n",
      " [2 5]\n",
      " [3 6]]\n",
      "[[14 32]\n",
      " [32 77]]\n",
      "[[14 32]\n",
      " [32 77]]\n"
     ]
    }
   ],
   "source": [
    "arr = np.array([[1, 2, 3], [4, 5, 6]])\n",
    "\n",
    "# @\n",
    "# print(arr @ arr)\n",
    "\n",
    "# .T    전치 행렬\n",
    "print(arr)\n",
    "print(arr.T)\n",
    "print(arr @ arr.T)\n",
    "\n",
    "print(np.matmul(arr, arr.T))"
   ]
  },
  {
   "cell_type": "code",
   "execution_count": 11,
   "metadata": {},
   "outputs": [
    {
     "name": "stdout",
     "output_type": "stream",
     "text": [
      "[[11 22 33]\n",
      " [14 25 36]]\n"
     ]
    }
   ],
   "source": [
    "# 3\n",
    "arr2d = np.array([[1, 2, 3], [4, 5, 6]])\n",
    "arr1d = np.array([10, 20, 30])\n",
    "\n",
    "print(arr1d + arr2d)"
   ]
  },
  {
   "cell_type": "markdown",
   "metadata": {},
   "source": [
    "### 연산 함수 및 집계 함수"
   ]
  },
  {
   "cell_type": "code",
   "execution_count": 18,
   "metadata": {},
   "outputs": [],
   "source": [
    "arr_negative = np.array([[-1, -2], [-100, -200]])\n",
    "arr_float = np.array([[1.234, 5.678], [7.89, 10.123]])                        "
   ]
  },
  {
   "cell_type": "code",
   "execution_count": 14,
   "metadata": {},
   "outputs": [
    {
     "data": {
      "text/plain": [
       "array([[  1,   2],\n",
       "       [100, 200]])"
      ]
     },
     "execution_count": 14,
     "metadata": {},
     "output_type": "execute_result"
    }
   ],
   "source": [
    "# 절댓값\n",
    "np.abs(arr_negative)"
   ]
  },
  {
   "cell_type": "code",
   "execution_count": 21,
   "metadata": {},
   "outputs": [
    {
     "name": "stdout",
     "output_type": "stream",
     "text": [
      "[[ 2.  6.]\n",
      " [ 8. 11.]]\n",
      "[[ 1.  6.]\n",
      " [ 8. 10.]]\n",
      "[[ 1.23  5.68]\n",
      " [ 7.89 10.12]]\n"
     ]
    }
   ],
   "source": [
    "# 올림/반올림\n",
    "print(np.ceil(arr_float))\n",
    "print(np.round(arr_float))\n",
    "print(np.round(arr_float, 2))"
   ]
  },
  {
   "cell_type": "code",
   "execution_count": 22,
   "metadata": {},
   "outputs": [
    {
     "name": "stdout",
     "output_type": "stream",
     "text": [
      "[[ 1.  5.]\n",
      " [ 7. 10.]]\n",
      "[[ 1.  5.]\n",
      " [ 7. 10.]]\n"
     ]
    }
   ],
   "source": [
    "arr_float = np.array([[1.234, 5.678], [7.89, 10.123]])\n",
    "\n",
    "# 내림\n",
    "print(np.floor(arr_float))\n",
    "# 버림\n",
    "print(np.trunc(arr_float))"
   ]
  },
  {
   "cell_type": "code",
   "execution_count": 26,
   "metadata": {},
   "outputs": [
    {
     "name": "stdout",
     "output_type": "stream",
     "text": [
      "6\n",
      "1\n",
      "[4 5 6]\n",
      "[1 4]\n"
     ]
    }
   ],
   "source": [
    "# 최대값/최소값\n",
    "print(np.max(arr))\n",
    "print(np.min(arr))\n",
    "\n",
    "print(np.max(arr, axis=0))  # 행 기준 (행을 고정하고, 같은 열에서 가장 큰 값)\n",
    "print(np.min(arr, axis=1))  # 열 기준 (열을 고정하고, 같은 행에서 가장 작은 값)\n"
   ]
  },
  {
   "cell_type": "code",
   "execution_count": 28,
   "metadata": {},
   "outputs": [
    {
     "name": "stdout",
     "output_type": "stream",
     "text": [
      "21\n",
      "21\n",
      "[5 7 9]\n",
      "[ 6 15]\n"
     ]
    }
   ],
   "source": [
    "# 합계  \n",
    "print(arr.sum())    # axis=None\n",
    "print(np.sum(arr))  \n",
    "\n",
    "print(arr.sum(axis=0))    # axis=0 행 기준 (행 방향 덧셈)\n",
    "print(arr.sum(axis=1))    # axis=1 열 기준 (열 방향 덧셈)"
   ]
  },
  {
   "cell_type": "code",
   "execution_count": 29,
   "metadata": {},
   "outputs": [
    {
     "name": "stdout",
     "output_type": "stream",
     "text": [
      "3.5\n",
      "3.5\n",
      "[2.5 3.5 4.5]\n",
      "[2. 5.]\n"
     ]
    }
   ],
   "source": [
    "# 평균\n",
    "print(arr.mean())\n",
    "print(np.mean(arr))\n",
    "\n",
    "print(arr.mean(axis=0))\n",
    "print(arr.mean(axis=1))"
   ]
  },
  {
   "cell_type": "code",
   "execution_count": 33,
   "metadata": {},
   "outputs": [
    {
     "name": "stdout",
     "output_type": "stream",
     "text": [
      "[30 40 50]\n",
      "150\n",
      "50\n",
      "10\n",
      "30.0\n"
     ]
    }
   ],
   "source": [
    "arr = np.array([10, 20, 30, 40, 50])\n",
    "print(arr[arr>20])\n",
    "print(np.sum(arr))\n",
    "print(np.max(arr))\n",
    "print(np.min(arr))\n",
    "print(np.mean(arr))"
   ]
  },
  {
   "cell_type": "code",
   "execution_count": null,
   "metadata": {},
   "outputs": [],
   "source": []
  }
 ],
 "metadata": {
  "kernelspec": {
   "display_name": "Python 3",
   "language": "python",
   "name": "python3"
  },
  "language_info": {
   "codemirror_mode": {
    "name": "ipython",
    "version": 3
   },
   "file_extension": ".py",
   "mimetype": "text/x-python",
   "name": "python",
   "nbconvert_exporter": "python",
   "pygments_lexer": "ipython3",
   "version": "3.13.1"
  }
 },
 "nbformat": 4,
 "nbformat_minor": 2
}
