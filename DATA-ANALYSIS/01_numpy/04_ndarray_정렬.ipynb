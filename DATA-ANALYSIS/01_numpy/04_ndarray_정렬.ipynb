{
 "cells": [
  {
   "cell_type": "markdown",
   "metadata": {},
   "source": [
    "## ndarray 정렬"
   ]
  },
  {
   "cell_type": "code",
   "execution_count": 2,
   "metadata": {},
   "outputs": [],
   "source": [
    "import numpy as np"
   ]
  },
  {
   "cell_type": "markdown",
   "metadata": {},
   "source": [
    "### 1차원 배열 정렬"
   ]
  },
  {
   "cell_type": "code",
   "execution_count": 3,
   "metadata": {},
   "outputs": [
    {
     "data": {
      "text/plain": [
       "array([1, 5, 2, 3, 8, 6, 2, 2, 5, 6])"
      ]
     },
     "execution_count": 3,
     "metadata": {},
     "output_type": "execute_result"
    }
   ],
   "source": [
    "arr = np.random.randint(1, 11, 10)\n",
    "arr"
   ]
  },
  {
   "cell_type": "code",
   "execution_count": 5,
   "metadata": {},
   "outputs": [
    {
     "name": "stdout",
     "output_type": "stream",
     "text": [
      "[1 2 2 2 3 5 5 6 6 8]\n"
     ]
    }
   ],
   "source": [
    "arr = np.sort(arr)\n",
    "print(arr)"
   ]
  },
  {
   "cell_type": "code",
   "execution_count": null,
   "metadata": {},
   "outputs": [],
   "source": [
    "np.sort(arr)"
   ]
  },
  {
   "cell_type": "markdown",
   "metadata": {},
   "source": [
    "### 2차원 배열 정렬"
   ]
  },
  {
   "cell_type": "code",
   "execution_count": 8,
   "metadata": {},
   "outputs": [
    {
     "data": {
      "text/plain": [
       "array([[6, 2, 0, 2],\n",
       "       [4, 2, 2, 2],\n",
       "       [9, 1, 5, 6]])"
      ]
     },
     "execution_count": 8,
     "metadata": {},
     "output_type": "execute_result"
    }
   ],
   "source": [
    "arr = np.random.randint(10, size=(3, 4))  # 0 이상 10 미만\n",
    "arr"
   ]
  },
  {
   "cell_type": "code",
   "execution_count": 9,
   "metadata": {},
   "outputs": [
    {
     "name": "stdout",
     "output_type": "stream",
     "text": [
      "[[4 1 0 2]\n",
      " [6 2 2 2]\n",
      " [9 2 5 6]]\n",
      "[[0 2 2 6]\n",
      " [2 2 2 4]\n",
      " [1 5 6 9]]\n"
     ]
    }
   ],
   "source": [
    "print(np.sort(arr, axis=0)) # 행 방향 정렬\n",
    "print(np.sort(arr, axis=1)) # 열 방향 정렬"
   ]
  },
  {
   "cell_type": "code",
   "execution_count": 10,
   "metadata": {},
   "outputs": [
    {
     "name": "stdout",
     "output_type": "stream",
     "text": [
      "[0 1 2 2 2 2 2 4 5 6 6 9]\n",
      "(12,)\n"
     ]
    }
   ],
   "source": [
    "print(np.sort(arr, axis=None))      # axis=None 축 무시 (행/열 구분없이 모든 값 정렬)\n",
    "print(np.sort(arr, axis=None).shape)"
   ]
  },
  {
   "cell_type": "markdown",
   "metadata": {},
   "source": [
    "- np.argsort()\n",
    "    - 배열의 값을 정렬했을 때, 각 값의 원래 인덱스를 반환\n",
    "    - 정렬할 때 어떤 순서로 값을 배치해야 하는지 알려주는 인덱스를 반환\n",
    "    - 배열의 값을 정렬한 후, 정렬된 순서에 해당하는 인덱스를 반환"
   ]
  },
  {
   "cell_type": "code",
   "execution_count": 12,
   "metadata": {},
   "outputs": [
    {
     "name": "stdout",
     "output_type": "stream",
     "text": [
      "[100 200 300 400]\n",
      "[0 2 3 1]\n"
     ]
    }
   ],
   "source": [
    "arr = np.array([100, 400, 200, 300])\n",
    "print(np.sort(arr))\n",
    "print(np.argsort(arr))"
   ]
  },
  {
   "cell_type": "code",
   "execution_count": 23,
   "metadata": {},
   "outputs": [
    {
     "name": "stdout",
     "output_type": "stream",
     "text": [
      "[2 0 1 3]\n"
     ]
    },
    {
     "data": {
      "text/plain": [
       "array(['제니', '리사', '로제', '지수'], dtype='<U2')"
      ]
     },
     "execution_count": 23,
     "metadata": {},
     "output_type": "execute_result"
    }
   ],
   "source": [
    "names = np.array(['리사', '로제', '제니', '지수'])\n",
    "album_sales = np.array([900, 870, 1000, 670])\n",
    "print(np.argsort(album_sales)[::-1])\n",
    "\n",
    "sales_desc = np.argsort(album_sales)[::-1]\n",
    "names[sales_desc]"
   ]
  },
  {
   "cell_type": "code",
   "execution_count": 25,
   "metadata": {},
   "outputs": [
    {
     "name": "stdout",
     "output_type": "stream",
     "text": [
      "[[1 2 0]\n",
      " [0 2 1]]\n",
      "[[1 2 0]\n",
      " [0 2 1]]\n",
      "[[1 0 0]\n",
      " [0 1 1]]\n"
     ]
    }
   ],
   "source": [
    "# 2차원 배열에서 argsort\n",
    "arr = np.array([[2025, 1, 10], [15, 40, 30]])\n",
    "\n",
    "print(np.argsort(arr))\n",
    "print(np.argsort(arr, axis=1))\n",
    "print(np.argsort(arr, axis=0))"
   ]
  },
  {
   "cell_type": "code",
   "execution_count": 32,
   "metadata": {},
   "outputs": [
    {
     "name": "stdout",
     "output_type": "stream",
     "text": [
      "[10 20 30 40 50]\n",
      "[50 40 30 20 10]\n",
      "[[2 3 1]\n",
      " [8 9 5]]\n",
      "[[3 5 8]\n",
      " [1 2 9]]\n",
      "[1 0 2]\n"
     ]
    }
   ],
   "source": [
    "# 1\n",
    "arr = np.array([50, 10, 30, 40, 20])\n",
    "print(np.sort(arr))\n",
    "print(np.sort(arr)[::-1])\n",
    "\n",
    "# 2\n",
    "arr2d = np.array([[8, 3, 5], [2, 9, 1]])\n",
    "print(np.sort(arr2d, axis=0))\n",
    "print(np.sort(arr2d, axis=1))\n",
    "\n",
    "# 3\n",
    "arr = np.array([15, 10, 20])\n",
    "print(np.argsort(arr))"
   ]
  }
 ],
 "metadata": {
  "kernelspec": {
   "display_name": "Python 3",
   "language": "python",
   "name": "python3"
  },
  "language_info": {
   "codemirror_mode": {
    "name": "ipython",
    "version": 3
   },
   "file_extension": ".py",
   "mimetype": "text/x-python",
   "name": "python",
   "nbconvert_exporter": "python",
   "pygments_lexer": "ipython3",
   "version": "3.13.1"
  }
 },
 "nbformat": 4,
 "nbformat_minor": 2
}
