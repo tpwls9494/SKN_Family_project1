{
 "cells": [
  {
   "cell_type": "markdown",
   "metadata": {},
   "source": [
    "### ndarray 형태 변경"
   ]
  },
  {
   "cell_type": "code",
   "execution_count": 5,
   "metadata": {},
   "outputs": [],
   "source": [
    "import numpy as np"
   ]
  },
  {
   "cell_type": "code",
   "execution_count": 22,
   "metadata": {},
   "outputs": [
    {
     "name": "stdout",
     "output_type": "stream",
     "text": [
      "1 [ 0  1  2  3  4  5  6  7  8  9 10 11]\n",
      "2 (1, 12)\n",
      "[[ 0  1  2  3  4  5  6  7  8  9 10 11]]\n",
      "3 (2, 2, 3)\n",
      "[[[ 0  1  2]\n",
      "  [ 3  4  5]]\n",
      "\n",
      " [[ 6  7  8]\n",
      "  [ 9 10 11]]]\n"
     ]
    }
   ],
   "source": [
    "# reshape()\n",
    "arr = np.arange(12)\n",
    "print(arr.ndim, arr)\n",
    "\n",
    "arr = arr.reshape(3, 4)\n",
    "arr = arr.reshape(6, 2)\n",
    "arr = arr.reshape(1,12)\n",
    "# arr = arr.reshape(2, 7)\n",
    "print(arr.ndim, arr.shape)\n",
    "print(arr)\n",
    "\n",
    "arr = arr.reshape(2, 2, 3)\n",
    "# arr = arr.reshape(2, 2, 2)\n",
    "print(arr.ndim, arr.shape)\n",
    "print(arr)"
   ]
  },
  {
   "cell_type": "code",
   "execution_count": 19,
   "metadata": {},
   "outputs": [
    {
     "name": "stdout",
     "output_type": "stream",
     "text": [
      "[ 0  1  2  3  4  5  6  7  8  9 10 11]\n",
      "[[ 0  1  2  3]\n",
      " [ 4  5  6  7]\n",
      " [ 8  9 10 11]]\n"
     ]
    }
   ],
   "source": [
    "# reshape() -> -1\n",
    "arr = arr.reshape(-1)\n",
    "print(arr)\n",
    "\n",
    "arr = arr.reshape(4, -1)\n",
    "arr = arr.reshape(-1, 4)\n",
    "print(arr)"
   ]
  },
  {
   "cell_type": "code",
   "execution_count": 24,
   "metadata": {},
   "outputs": [
    {
     "name": "stdout",
     "output_type": "stream",
     "text": [
      "[[ 0  1  2  3  4  5  6  7  8  9]\n",
      " [10 11 12 13 14 15 16 17 18 19]\n",
      " [20 21 22 23 24 25 26 27 28 29]\n",
      " [30 31 32 33 34 35 36 37 38 39]\n",
      " [40 41 42 43 44 45 46 47 48 49]]\n",
      "[ 0  1  2  3  4  5  6  7  8  9 10 11 12 13 14 15 16 17 18 19 20 21 22 23\n",
      " 24 25 26 27 28 29 30 31 32 33 34 35 36 37 38 39 40 41 42 43 44 45 46 47\n",
      " 48 49]\n"
     ]
    }
   ],
   "source": [
    "# np.ravel()\n",
    "arr = np.arange(50).reshape(5, 10)\n",
    "print(arr)\n",
    "print(np.ravel(arr))"
   ]
  },
  {
   "cell_type": "code",
   "execution_count": 39,
   "metadata": {},
   "outputs": [
    {
     "name": "stdout",
     "output_type": "stream",
     "text": [
      "(10,) [0 1 2 3 4 5 6 7 8 9]\n",
      "[[0 1 2 3 4 5 6 7 8 9]]\n",
      "(1, 10)\n",
      "[[0]\n",
      " [1]\n",
      " [2]\n",
      " [3]\n",
      " [4]\n",
      " [5]\n",
      " [6]\n",
      " [7]\n",
      " [8]\n",
      " [9]]\n",
      "(10, 1)\n"
     ]
    }
   ],
   "source": [
    "# np.expand_dims()\n",
    "arr_1d = np.arange(10)\n",
    "print(arr_1d.shape, arr_1d)\n",
    "\n",
    "print(np.expand_dims(arr_1d, axis=0))\n",
    "print(np.expand_dims(arr_1d, axis=0).shape)\n",
    "print(np.expand_dims(arr_1d, axis=1))\n",
    "print(np.expand_dims(arr_1d, axis=1).shape)"
   ]
  },
  {
   "cell_type": "code",
   "execution_count": 34,
   "metadata": {},
   "outputs": [
    {
     "name": "stdout",
     "output_type": "stream",
     "text": [
      "(2, 2) [[1 2]\n",
      " [3 4]]\n",
      "[[[1 2]\n",
      "  [3 4]]]\n",
      "(1, 2, 2)\n",
      "[[[1 2]]\n",
      "\n",
      " [[3 4]]]\n",
      "(2, 1, 2)\n",
      "[[[1]\n",
      "  [2]]\n",
      "\n",
      " [[3]\n",
      "  [4]]]\n",
      "(2, 2, 1)\n"
     ]
    }
   ],
   "source": [
    "arr_2d = np.array([[1, 2], [3, 4]])     \n",
    "print(arr_2d.shape, arr_2d)     \n",
    "\n",
    "print(np.expand_dims(arr_2d, axis=0))\n",
    "print(np.expand_dims(arr_2d, axis=0).shape)\n",
    "print(np.expand_dims(arr_2d, axis=1))\n",
    "print(np.expand_dims(arr_2d, axis=1).shape)\n",
    "print(np.expand_dims(arr_2d, axis=2))\n",
    "print(np.expand_dims(arr_2d, axis=2).shape)"
   ]
  },
  {
   "cell_type": "code",
   "execution_count": 38,
   "metadata": {},
   "outputs": [
    {
     "name": "stdout",
     "output_type": "stream",
     "text": [
      "(1, 2)\n",
      "(2,)\n"
     ]
    }
   ],
   "source": [
    "# np.squeeze() : 차원의 값이 1일 때 제거\n",
    "arr = np.array([[1, 2]])\n",
    "print(arr.shape)\n",
    "\n",
    "arr2 =  np.squeeze(arr)\n",
    "arr2 =  np.squeeze(arr, axis=0)\n",
    "# arr2 =  np.squeeze(arr, axis=1)\n",
    "print(arr2.shape)"
   ]
  },
  {
   "cell_type": "code",
   "execution_count": 46,
   "metadata": {},
   "outputs": [
    {
     "name": "stdout",
     "output_type": "stream",
     "text": [
      "[1 2 3 4 5 6]\n",
      "[1 2 3 4 5 6]\n",
      "[[1 2]\n",
      " [3 4]\n",
      " [5 6]\n",
      " [7 8]]\n",
      "[[1 2]\n",
      " [3 4]\n",
      " [5 6]\n",
      " [7 8]]\n"
     ]
    }
   ],
   "source": [
    "# 1\n",
    "arr1 = np.array([1, 2, 3])\n",
    "arr2 = np.array([4, 5, 6])\n",
    "\n",
    "print(np.concatenate((arr1, arr2)))\n",
    "print(np.hstack([arr1, arr2]))\n",
    "\n",
    "# 2\n",
    "arr1 = np.array([[1, 2], [3, 4]])\n",
    "arr2 = np.array([[5, 6], [7, 8]])\n",
    "\n",
    "print(np.concatenate((arr1, arr2)))\n",
    "print(np.vstack([arr1, arr2]))\n"
   ]
  },
  {
   "cell_type": "code",
   "execution_count": 95,
   "metadata": {},
   "outputs": [
    {
     "name": "stdout",
     "output_type": "stream",
     "text": [
      "[[181.66666667 156.66666667 131.66666667]\n",
      " [111.66666667  87.5         85.83333333]\n",
      " [161.66666667 135.         120.        ]\n",
      " [148.33333333 112.5        115.        ]\n",
      " [120.          94.16666667  90.83333333]]\n",
      "\n",
      "\n",
      "[[520 620 750 860 760 830]\n",
      " [430 515 600 670 645 655]\n",
      " [380 510 630 610 550 580]]\n",
      "[520 620 750 860 760 830]\n",
      "[0 0 0 0 0 0]\n",
      "[230 190 160]\n",
      "1번 과일입니다.\n",
      "\n",
      "\n",
      "[200 230 180 210 170 190 160 180 160 160 180 170 190 160 170 160 180]\n",
      "120\n",
      "0지점 1번 과일은 150개 입니다.\n",
      "0지점 1번 과일은 200개 입니다.\n",
      "0지점 1번 과일은 230개 입니다.\n",
      "0지점 1번 과일은 180개 입니다.\n",
      "0지점 1번 과일은 210개 입니다.\n",
      "0지점 2번 과일은 170개 입니다.\n",
      "0지점 2번 과일은 190개 입니다.\n",
      "0지점 2번 과일은 160개 입니다.\n",
      "0지점 2번 과일은 180개 입니다.\n",
      "0지점 3번 과일은 160개 입니다.\n",
      "0지점 3번 과일은 150개 입니다.\n",
      "2지점 1번 과일은 160개 입니다.\n",
      "2지점 1번 과일은 180개 입니다.\n",
      "2지점 1번 과일은 170개 입니다.\n",
      "2지점 1번 과일은 190개 입니다.\n",
      "2지점 2번 과일은 150개 입니다.\n",
      "2지점 2번 과일은 160개 입니다.\n",
      "3지점 1번 과일은 150개 입니다.\n",
      "3지점 1번 과일은 170개 입니다.\n",
      "3지점 1번 과일은 160개 입니다.\n",
      "3지점 1번 과일은 180개 입니다.\n"
     ]
    }
   ],
   "source": [
    "# 종합 실습\n",
    "import numpy as np\n",
    "\n",
    "\n",
    "# 5개 지점의 월별 사과, 바나나, 오렌지 판매량 (5x3x6 배열)\n",
    "# 5개의 지점, 3개의 과일(사과, 바나나, 오렌지), 6개월치 데이터\n",
    "sales_data = np.array([\n",
    "    # 지점 1\n",
    "    [[120, 150, 200, 230, 180, 210],  # 사과 판매량\n",
    "     [100, 140, 170, 190, 160, 180],  # 바나나 판매량\n",
    "     [90, 120, 160, 140, 130, 150]],  # 오렌지 판매량\n",
    "\n",
    "    # 지점 2\n",
    "    [[80, 90, 110, 140, 130, 120],\n",
    "     [60, 70, 90, 100, 110, 95],\n",
    "     [50, 80, 100, 110, 90, 85]],\n",
    "\n",
    "    # 지점 3\n",
    "    [[130, 140, 160, 180, 170, 190],\n",
    "     [110, 120, 130, 150, 140, 160],\n",
    "     [100, 110, 120, 130, 120, 140]],\n",
    "\n",
    "    # 지점 4\n",
    "    [[100, 130, 150, 170, 160, 180],\n",
    "     [90, 100, 110, 120, 130, 125],\n",
    "     [80, 110, 140, 130, 120, 110]],\n",
    "\n",
    "    # 지점 5\n",
    "    [[90, 110, 130, 140, 120, 130],\n",
    "     [70, 85, 100, 110, 105, 95],\n",
    "     [60, 90, 110, 100, 90, 95]]\n",
    "])\n"
   ]
  },
  {
   "cell_type": "code",
   "execution_count": null,
   "metadata": {},
   "outputs": [],
   "source": [
    "#1. 각 지점에서 6개월 동안 판매된 **사과**, **바나나**, **오렌지**의 월별 평균 판매량을 계산하세요.\n",
    "print(np.mean(sales_data, axis=2))\n",
    "print('\\n')\n"
   ]
  },
  {
   "cell_type": "code",
   "execution_count": 96,
   "metadata": {},
   "outputs": [
    {
     "name": "stdout",
     "output_type": "stream",
     "text": [
      "[[520 620 750 860 760 830]\n",
      " [430 515 600 670 645 655]\n",
      " [380 510 630 610 550 580]]\n",
      "[520 620 750 860 760 830]\n",
      "[0 0 0 0 0 0]\n"
     ]
    }
   ],
   "source": [
    "#2. 각 월마다 전체 지점에서 가장 많이 판매된 과일을 찾아 판매량과 과일명을 출력하세요.\n",
    "# month_fruit = np.max(sales_data, axis=0)\n",
    "# print(month_fruit)\n",
    "# month_best = np.max(month_fruit, axis=0)\n",
    "# print(month_best)\n",
    "# for i in range(6):\n",
    "#     for j in range(3):\n",
    "#         if month_best[i] == month_fruit[j][i]:\n",
    "#             print(f\"{i+1}월: {j+1}번 과일입니다.\")\n",
    "# print('\\n')\n",
    "\n",
    "# T\n",
    "total_sales_per_month = np.sum(sales_data, axis=0)\n",
    "max_sales_per_month = np.max(total_sales_per_month, axis=0)\n",
    "max_sales_indices = np.argmax(total_sales_per_month, axis=0)\n",
    "\n",
    "print(total_sales_per_month)\n",
    "print(max_sales_per_month)\n",
    "print(max_sales_indices)"
   ]
  },
  {
   "cell_type": "code",
   "execution_count": null,
   "metadata": {},
   "outputs": [],
   "source": []
  },
  {
   "cell_type": "code",
   "execution_count": 107,
   "metadata": {},
   "outputs": [
    {
     "name": "stdout",
     "output_type": "stream",
     "text": [
      "[4340 3515 3260]\n",
      "0\n",
      "[4340 3515 3260]\n",
      "0\n"
     ]
    }
   ],
   "source": [
    "#3. 6개월 동안 전체 지점에서 가장 많이 판매된 과일의 총량을 과일별로 구하세요. 어떤 과일이 가장 많이 판매되었는지 확인하세요.\n",
    "sales_datas = np.hstack([sales_data[0], sales_data[1], sales_data[2], sales_data[3], sales_data[4]])\n",
    "best_fruits = np.sum(sales_datas, axis=1)\n",
    "print(best_fruits)\n",
    "print(np.argmax(best_fruits))\n",
    "\n",
    "# T\n",
    "total_sales_per_fruit = np.sum(sales_data, axis=(0, 2))     # axis를 한 번에 두 개를 반환 가능\n",
    "print(total_sales_per_fruit)\n",
    "\n",
    "most_sold_fruit = np.argmax(total_sales_per_fruit)\n",
    "print(most_sold_fruit)\n"
   ]
  },
  {
   "cell_type": "code",
   "execution_count": 106,
   "metadata": {},
   "outputs": [
    {
     "name": "stdout",
     "output_type": "stream",
     "text": [
      "[150 200 230 180 210 170 190 160 180 160 150 160 180 170 190 150 160 150\n",
      " 170 160 180]\n",
      "(array([0, 0, 0, 0, 0, 0, 0, 0, 0, 0, 0, 2, 2, 2, 2, 2, 2, 3, 3, 3, 3]), array([0, 0, 0, 0, 0, 1, 1, 1, 1, 2, 2, 0, 0, 0, 0, 1, 1, 0, 0, 0, 0]), array([1, 2, 3, 4, 5, 2, 3, 4, 5, 2, 5, 2, 3, 4, 5, 3, 5, 2, 3, 4, 5]))\n",
      "1지점 사과, 2월\n",
      "1지점 사과, 3월\n",
      "1지점 사과, 4월\n",
      "1지점 사과, 5월\n",
      "1지점 사과, 6월\n",
      "1지점 바나나, 3월\n",
      "1지점 바나나, 4월\n",
      "1지점 바나나, 5월\n",
      "1지점 바나나, 6월\n",
      "1지점 오렌지, 3월\n",
      "1지점 오렌지, 6월\n",
      "3지점 사과, 3월\n",
      "3지점 사과, 4월\n",
      "3지점 사과, 5월\n",
      "3지점 사과, 6월\n",
      "3지점 바나나, 4월\n",
      "3지점 바나나, 6월\n",
      "4지점 사과, 3월\n",
      "4지점 사과, 4월\n",
      "4지점 사과, 5월\n",
      "4지점 사과, 6월\n"
     ]
    }
   ],
   "source": [
    "#4. 각 지점에서 판매량이 150개 이상인 데이터를 추출하고 그에 해당하는 지점과 과일을 출력하세요.\n",
    "# print(sales_data[sales_data > 150])\n",
    "\n",
    "# print(sales_data[0][0][0])\n",
    "# for i in range(5):\n",
    "#     for j in range(3):\n",
    "#         for k in range(6):\n",
    "#             if sales_data[i][j][k] >= 150:\n",
    "#                 print(f\"{i}지점 {j+1}번 과일은 {sales_data[i][j][k]}개 입니다.\")\n",
    "\n",
    "# T\n",
    "high_sales_data = sales_data[sales_data >= 150]\n",
    "print(high_sales_data)\n",
    "\n",
    "high_sales_idx = np.where(sales_data >= 150) # 배열이 순서대로 0번 1번 2번 배열로 들어감\n",
    "print(high_sales_idx)\n",
    "\n",
    "for i in range(len(high_sales_idx[0])):\n",
    "    spot = high_sales_idx[0][i] + 1\n",
    "    fruit = high_sales_idx[1][i]\n",
    "    fruit = [\"사과\", \"바나나\", \"오렌지\"][fruit]     # ndarray를 찾을 때는 별도로 명칭을 넣을 수 없어서 따로 명칭을 추가해줘야한다.\n",
    "    month = high_sales_idx[2][i] + 1\n",
    "    print(f\"{spot}지점 {fruit}, {month}월\")"
   ]
  }
 ],
 "metadata": {
  "kernelspec": {
   "display_name": "Python 3",
   "language": "python",
   "name": "python3"
  },
  "language_info": {
   "codemirror_mode": {
    "name": "ipython",
    "version": 3
   },
   "file_extension": ".py",
   "mimetype": "text/x-python",
   "name": "python",
   "nbconvert_exporter": "python",
   "pygments_lexer": "ipython3",
   "version": "3.13.1"
  }
 },
 "nbformat": 4,
 "nbformat_minor": 2
}
