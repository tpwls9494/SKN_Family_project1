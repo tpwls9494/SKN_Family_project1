{
 "cells": [
  {
   "cell_type": "markdown",
   "metadata": {},
   "source": [
    "# 앙상블 (Ensemble)\n",
    "- 다양한 모델을 결합하여 예측 성능을 향상시키는 방법\n",
    "- 투표(Voting), 배깅(Bagging), 부스팅(Boosting), 스태킹(Stacking) 네 가지로 구분"
   ]
  },
  {
   "cell_type": "code",
   "execution_count": 1,
   "metadata": {},
   "outputs": [],
   "source": [
    "import numpy as np\n",
    "import pandas as pd\n",
    "import matplotlib.pyplot as plt\n",
    "import seaborn as sns"
   ]
  },
  {
   "cell_type": "code",
   "execution_count": 11,
   "metadata": {},
   "outputs": [],
   "source": [
    "import warnings\n",
    "warnings.filterwarnings('ignore')"
   ]
  },
  {
   "cell_type": "markdown",
   "metadata": {},
   "source": [
    "### Voting\n",
    "- hard voting: 여러 개의 예측치에 대해 다수결로 결정\n",
    "- soft voting: 여러 개의 예측 확률을 평균내어 결정"
   ]
  },
  {
   "cell_type": "code",
   "execution_count": 5,
   "metadata": {},
   "outputs": [
    {
     "name": "stdout",
     "output_type": "stream",
     "text": [
      "<class 'pandas.core.frame.DataFrame'>\n",
      "RangeIndex: 569 entries, 0 to 568\n",
      "Data columns (total 31 columns):\n",
      " #   Column                   Non-Null Count  Dtype  \n",
      "---  ------                   --------------  -----  \n",
      " 0   mean radius              569 non-null    float64\n",
      " 1   mean texture             569 non-null    float64\n",
      " 2   mean perimeter           569 non-null    float64\n",
      " 3   mean area                569 non-null    float64\n",
      " 4   mean smoothness          569 non-null    float64\n",
      " 5   mean compactness         569 non-null    float64\n",
      " 6   mean concavity           569 non-null    float64\n",
      " 7   mean concave points      569 non-null    float64\n",
      " 8   mean symmetry            569 non-null    float64\n",
      " 9   mean fractal dimension   569 non-null    float64\n",
      " 10  radius error             569 non-null    float64\n",
      " 11  texture error            569 non-null    float64\n",
      " 12  perimeter error          569 non-null    float64\n",
      " 13  area error               569 non-null    float64\n",
      " 14  smoothness error         569 non-null    float64\n",
      " 15  compactness error        569 non-null    float64\n",
      " 16  concavity error          569 non-null    float64\n",
      " 17  concave points error     569 non-null    float64\n",
      " 18  symmetry error           569 non-null    float64\n",
      " 19  fractal dimension error  569 non-null    float64\n",
      " 20  worst radius             569 non-null    float64\n",
      " 21  worst texture            569 non-null    float64\n",
      " 22  worst perimeter          569 non-null    float64\n",
      " 23  worst area               569 non-null    float64\n",
      " 24  worst smoothness         569 non-null    float64\n",
      " 25  worst compactness        569 non-null    float64\n",
      " 26  worst concavity          569 non-null    float64\n",
      " 27  worst concave points     569 non-null    float64\n",
      " 28  worst symmetry           569 non-null    float64\n",
      " 29  worst fractal dimension  569 non-null    float64\n",
      " 30  target                   569 non-null    int64  \n",
      "dtypes: float64(30), int64(1)\n",
      "memory usage: 137.9 KB\n"
     ]
    }
   ],
   "source": [
    "from sklearn.datasets import load_breast_cancer\n",
    "\n",
    "data = load_breast_cancer()\n",
    "\n",
    "df = pd.DataFrame(data.data, columns=data.feature_names)\n",
    "df['target'] = data.target\n",
    "df.info()"
   ]
  },
  {
   "cell_type": "code",
   "execution_count": 6,
   "metadata": {},
   "outputs": [
    {
     "data": {
      "text/plain": [
       "target\n",
       "1    357\n",
       "0    212\n",
       "Name: count, dtype: int64"
      ]
     },
     "execution_count": 6,
     "metadata": {},
     "output_type": "execute_result"
    }
   ],
   "source": [
    "df['target'].value_counts()"
   ]
  },
  {
   "cell_type": "code",
   "execution_count": 8,
   "metadata": {},
   "outputs": [],
   "source": [
    "# 데이터 준비 (분리)\n",
    "from sklearn.model_selection import train_test_split\n",
    "\n",
    "x = data.data\n",
    "y = data.target\n",
    "\n",
    "x_train, x_test, y_train, y_test = train_test_split(x, y, test_size=0.2, random_state=0)"
   ]
  },
  {
   "cell_type": "markdown",
   "metadata": {},
   "source": [
    "### hard voting"
   ]
  },
  {
   "cell_type": "code",
   "execution_count": 17,
   "metadata": {},
   "outputs": [
    {
     "name": "stdout",
     "output_type": "stream",
     "text": [
      "학습 정수: 0.9714285714285714\n",
      "테스트 평가 점수: 0.956140350877193\n"
     ]
    }
   ],
   "source": [
    "from sklearn.neighbors import KNeighborsClassifier\n",
    "from sklearn.linear_model import LogisticRegression\n",
    "from sklearn.tree import DecisionTreeClassifier\n",
    "from sklearn.ensemble import VotingClassifier\n",
    "from sklearn.metrics import accuracy_score\n",
    "\n",
    "knn_clf = KNeighborsClassifier()\n",
    "lr_clf = LogisticRegression()\n",
    "dt_clf = DecisionTreeClassifier()\n",
    "\n",
    "voting_clf = VotingClassifier(\n",
    "    estimators=[\n",
    "        ('knn_clf', knn_clf),\n",
    "        ('lr_clf', lr_clf),\n",
    "        ('dt_clf', dt_clf)    \n",
    "    ],\n",
    "    voting='hard'    # 기본값\n",
    ")\n",
    "\n",
    "# 앙상블 모델 학습\n",
    "voting_clf.fit(x_train, y_train)\n",
    "\n",
    "# 예측 및 평가\n",
    "y_pred_train = voting_clf.predict(x_train)\n",
    "acc_score_train = accuracy_score(y_train, y_pred_train)\n",
    "print('학습 정수:', acc_score_train)\n",
    "\n",
    "y_pred_test = voting_clf.predict(x_test)\n",
    "acc_score_test = accuracy_score(y_test, y_pred_test)\n",
    "print('테스트 평가 점수:', acc_score_test)"
   ]
  },
  {
   "cell_type": "code",
   "execution_count": 19,
   "metadata": {},
   "outputs": [
    {
     "name": "stdout",
     "output_type": "stream",
     "text": [
      "앙상블 예측값: [0 1 0 1 0 0 1 1 1 0]\n",
      "KNeighborsClassifier 개별 정확도: 0.9386\n",
      "KNeighborsClassifier 예측값: [0 1 0 1 0 0 1 1 1 0]\n",
      "LogisticRegression 개별 정확도: 0.9649\n",
      "LogisticRegression 예측값: [0 1 0 1 0 0 1 1 1 0]\n",
      "DecisionTreeClassifier 개별 정확도: 0.8947\n",
      "DecisionTreeClassifier 예측값: [0 1 0 1 0 0 1 1 1 0]\n"
     ]
    }
   ],
   "source": [
    "# hard voting 작동 원리 == 다수결\n",
    "start, end = 40, 50\n",
    "\n",
    "voting_clf_pred = voting_clf.predict(x_test[start:end])\n",
    "print('앙상블 예측값:', voting_clf_pred)\n",
    "\n",
    "for classfier in [knn_clf, lr_clf, dt_clf]:\n",
    "    # 개별 학습 및 예측\n",
    "    classfier.fit(x_train, y_train)\n",
    "    pred = classfier.predict(x_test)\n",
    "    acc_score = accuracy_score(y_test, pred)\n",
    "\n",
    "    class_name = classfier.__class__.__name__       # 클래스의 이름 속성\n",
    "    print(f'{class_name} 개별 정확도: {acc_score:.4f}')\n",
    "    print(f'{class_name} 예측값: {pred[start:end]}')"
   ]
  },
  {
   "cell_type": "markdown",
   "metadata": {},
   "source": [
    "### soft voting"
   ]
  },
  {
   "cell_type": "code",
   "execution_count": 40,
   "metadata": {},
   "outputs": [
    {
     "name": "stdout",
     "output_type": "stream",
     "text": [
      "학습 정수: 0.989010989010989\n",
      "테스트 평가 점수: 0.9649122807017544\n"
     ]
    }
   ],
   "source": [
    "from sklearn.neighbors import KNeighborsClassifier\n",
    "from sklearn.linear_model import LogisticRegression\n",
    "from sklearn.tree import DecisionTreeClassifier\n",
    "from sklearn.ensemble import VotingClassifier\n",
    "from sklearn.metrics import accuracy_score\n",
    "\n",
    "knn_clf = KNeighborsClassifier()\n",
    "lr_clf = LogisticRegression()\n",
    "dt_clf = DecisionTreeClassifier(random_state=0)\n",
    "\n",
    "voting_clf = VotingClassifier(\n",
    "    estimators=[\n",
    "        ('knn_clf', knn_clf),\n",
    "        ('lr_clf', lr_clf),\n",
    "        ('dt_clf', dt_clf)    \n",
    "    ],\n",
    "    voting='soft'    # 기본값\n",
    ")\n",
    "\n",
    "# 앙상블 모델 학습\n",
    "voting_clf.fit(x_train, y_train)\n",
    "\n",
    "# 예측 및 평가\n",
    "y_pred_train = voting_clf.predict(x_train)\n",
    "acc_score_train = accuracy_score(y_train, y_pred_train)\n",
    "print('학습 정수:', acc_score_train)\n",
    "\n",
    "y_pred_test = voting_clf.predict(x_test)\n",
    "acc_score_test = accuracy_score(y_test, y_pred_test)\n",
    "print('테스트 평가 점수:', acc_score_test)"
   ]
  },
  {
   "cell_type": "code",
   "execution_count": null,
   "metadata": {},
   "outputs": [
    {
     "name": "stdout",
     "output_type": "stream",
     "text": [
      "앙상블 예측값: [[5.77219228e-01 4.22780772e-01]\n",
      " [6.81827764e-04 9.99318172e-01]\n",
      " [9.99526759e-01 4.73241064e-04]\n",
      " [2.77579326e-04 9.99722421e-01]\n",
      " [9.00069906e-01 9.99300938e-02]\n",
      " [1.00000000e+00 1.59599463e-13]\n",
      " [6.74633161e-05 9.99932537e-01]\n",
      " [1.53322319e-02 9.84667768e-01]\n",
      " [9.19791079e-04 9.99080209e-01]\n",
      " [9.99839494e-01 1.60506219e-04]]\n",
      "KNeighborsClassifier 개별 정확도: 0.9386\n",
      "KNeighborsClassifier 예측값: [0 1 0 1 0 0 1 1 1 0]\n",
      "LogisticRegression 개별 정확도: 0.9649\n",
      "LogisticRegression 예측값: [0 1 0 1 0 0 1 1 1 0]\n",
      "DecisionTreeClassifier 개별 정확도: 0.9123\n",
      "DecisionTreeClassifier 예측값: [1 1 0 1 0 0 1 1 1 0]\n"
     ]
    }
   ],
   "source": [
    "# soft voting 작동 원리 == 각 예측가의 확률값 평균\n",
    "\n",
    "start, end = 40, 50\n",
    "\n",
    "voting_clf_pred_proba = voting_clf.predict_proba(x_test[start:end])\n",
    "print('앙상블 예측값:', voting_clf_pred_proba)\n",
    "\n",
    "for classfier in [knn_clf, lr_clf, dt_clf]:\n",
    "    # 개별 학습 및 예측\n",
    "    classfier.fit(x_train, y_train)                                                             \n",
    "    \n",
    "    pred = classfier.predict(x_test)\n",
    "    acc_score = accuracy_score(y_test, pred)\n",
    "    pred_proba = classfier.predict_proba(x_test[start:end])\n",
    "\n",
    "    class_name = classfier.__class__.__name__       # 클래스의 이름 속성\n",
    "    print(f'{class_name} 개별 정확도: {acc_score:.4f}')\n",
    "    print(f'{class_name} 예측값: {pred[start:end]}')"
   ]
  },
  {
   "cell_type": "markdown",
   "metadata": {},
   "source": [
    "### Bagging\n",
    "- Bootstrap Aggregation\n",
    "- Bootstrap 방식의 샘플링: 각 estimator 마다 훈련 데이터를 뽑을 때, 중복 값이 허용하는 방식\n",
    "- 분류 모델의 경우, 각 tree(estimator)의 예측값을 다수결(hard voting) 결정\n",
    "- 회구 모델의 경우, 각 tree(estimator)의 예측값을 평균내어 결정\n",
    "- 기본적으로 100개의 tree 사용"
   ]
  },
  {
   "cell_type": "markdown",
   "metadata": {},
   "source": [
    "##### 하이퍼 파라미터"
   ]
  },
  {
   "cell_type": "code",
   "execution_count": 44,
   "metadata": {},
   "outputs": [
    {
     "name": "stdout",
     "output_type": "stream",
     "text": [
      "학습 점수: 1.0\n",
      "테스트 평가 점수: 0.9649122807017544\n"
     ]
    }
   ],
   "source": [
    "from sklearn.ensemble import RandomForestClassifier\n",
    "\n",
    "rf_clf = RandomForestClassifier(n_estimators=100, random_state=0)\n",
    "\n",
    "# 학습\n",
    "rf_clf.fit(x_train, y_train)\n",
    "\n",
    "y_pred_train = rf_clf.predict(x_train)\n",
    "acc_score_train = accuracy_score(y_train, y_pred_train)\n",
    "print('학습 점수:', acc_score_train)\n",
    "\n",
    "y_pred_test = rf_clf.predict(x_test)\n",
    "acc_score_test = accuracy_score(y_test, y_pred_test)\n",
    "print('테스트 평가 점수:', acc_score_test)\n"
   ]
  }
 ],
 "metadata": {
  "kernelspec": {
   "display_name": "Python 3",
   "language": "python",
   "name": "python3"
  },
  "language_info": {
   "codemirror_mode": {
    "name": "ipython",
    "version": 3
   },
   "file_extension": ".py",
   "mimetype": "text/x-python",
   "name": "python",
   "nbconvert_exporter": "python",
   "pygments_lexer": "ipython3",
   "version": "3.13.1"
  }
 },
 "nbformat": 4,
 "nbformat_minor": 2
}
