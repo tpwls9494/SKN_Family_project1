{
 "cells": [
  {
   "cell_type": "markdown",
   "id": "5e078b5f",
   "metadata": {
    "papermill": {
     "duration": 0.011975,
     "end_time": "2025-01-21T08:20:04.961410",
     "exception": false,
     "start_time": "2025-01-21T08:20:04.949435",
     "status": "completed"
    },
    "tags": []
   },
   "source": [
    "## Introduction"
   ]
  },
  {
   "cell_type": "markdown",
   "id": "5b61038a",
   "metadata": {
    "papermill": {
     "duration": 0.01098,
     "end_time": "2025-01-21T08:20:04.983683",
     "exception": false,
     "start_time": "2025-01-21T08:20:04.972703",
     "status": "completed"
    },
    "tags": []
   },
   "source": [
    "This project explores the intricate relationships between Pokémon attributes and their primary and secondary typings by leveraging machine learning techniques. By analyzing a rich dataset containing features such as base stats, type defenses, and statuses, we sought to uncover patterns in type distributions and associations, highlighting the strategic design choices within the Pokémon universe.\n",
    "\n",
    "To achieve this, we developed a predictive model capable of accurately identifying Pokémon typings based on their attributes. Using a random forest algorithm, the model achieved a remarkable accuracy of 93.78% for primary typings and 94.26% for secondary typings, demonstrating its effectiveness in capturing the complex interplay of features.\n",
    "\n",
    "To make these insights accessible and actionable, we implemented the model into a web application built with React and Flask. The application provides an intuitive interface for users to input Pokémon and receive effective recommendations for battles, showcasing the practical potential of combining machine learning with interactive web technologies.\n",
    "\n",
    "Link to Project: <https://github.com/vinukranaweera/pokemon-recommender>\n",
    "\n",
    "Link to Demo: <https://pokemon-recommender.vercel.app/>"
   ]
  },
  {
   "cell_type": "markdown",
   "id": "1ac96671",
   "metadata": {
    "papermill": {
     "duration": 0.010661,
     "end_time": "2025-01-21T08:20:05.005592",
     "exception": false,
     "start_time": "2025-01-21T08:20:04.994931",
     "status": "completed"
    },
    "tags": []
   },
   "source": [
    "## Import Libraries"
   ]
  },
  {
   "cell_type": "code",
   "execution_count": 1,
   "id": "f5705f85",
   "metadata": {
    "execution": {
     "iopub.execute_input": "2025-01-21T08:20:05.029602Z",
     "iopub.status.busy": "2025-01-21T08:20:05.029219Z",
     "iopub.status.idle": "2025-01-21T08:20:08.129072Z",
     "shell.execute_reply": "2025-01-21T08:20:08.128158Z"
    },
    "papermill": {
     "duration": 3.113818,
     "end_time": "2025-01-21T08:20:08.130924",
     "exception": false,
     "start_time": "2025-01-21T08:20:05.017106",
     "status": "completed"
    },
    "tags": []
   },
   "outputs": [],
   "source": [
    "import pandas as pd\n",
    "import numpy as np\n",
    "import matplotlib.pyplot as plt\n",
    "import random\n",
    "import seaborn as sns\n",
    "sns.set_theme()\n",
    "\n",
    "from sklearn.model_selection import train_test_split\n",
    "from sklearn.ensemble import RandomForestClassifier\n",
    "from sklearn.metrics import accuracy_score, classification_report\n",
    "\n",
    "# Ignore warnings\n",
    "import warnings\n",
    "warnings.filterwarnings('ignore')"
   ]
  },
  {
   "cell_type": "markdown",
   "id": "ebbe349f",
   "metadata": {
    "papermill": {
     "duration": 0.010973,
     "end_time": "2025-01-21T08:20:08.153520",
     "exception": false,
     "start_time": "2025-01-21T08:20:08.142547",
     "status": "completed"
    },
    "tags": []
   },
   "source": [
    "## Loading the Dataset"
   ]
  },
  {
   "cell_type": "code",
   "execution_count": 2,
   "id": "c32e74cd",
   "metadata": {
    "execution": {
     "iopub.execute_input": "2025-01-21T08:20:08.177398Z",
     "iopub.status.busy": "2025-01-21T08:20:08.176879Z",
     "iopub.status.idle": "2025-01-21T08:20:08.212941Z",
     "shell.execute_reply": "2025-01-21T08:20:08.211841Z"
    },
    "papermill": {
     "duration": 0.050275,
     "end_time": "2025-01-21T08:20:08.214875",
     "exception": false,
     "start_time": "2025-01-21T08:20:08.164600",
     "status": "completed"
    },
    "tags": []
   },
   "outputs": [],
   "source": [
    "pokemon_df = pd.read_csv('/kaggle/input/pokemon-data-gen-i-to-gen-viii/pokedex_data.csv')"
   ]
  },
  {
   "cell_type": "code",
   "execution_count": 3,
   "id": "eeb1886f",
   "metadata": {
    "execution": {
     "iopub.execute_input": "2025-01-21T08:20:08.238615Z",
     "iopub.status.busy": "2025-01-21T08:20:08.238265Z",
     "iopub.status.idle": "2025-01-21T08:20:08.278721Z",
     "shell.execute_reply": "2025-01-21T08:20:08.277659Z"
    },
    "papermill": {
     "duration": 0.054318,
     "end_time": "2025-01-21T08:20:08.280544",
     "exception": false,
     "start_time": "2025-01-21T08:20:08.226226",
     "status": "completed"
    },
    "tags": []
   },
   "outputs": [
    {
     "data": {
      "text/html": [
       "<div>\n",
       "<style scoped>\n",
       "    .dataframe tbody tr th:only-of-type {\n",
       "        vertical-align: middle;\n",
       "    }\n",
       "\n",
       "    .dataframe tbody tr th {\n",
       "        vertical-align: top;\n",
       "    }\n",
       "\n",
       "    .dataframe thead th {\n",
       "        text-align: right;\n",
       "    }\n",
       "</style>\n",
       "<table border=\"1\" class=\"dataframe\">\n",
       "  <thead>\n",
       "    <tr style=\"text-align: right;\">\n",
       "      <th></th>\n",
       "      <th>Unnamed: 0</th>\n",
       "      <th>pokedex_number</th>\n",
       "      <th>name</th>\n",
       "      <th>german_name</th>\n",
       "      <th>japanese_name</th>\n",
       "      <th>generation</th>\n",
       "      <th>status</th>\n",
       "      <th>species</th>\n",
       "      <th>type_number</th>\n",
       "      <th>type_1</th>\n",
       "      <th>...</th>\n",
       "      <th>against_ground</th>\n",
       "      <th>against_flying</th>\n",
       "      <th>against_psychic</th>\n",
       "      <th>against_bug</th>\n",
       "      <th>against_rock</th>\n",
       "      <th>against_ghost</th>\n",
       "      <th>against_dragon</th>\n",
       "      <th>against_dark</th>\n",
       "      <th>against_steel</th>\n",
       "      <th>against_fairy</th>\n",
       "    </tr>\n",
       "  </thead>\n",
       "  <tbody>\n",
       "    <tr>\n",
       "      <th>0</th>\n",
       "      <td>0</td>\n",
       "      <td>1</td>\n",
       "      <td>Bulbasaur</td>\n",
       "      <td>Bisasam</td>\n",
       "      <td>フシギダネ (Fushigidane)</td>\n",
       "      <td>1</td>\n",
       "      <td>Normal</td>\n",
       "      <td>Seed Pokémon</td>\n",
       "      <td>2</td>\n",
       "      <td>Grass</td>\n",
       "      <td>...</td>\n",
       "      <td>1.0</td>\n",
       "      <td>2.0</td>\n",
       "      <td>2.0</td>\n",
       "      <td>1.0</td>\n",
       "      <td>1.0</td>\n",
       "      <td>1.0</td>\n",
       "      <td>1.0</td>\n",
       "      <td>1.0</td>\n",
       "      <td>1.0</td>\n",
       "      <td>0.5</td>\n",
       "    </tr>\n",
       "    <tr>\n",
       "      <th>1</th>\n",
       "      <td>1</td>\n",
       "      <td>2</td>\n",
       "      <td>Ivysaur</td>\n",
       "      <td>Bisaknosp</td>\n",
       "      <td>フシギソウ (Fushigisou)</td>\n",
       "      <td>1</td>\n",
       "      <td>Normal</td>\n",
       "      <td>Seed Pokémon</td>\n",
       "      <td>2</td>\n",
       "      <td>Grass</td>\n",
       "      <td>...</td>\n",
       "      <td>1.0</td>\n",
       "      <td>2.0</td>\n",
       "      <td>2.0</td>\n",
       "      <td>1.0</td>\n",
       "      <td>1.0</td>\n",
       "      <td>1.0</td>\n",
       "      <td>1.0</td>\n",
       "      <td>1.0</td>\n",
       "      <td>1.0</td>\n",
       "      <td>0.5</td>\n",
       "    </tr>\n",
       "    <tr>\n",
       "      <th>2</th>\n",
       "      <td>2</td>\n",
       "      <td>3</td>\n",
       "      <td>Venusaur</td>\n",
       "      <td>Bisaflor</td>\n",
       "      <td>フシギバナ (Fushigibana)</td>\n",
       "      <td>1</td>\n",
       "      <td>Normal</td>\n",
       "      <td>Seed Pokémon</td>\n",
       "      <td>2</td>\n",
       "      <td>Grass</td>\n",
       "      <td>...</td>\n",
       "      <td>1.0</td>\n",
       "      <td>2.0</td>\n",
       "      <td>2.0</td>\n",
       "      <td>1.0</td>\n",
       "      <td>1.0</td>\n",
       "      <td>1.0</td>\n",
       "      <td>1.0</td>\n",
       "      <td>1.0</td>\n",
       "      <td>1.0</td>\n",
       "      <td>0.5</td>\n",
       "    </tr>\n",
       "    <tr>\n",
       "      <th>3</th>\n",
       "      <td>3</td>\n",
       "      <td>3</td>\n",
       "      <td>Mega Venusaur</td>\n",
       "      <td>Bisaflor</td>\n",
       "      <td>フシギバナ (Fushigibana)</td>\n",
       "      <td>1</td>\n",
       "      <td>Normal</td>\n",
       "      <td>Seed Pokémon</td>\n",
       "      <td>2</td>\n",
       "      <td>Grass</td>\n",
       "      <td>...</td>\n",
       "      <td>1.0</td>\n",
       "      <td>2.0</td>\n",
       "      <td>2.0</td>\n",
       "      <td>1.0</td>\n",
       "      <td>1.0</td>\n",
       "      <td>1.0</td>\n",
       "      <td>1.0</td>\n",
       "      <td>1.0</td>\n",
       "      <td>1.0</td>\n",
       "      <td>0.5</td>\n",
       "    </tr>\n",
       "    <tr>\n",
       "      <th>4</th>\n",
       "      <td>4</td>\n",
       "      <td>4</td>\n",
       "      <td>Charmander</td>\n",
       "      <td>Glumanda</td>\n",
       "      <td>ヒトカゲ (Hitokage)</td>\n",
       "      <td>1</td>\n",
       "      <td>Normal</td>\n",
       "      <td>Lizard Pokémon</td>\n",
       "      <td>1</td>\n",
       "      <td>Fire</td>\n",
       "      <td>...</td>\n",
       "      <td>2.0</td>\n",
       "      <td>1.0</td>\n",
       "      <td>1.0</td>\n",
       "      <td>0.5</td>\n",
       "      <td>2.0</td>\n",
       "      <td>1.0</td>\n",
       "      <td>1.0</td>\n",
       "      <td>1.0</td>\n",
       "      <td>0.5</td>\n",
       "      <td>0.5</td>\n",
       "    </tr>\n",
       "  </tbody>\n",
       "</table>\n",
       "<p>5 rows × 51 columns</p>\n",
       "</div>"
      ],
      "text/plain": [
       "   Unnamed: 0  pokedex_number           name german_name        japanese_name  \\\n",
       "0           0               1      Bulbasaur     Bisasam  フシギダネ (Fushigidane)   \n",
       "1           1               2        Ivysaur   Bisaknosp   フシギソウ (Fushigisou)   \n",
       "2           2               3       Venusaur    Bisaflor  フシギバナ (Fushigibana)   \n",
       "3           3               3  Mega Venusaur    Bisaflor  フシギバナ (Fushigibana)   \n",
       "4           4               4     Charmander    Glumanda      ヒトカゲ (Hitokage)   \n",
       "\n",
       "   generation  status         species  type_number type_1  ... against_ground  \\\n",
       "0           1  Normal    Seed Pokémon            2  Grass  ...            1.0   \n",
       "1           1  Normal    Seed Pokémon            2  Grass  ...            1.0   \n",
       "2           1  Normal    Seed Pokémon            2  Grass  ...            1.0   \n",
       "3           1  Normal    Seed Pokémon            2  Grass  ...            1.0   \n",
       "4           1  Normal  Lizard Pokémon            1   Fire  ...            2.0   \n",
       "\n",
       "   against_flying  against_psychic  against_bug against_rock against_ghost  \\\n",
       "0             2.0              2.0          1.0          1.0           1.0   \n",
       "1             2.0              2.0          1.0          1.0           1.0   \n",
       "2             2.0              2.0          1.0          1.0           1.0   \n",
       "3             2.0              2.0          1.0          1.0           1.0   \n",
       "4             1.0              1.0          0.5          2.0           1.0   \n",
       "\n",
       "  against_dragon  against_dark  against_steel  against_fairy  \n",
       "0            1.0           1.0            1.0            0.5  \n",
       "1            1.0           1.0            1.0            0.5  \n",
       "2            1.0           1.0            1.0            0.5  \n",
       "3            1.0           1.0            1.0            0.5  \n",
       "4            1.0           1.0            0.5            0.5  \n",
       "\n",
       "[5 rows x 51 columns]"
      ]
     },
     "execution_count": 3,
     "metadata": {},
     "output_type": "execute_result"
    }
   ],
   "source": [
    "pokemon_df.head()"
   ]
  },
  {
   "cell_type": "code",
   "execution_count": 4,
   "id": "0b50fef6",
   "metadata": {
    "execution": {
     "iopub.execute_input": "2025-01-21T08:20:08.305540Z",
     "iopub.status.busy": "2025-01-21T08:20:08.305152Z",
     "iopub.status.idle": "2025-01-21T08:20:08.327607Z",
     "shell.execute_reply": "2025-01-21T08:20:08.326375Z"
    },
    "papermill": {
     "duration": 0.03683,
     "end_time": "2025-01-21T08:20:08.329401",
     "exception": false,
     "start_time": "2025-01-21T08:20:08.292571",
     "status": "completed"
    },
    "tags": []
   },
   "outputs": [
    {
     "name": "stdout",
     "output_type": "stream",
     "text": [
      "<class 'pandas.core.frame.DataFrame'>\n",
      "RangeIndex: 1045 entries, 0 to 1044\n",
      "Data columns (total 51 columns):\n",
      " #   Column            Non-Null Count  Dtype  \n",
      "---  ------            --------------  -----  \n",
      " 0   Unnamed: 0        1045 non-null   int64  \n",
      " 1   pokedex_number    1045 non-null   int64  \n",
      " 2   name              1045 non-null   object \n",
      " 3   german_name       1045 non-null   object \n",
      " 4   japanese_name     1045 non-null   object \n",
      " 5   generation        1045 non-null   int64  \n",
      " 6   status            1045 non-null   object \n",
      " 7   species           1045 non-null   object \n",
      " 8   type_number       1045 non-null   int64  \n",
      " 9   type_1            1045 non-null   object \n",
      " 10  type_2            553 non-null    object \n",
      " 11  height_m          1045 non-null   float64\n",
      " 12  weight_kg         1044 non-null   float64\n",
      " 13  abilities_number  1045 non-null   int64  \n",
      " 14  ability_1         1042 non-null   object \n",
      " 15  ability_2         516 non-null    object \n",
      " 16  ability_hidden    813 non-null    object \n",
      " 17  total_points      1045 non-null   int64  \n",
      " 18  hp                1045 non-null   int64  \n",
      " 19  attack            1045 non-null   int64  \n",
      " 20  defense           1045 non-null   int64  \n",
      " 21  sp_attack         1045 non-null   int64  \n",
      " 22  sp_defense        1045 non-null   int64  \n",
      " 23  speed             1045 non-null   int64  \n",
      " 24  catch_rate        1027 non-null   float64\n",
      " 25  base_friendship   930 non-null    float64\n",
      " 26  base_experience   925 non-null    float64\n",
      " 27  growth_rate       1044 non-null   object \n",
      " 28  egg_type_number   1045 non-null   int64  \n",
      " 29  egg_type_1        1042 non-null   object \n",
      " 30  egg_type_2        285 non-null    object \n",
      " 31  percentage_male   872 non-null    float64\n",
      " 32  egg_cycles        1044 non-null   float64\n",
      " 33  against_normal    1045 non-null   float64\n",
      " 34  against_fire      1045 non-null   float64\n",
      " 35  against_water     1045 non-null   float64\n",
      " 36  against_electric  1045 non-null   float64\n",
      " 37  against_grass     1045 non-null   float64\n",
      " 38  against_ice       1045 non-null   float64\n",
      " 39  against_fight     1045 non-null   float64\n",
      " 40  against_poison    1045 non-null   float64\n",
      " 41  against_ground    1045 non-null   float64\n",
      " 42  against_flying    1045 non-null   float64\n",
      " 43  against_psychic   1045 non-null   float64\n",
      " 44  against_bug       1045 non-null   float64\n",
      " 45  against_rock      1045 non-null   float64\n",
      " 46  against_ghost     1045 non-null   float64\n",
      " 47  against_dragon    1045 non-null   float64\n",
      " 48  against_dark      1045 non-null   float64\n",
      " 49  against_steel     1045 non-null   float64\n",
      " 50  against_fairy     1045 non-null   float64\n",
      "dtypes: float64(25), int64(13), object(13)\n",
      "memory usage: 416.5+ KB\n"
     ]
    }
   ],
   "source": [
    "pokemon_df.info()"
   ]
  },
  {
   "cell_type": "markdown",
   "id": "516a2ee5",
   "metadata": {
    "papermill": {
     "duration": 0.011589,
     "end_time": "2025-01-21T08:20:08.353085",
     "exception": false,
     "start_time": "2025-01-21T08:20:08.341496",
     "status": "completed"
    },
    "tags": []
   },
   "source": [
    "**Observations**\n",
    "\n",
    "* The dataset includes several fields that will be relevant towards training our predictive models: \n",
    "    - Name of the Pokemon\n",
    "    - Status of the Pokemon: Normal, Mythical, Sub-legendary, Legendary\n",
    "    - Secondary Typing (type_2)\n",
    "    - Base/Total Stats (HP, Attack, Defense, etc.)\n",
    "    - Type Defenses (against_normal, against_fighting)\n"
   ]
  },
  {
   "cell_type": "code",
   "execution_count": 5,
   "id": "c4b5293b",
   "metadata": {
    "execution": {
     "iopub.execute_input": "2025-01-21T08:20:08.377969Z",
     "iopub.status.busy": "2025-01-21T08:20:08.377591Z",
     "iopub.status.idle": "2025-01-21T08:20:08.386388Z",
     "shell.execute_reply": "2025-01-21T08:20:08.385358Z"
    },
    "papermill": {
     "duration": 0.023256,
     "end_time": "2025-01-21T08:20:08.388137",
     "exception": false,
     "start_time": "2025-01-21T08:20:08.364881",
     "status": "completed"
    },
    "tags": []
   },
   "outputs": [
    {
     "data": {
      "text/plain": [
       "Unnamed: 0            0\n",
       "pokedex_number        0\n",
       "name                  0\n",
       "german_name           0\n",
       "japanese_name         0\n",
       "generation            0\n",
       "status                0\n",
       "species               0\n",
       "type_number           0\n",
       "type_1                0\n",
       "type_2              492\n",
       "height_m              0\n",
       "weight_kg             1\n",
       "abilities_number      0\n",
       "ability_1             3\n",
       "ability_2           529\n",
       "ability_hidden      232\n",
       "total_points          0\n",
       "hp                    0\n",
       "attack                0\n",
       "defense               0\n",
       "sp_attack             0\n",
       "sp_defense            0\n",
       "speed                 0\n",
       "catch_rate           18\n",
       "base_friendship     115\n",
       "base_experience     120\n",
       "growth_rate           1\n",
       "egg_type_number       0\n",
       "egg_type_1            3\n",
       "egg_type_2          760\n",
       "percentage_male     173\n",
       "egg_cycles            1\n",
       "against_normal        0\n",
       "against_fire          0\n",
       "against_water         0\n",
       "against_electric      0\n",
       "against_grass         0\n",
       "against_ice           0\n",
       "against_fight         0\n",
       "against_poison        0\n",
       "against_ground        0\n",
       "against_flying        0\n",
       "against_psychic       0\n",
       "against_bug           0\n",
       "against_rock          0\n",
       "against_ghost         0\n",
       "against_dragon        0\n",
       "against_dark          0\n",
       "against_steel         0\n",
       "against_fairy         0\n",
       "dtype: int64"
      ]
     },
     "execution_count": 5,
     "metadata": {},
     "output_type": "execute_result"
    }
   ],
   "source": [
    "pokemon_df.isnull().sum()"
   ]
  },
  {
   "cell_type": "markdown",
   "id": "84f332cd",
   "metadata": {
    "papermill": {
     "duration": 0.011897,
     "end_time": "2025-01-21T08:20:08.413011",
     "exception": false,
     "start_time": "2025-01-21T08:20:08.401114",
     "status": "completed"
    },
    "tags": []
   },
   "source": [
    "**Observations**\n",
    "\n",
    "* Most columns do not have null values such as the type defenses, stats, and generations.\n",
    "* Some necessary columns like type_2, ability_2, and ability_hidden have null values, which is reasonable because there are Pokémon that do not have a second typing or second ability. However, the null values will need be filled in.\n",
    "* Some unnecessary columns that may not be useful in predicting typing have null values such as egg_type, base_friendship, and base_experience. These columns will be removed."
   ]
  },
  {
   "cell_type": "code",
   "execution_count": 6,
   "id": "d9f582fb",
   "metadata": {
    "execution": {
     "iopub.execute_input": "2025-01-21T08:20:08.438046Z",
     "iopub.status.busy": "2025-01-21T08:20:08.437681Z",
     "iopub.status.idle": "2025-01-21T08:20:08.520250Z",
     "shell.execute_reply": "2025-01-21T08:20:08.519214Z"
    },
    "papermill": {
     "duration": 0.097222,
     "end_time": "2025-01-21T08:20:08.522118",
     "exception": false,
     "start_time": "2025-01-21T08:20:08.424896",
     "status": "completed"
    },
    "tags": []
   },
   "outputs": [
    {
     "data": {
      "text/html": [
       "<div>\n",
       "<style scoped>\n",
       "    .dataframe tbody tr th:only-of-type {\n",
       "        vertical-align: middle;\n",
       "    }\n",
       "\n",
       "    .dataframe tbody tr th {\n",
       "        vertical-align: top;\n",
       "    }\n",
       "\n",
       "    .dataframe thead th {\n",
       "        text-align: right;\n",
       "    }\n",
       "</style>\n",
       "<table border=\"1\" class=\"dataframe\">\n",
       "  <thead>\n",
       "    <tr style=\"text-align: right;\">\n",
       "      <th></th>\n",
       "      <th>Unnamed: 0</th>\n",
       "      <th>pokedex_number</th>\n",
       "      <th>generation</th>\n",
       "      <th>type_number</th>\n",
       "      <th>height_m</th>\n",
       "      <th>weight_kg</th>\n",
       "      <th>abilities_number</th>\n",
       "      <th>total_points</th>\n",
       "      <th>hp</th>\n",
       "      <th>attack</th>\n",
       "      <th>...</th>\n",
       "      <th>against_ground</th>\n",
       "      <th>against_flying</th>\n",
       "      <th>against_psychic</th>\n",
       "      <th>against_bug</th>\n",
       "      <th>against_rock</th>\n",
       "      <th>against_ghost</th>\n",
       "      <th>against_dragon</th>\n",
       "      <th>against_dark</th>\n",
       "      <th>against_steel</th>\n",
       "      <th>against_fairy</th>\n",
       "    </tr>\n",
       "  </thead>\n",
       "  <tbody>\n",
       "    <tr>\n",
       "      <th>count</th>\n",
       "      <td>1045.000000</td>\n",
       "      <td>1045.000000</td>\n",
       "      <td>1045.000000</td>\n",
       "      <td>1045.000000</td>\n",
       "      <td>1045.000000</td>\n",
       "      <td>1044.000000</td>\n",
       "      <td>1045.000000</td>\n",
       "      <td>1045.000000</td>\n",
       "      <td>1045.000000</td>\n",
       "      <td>1045.000000</td>\n",
       "      <td>...</td>\n",
       "      <td>1045.000000</td>\n",
       "      <td>1045.000000</td>\n",
       "      <td>1045.000000</td>\n",
       "      <td>1045.000000</td>\n",
       "      <td>1045.000000</td>\n",
       "      <td>1045.000000</td>\n",
       "      <td>1045.000000</td>\n",
       "      <td>1045.000000</td>\n",
       "      <td>1045.000000</td>\n",
       "      <td>1045.000000</td>\n",
       "    </tr>\n",
       "    <tr>\n",
       "      <th>mean</th>\n",
       "      <td>522.000000</td>\n",
       "      <td>440.769378</td>\n",
       "      <td>4.098565</td>\n",
       "      <td>1.529187</td>\n",
       "      <td>1.374067</td>\n",
       "      <td>71.216571</td>\n",
       "      <td>2.268900</td>\n",
       "      <td>439.353110</td>\n",
       "      <td>70.067943</td>\n",
       "      <td>80.476555</td>\n",
       "      <td>...</td>\n",
       "      <td>1.082297</td>\n",
       "      <td>1.168900</td>\n",
       "      <td>0.977273</td>\n",
       "      <td>0.998086</td>\n",
       "      <td>1.238278</td>\n",
       "      <td>1.018660</td>\n",
       "      <td>0.977033</td>\n",
       "      <td>1.071053</td>\n",
       "      <td>0.981579</td>\n",
       "      <td>1.091148</td>\n",
       "    </tr>\n",
       "    <tr>\n",
       "      <th>std</th>\n",
       "      <td>301.809819</td>\n",
       "      <td>262.517231</td>\n",
       "      <td>2.272788</td>\n",
       "      <td>0.499386</td>\n",
       "      <td>3.353349</td>\n",
       "      <td>132.259911</td>\n",
       "      <td>0.803154</td>\n",
       "      <td>121.992897</td>\n",
       "      <td>26.671411</td>\n",
       "      <td>32.432728</td>\n",
       "      <td>...</td>\n",
       "      <td>0.782683</td>\n",
       "      <td>0.592145</td>\n",
       "      <td>0.501934</td>\n",
       "      <td>0.610411</td>\n",
       "      <td>0.696560</td>\n",
       "      <td>0.568056</td>\n",
       "      <td>0.375812</td>\n",
       "      <td>0.465178</td>\n",
       "      <td>0.501753</td>\n",
       "      <td>0.536285</td>\n",
       "    </tr>\n",
       "    <tr>\n",
       "      <th>min</th>\n",
       "      <td>0.000000</td>\n",
       "      <td>1.000000</td>\n",
       "      <td>1.000000</td>\n",
       "      <td>1.000000</td>\n",
       "      <td>0.100000</td>\n",
       "      <td>0.100000</td>\n",
       "      <td>0.000000</td>\n",
       "      <td>175.000000</td>\n",
       "      <td>1.000000</td>\n",
       "      <td>5.000000</td>\n",
       "      <td>...</td>\n",
       "      <td>0.000000</td>\n",
       "      <td>0.250000</td>\n",
       "      <td>0.000000</td>\n",
       "      <td>0.000000</td>\n",
       "      <td>0.250000</td>\n",
       "      <td>0.000000</td>\n",
       "      <td>0.000000</td>\n",
       "      <td>0.250000</td>\n",
       "      <td>0.000000</td>\n",
       "      <td>0.000000</td>\n",
       "    </tr>\n",
       "    <tr>\n",
       "      <th>25%</th>\n",
       "      <td>261.000000</td>\n",
       "      <td>212.000000</td>\n",
       "      <td>2.000000</td>\n",
       "      <td>1.000000</td>\n",
       "      <td>0.600000</td>\n",
       "      <td>9.000000</td>\n",
       "      <td>2.000000</td>\n",
       "      <td>330.000000</td>\n",
       "      <td>50.000000</td>\n",
       "      <td>55.000000</td>\n",
       "      <td>...</td>\n",
       "      <td>0.500000</td>\n",
       "      <td>1.000000</td>\n",
       "      <td>1.000000</td>\n",
       "      <td>0.500000</td>\n",
       "      <td>1.000000</td>\n",
       "      <td>1.000000</td>\n",
       "      <td>1.000000</td>\n",
       "      <td>1.000000</td>\n",
       "      <td>0.500000</td>\n",
       "      <td>1.000000</td>\n",
       "    </tr>\n",
       "    <tr>\n",
       "      <th>50%</th>\n",
       "      <td>522.000000</td>\n",
       "      <td>436.000000</td>\n",
       "      <td>4.000000</td>\n",
       "      <td>2.000000</td>\n",
       "      <td>1.000000</td>\n",
       "      <td>29.500000</td>\n",
       "      <td>2.000000</td>\n",
       "      <td>458.000000</td>\n",
       "      <td>68.000000</td>\n",
       "      <td>77.000000</td>\n",
       "      <td>...</td>\n",
       "      <td>1.000000</td>\n",
       "      <td>1.000000</td>\n",
       "      <td>1.000000</td>\n",
       "      <td>1.000000</td>\n",
       "      <td>1.000000</td>\n",
       "      <td>1.000000</td>\n",
       "      <td>1.000000</td>\n",
       "      <td>1.000000</td>\n",
       "      <td>1.000000</td>\n",
       "      <td>1.000000</td>\n",
       "    </tr>\n",
       "    <tr>\n",
       "      <th>75%</th>\n",
       "      <td>783.000000</td>\n",
       "      <td>670.000000</td>\n",
       "      <td>6.000000</td>\n",
       "      <td>2.000000</td>\n",
       "      <td>1.600000</td>\n",
       "      <td>70.500000</td>\n",
       "      <td>3.000000</td>\n",
       "      <td>515.000000</td>\n",
       "      <td>82.000000</td>\n",
       "      <td>100.000000</td>\n",
       "      <td>...</td>\n",
       "      <td>1.500000</td>\n",
       "      <td>1.000000</td>\n",
       "      <td>1.000000</td>\n",
       "      <td>1.000000</td>\n",
       "      <td>2.000000</td>\n",
       "      <td>1.000000</td>\n",
       "      <td>1.000000</td>\n",
       "      <td>1.000000</td>\n",
       "      <td>1.000000</td>\n",
       "      <td>1.000000</td>\n",
       "    </tr>\n",
       "    <tr>\n",
       "      <th>max</th>\n",
       "      <td>1044.000000</td>\n",
       "      <td>898.000000</td>\n",
       "      <td>8.000000</td>\n",
       "      <td>2.000000</td>\n",
       "      <td>100.000000</td>\n",
       "      <td>999.900000</td>\n",
       "      <td>3.000000</td>\n",
       "      <td>1125.000000</td>\n",
       "      <td>255.000000</td>\n",
       "      <td>190.000000</td>\n",
       "      <td>...</td>\n",
       "      <td>4.000000</td>\n",
       "      <td>4.000000</td>\n",
       "      <td>4.000000</td>\n",
       "      <td>4.000000</td>\n",
       "      <td>4.000000</td>\n",
       "      <td>4.000000</td>\n",
       "      <td>2.000000</td>\n",
       "      <td>4.000000</td>\n",
       "      <td>4.000000</td>\n",
       "      <td>4.000000</td>\n",
       "    </tr>\n",
       "  </tbody>\n",
       "</table>\n",
       "<p>8 rows × 38 columns</p>\n",
       "</div>"
      ],
      "text/plain": [
       "        Unnamed: 0  pokedex_number   generation  type_number     height_m  \\\n",
       "count  1045.000000     1045.000000  1045.000000  1045.000000  1045.000000   \n",
       "mean    522.000000      440.769378     4.098565     1.529187     1.374067   \n",
       "std     301.809819      262.517231     2.272788     0.499386     3.353349   \n",
       "min       0.000000        1.000000     1.000000     1.000000     0.100000   \n",
       "25%     261.000000      212.000000     2.000000     1.000000     0.600000   \n",
       "50%     522.000000      436.000000     4.000000     2.000000     1.000000   \n",
       "75%     783.000000      670.000000     6.000000     2.000000     1.600000   \n",
       "max    1044.000000      898.000000     8.000000     2.000000   100.000000   \n",
       "\n",
       "         weight_kg  abilities_number  total_points           hp       attack  \\\n",
       "count  1044.000000       1045.000000   1045.000000  1045.000000  1045.000000   \n",
       "mean     71.216571          2.268900    439.353110    70.067943    80.476555   \n",
       "std     132.259911          0.803154    121.992897    26.671411    32.432728   \n",
       "min       0.100000          0.000000    175.000000     1.000000     5.000000   \n",
       "25%       9.000000          2.000000    330.000000    50.000000    55.000000   \n",
       "50%      29.500000          2.000000    458.000000    68.000000    77.000000   \n",
       "75%      70.500000          3.000000    515.000000    82.000000   100.000000   \n",
       "max     999.900000          3.000000   1125.000000   255.000000   190.000000   \n",
       "\n",
       "       ...  against_ground  against_flying  against_psychic  against_bug  \\\n",
       "count  ...     1045.000000     1045.000000      1045.000000  1045.000000   \n",
       "mean   ...        1.082297        1.168900         0.977273     0.998086   \n",
       "std    ...        0.782683        0.592145         0.501934     0.610411   \n",
       "min    ...        0.000000        0.250000         0.000000     0.000000   \n",
       "25%    ...        0.500000        1.000000         1.000000     0.500000   \n",
       "50%    ...        1.000000        1.000000         1.000000     1.000000   \n",
       "75%    ...        1.500000        1.000000         1.000000     1.000000   \n",
       "max    ...        4.000000        4.000000         4.000000     4.000000   \n",
       "\n",
       "       against_rock  against_ghost  against_dragon  against_dark  \\\n",
       "count   1045.000000    1045.000000     1045.000000   1045.000000   \n",
       "mean       1.238278       1.018660        0.977033      1.071053   \n",
       "std        0.696560       0.568056        0.375812      0.465178   \n",
       "min        0.250000       0.000000        0.000000      0.250000   \n",
       "25%        1.000000       1.000000        1.000000      1.000000   \n",
       "50%        1.000000       1.000000        1.000000      1.000000   \n",
       "75%        2.000000       1.000000        1.000000      1.000000   \n",
       "max        4.000000       4.000000        2.000000      4.000000   \n",
       "\n",
       "       against_steel  against_fairy  \n",
       "count    1045.000000    1045.000000  \n",
       "mean        0.981579       1.091148  \n",
       "std         0.501753       0.536285  \n",
       "min         0.000000       0.000000  \n",
       "25%         0.500000       1.000000  \n",
       "50%         1.000000       1.000000  \n",
       "75%         1.000000       1.000000  \n",
       "max         4.000000       4.000000  \n",
       "\n",
       "[8 rows x 38 columns]"
      ]
     },
     "execution_count": 6,
     "metadata": {},
     "output_type": "execute_result"
    }
   ],
   "source": [
    "pokemon_df.describe()"
   ]
  },
  {
   "cell_type": "markdown",
   "id": "b7da5960",
   "metadata": {
    "papermill": {
     "duration": 0.013507,
     "end_time": "2025-01-21T08:20:08.548347",
     "exception": false,
     "start_time": "2025-01-21T08:20:08.534840",
     "status": "completed"
    },
    "tags": []
   },
   "source": [
    "## Analysis"
   ]
  },
  {
   "cell_type": "markdown",
   "id": "0ea0993d",
   "metadata": {
    "papermill": {
     "duration": 0.012041,
     "end_time": "2025-01-21T08:20:08.573059",
     "exception": false,
     "start_time": "2025-01-21T08:20:08.561018",
     "status": "completed"
    },
    "tags": []
   },
   "source": [
    "### Distribution of Secondary Types Among Each Primary Type"
   ]
  },
  {
   "cell_type": "code",
   "execution_count": 7,
   "id": "201168b3",
   "metadata": {
    "execution": {
     "iopub.execute_input": "2025-01-21T08:20:08.598838Z",
     "iopub.status.busy": "2025-01-21T08:20:08.598512Z",
     "iopub.status.idle": "2025-01-21T08:20:08.605808Z",
     "shell.execute_reply": "2025-01-21T08:20:08.604934Z"
    },
    "papermill": {
     "duration": 0.022171,
     "end_time": "2025-01-21T08:20:08.607475",
     "exception": false,
     "start_time": "2025-01-21T08:20:08.585304",
     "status": "completed"
    },
    "tags": []
   },
   "outputs": [],
   "source": [
    "pokemon_df['type_2'].fillna(value='None', inplace=True)\n",
    "pokemon_df['ability_1'].fillna(value='None', inplace=True)\n",
    "pokemon_df['ability_2'].fillna(value='None', inplace=True)\n",
    "pokemon_df['ability_hidden'].fillna(value='None', inplace=True)"
   ]
  },
  {
   "cell_type": "code",
   "execution_count": 8,
   "id": "2734850c",
   "metadata": {
    "execution": {
     "iopub.execute_input": "2025-01-21T08:20:08.633810Z",
     "iopub.status.busy": "2025-01-21T08:20:08.633478Z",
     "iopub.status.idle": "2025-01-21T08:20:09.842149Z",
     "shell.execute_reply": "2025-01-21T08:20:09.840966Z"
    },
    "papermill": {
     "duration": 1.223964,
     "end_time": "2025-01-21T08:20:09.844146",
     "exception": false,
     "start_time": "2025-01-21T08:20:08.620182",
     "status": "completed"
    },
    "tags": []
   },
   "outputs": [
    {
     "data": {
      "text/plain": [
       "<Figure size 1200x600 with 0 Axes>"
      ]
     },
     "metadata": {},
     "output_type": "display_data"
    },
    {
     "data": {
      "image/png": "[encoded data removed]",
      "text/plain": [
       "<Figure size 640x480 with 1 Axes>"
      ]
     },
     "metadata": {},
     "output_type": "display_data"
    }
   ],
   "source": [
    "type_combinations = pd.crosstab(pokemon_df['type_1'], pokemon_df['type_2'])\n",
    "\n",
    "# Create a stacked bar chart\n",
    "plt.figure(figsize=(12, 6))\n",
    "type_combinations.plot(kind='bar', stacked=True, colormap='viridis')\n",
    "plt.title('Distribution of Secondary Types by Primary Type')\n",
    "plt.xlabel('Primary Type')\n",
    "plt.ylabel('Count')\n",
    "plt.xticks(rotation=90)\n",
    "plt.legend(title='Secondary Type', bbox_to_anchor=(1.05, 1), loc='upper left')\n",
    "plt.show()"
   ]
  },
  {
   "cell_type": "markdown",
   "id": "84e5efcd",
   "metadata": {
    "papermill": {
     "duration": 0.013843,
     "end_time": "2025-01-21T08:20:09.872339",
     "exception": false,
     "start_time": "2025-01-21T08:20:09.858496",
     "status": "completed"
    },
    "tags": []
   },
   "source": [
    "**Observations**\n",
    "\n",
    "* The Normal primary type has the highest total count, showing a wide variety of secondary types paired with it. This indicates Normal is a versatile primary type.\n",
    "\n",
    "* Many primary types, including Normal, Bug, and Grass, frequently have Flying as their secondary type. This suggests a strong association between these two categories.\n",
    "\n",
    "* Both Grass and Water primary types have significant counts and a wide variety of secondary types, highlighting their versatility.\n",
    "\n",
    "* Certain secondary types like Steel and Ice are rare across all primary types, reflecting their niche role in this dataset."
   ]
  },
  {
   "cell_type": "markdown",
   "id": "64f02614",
   "metadata": {
    "papermill": {
     "duration": 0.013952,
     "end_time": "2025-01-21T08:20:09.900553",
     "exception": false,
     "start_time": "2025-01-21T08:20:09.886601",
     "status": "completed"
    },
    "tags": []
   },
   "source": [
    "### Distribution of Primary Types Among Each Secondary Type"
   ]
  },
  {
   "cell_type": "code",
   "execution_count": 9,
   "id": "d8240e05",
   "metadata": {
    "execution": {
     "iopub.execute_input": "2025-01-21T08:20:09.930824Z",
     "iopub.status.busy": "2025-01-21T08:20:09.930477Z",
     "iopub.status.idle": "2025-01-21T08:20:10.819877Z",
     "shell.execute_reply": "2025-01-21T08:20:10.818813Z"
    },
    "papermill": {
     "duration": 0.906954,
     "end_time": "2025-01-21T08:20:10.821761",
     "exception": false,
     "start_time": "2025-01-21T08:20:09.914807",
     "status": "completed"
    },
    "scrolled": true,
    "tags": []
   },
   "outputs": [
    {
     "data": {
      "text/plain": [
       "<Figure size 1200x600 with 0 Axes>"
      ]
     },
     "metadata": {},
     "output_type": "display_data"
    },
    {
     "data": {
      "image/png": "[encoded data removed]",
      "text/plain": [
       "<Figure size 640x480 with 1 Axes>"
      ]
     },
     "metadata": {},
     "output_type": "display_data"
    }
   ],
   "source": [
    "filtered_df = pokemon_df[(pokemon_df['type_1'] != \"None\") & (pokemon_df['type_2'] != \"None\")]\n",
    "\n",
    "type_combinations2 = pd.crosstab(filtered_df['type_2'], filtered_df['type_1'])\n",
    "\n",
    "plt.figure(figsize=(12, 6))\n",
    "type_combinations2.plot(kind='bar', stacked=True, colormap='viridis')\n",
    "plt.title('Distribution of Primary Types by Secondary Types')\n",
    "plt.xlabel('Secondary Types')\n",
    "plt.ylabel('Count')\n",
    "plt.xticks(rotation=90)\n",
    "plt.legend(title='Primary Types', bbox_to_anchor=(1.05, 1), loc='upper left')\n",
    "plt.show()"
   ]
  },
  {
   "cell_type": "markdown",
   "id": "5f58b8cb",
   "metadata": {
    "papermill": {
     "duration": 0.015292,
     "end_time": "2025-01-21T08:20:10.853274",
     "exception": false,
     "start_time": "2025-01-21T08:20:10.837982",
     "status": "completed"
    },
    "tags": []
   },
   "source": [
    "**Observations**\n",
    "\n",
    "* Flying is the most common secondary type, appearing over 100 times across various primary types. This widespread distribution highlights its popularity as a complementary type.\n",
    "\n",
    "* While Flying and Grass dominate secondary type pairings, other combinations such as Water, Ground, Poison, and Psychic also occur frequently. These combinations showcase the versatility of certain secondary types, though their distributions are more evenly spread across primary types.\n",
    "\n",
    "* Some primary types exhibit diversity in their secondary type pairings, such as Bug and Dragon, which are paired with a wide variety of secondary types. Others, like Flying, Water, and Poison, are associated with a more specialized range of secondary types, reflecting niche combinations.\n",
    "\n",
    "* Fairy and Psychic types are frequently paired with specific secondary types, as indicated by their distinct patterns and coloration. Conversely, secondary types like Dark and Ice tend to have fewer primary type pairings, suggesting they are blended with complementary abilities or traits less often.\n",
    "\n",
    "* Some primary types, such as Ice and Steel, are underrepresented in type combinations. Fire, Electric, and Fairy also appear less frequently as secondary types, indicating a narrower application in type pairing strategies.\n",
    "\n",
    "* Secondary types like Rock and Steel, while not dominant, show moderate representation. Their presence suggests a noticeable, albeit smaller, diversity of primary types compared to leading categories."
   ]
  },
  {
   "cell_type": "markdown",
   "id": "bce6e5a3",
   "metadata": {
    "papermill": {
     "duration": 0.01587,
     "end_time": "2025-01-21T08:20:10.884641",
     "exception": false,
     "start_time": "2025-01-21T08:20:10.868771",
     "status": "completed"
    },
    "tags": []
   },
   "source": [
    "### Combinations not Present in Dataset"
   ]
  },
  {
   "cell_type": "code",
   "execution_count": 10,
   "id": "e5922e18",
   "metadata": {
    "execution": {
     "iopub.execute_input": "2025-01-21T08:20:10.917375Z",
     "iopub.status.busy": "2025-01-21T08:20:10.916991Z",
     "iopub.status.idle": "2025-01-21T08:20:10.945351Z",
     "shell.execute_reply": "2025-01-21T08:20:10.944064Z"
    },
    "papermill": {
     "duration": 0.047019,
     "end_time": "2025-01-21T08:20:10.947266",
     "exception": false,
     "start_time": "2025-01-21T08:20:10.900247",
     "status": "completed"
    },
    "tags": []
   },
   "outputs": [
    {
     "name": "stdout",
     "output_type": "stream",
     "text": [
      "\n",
      "Type Combinations Not in the Dataset:\n",
      "('Grass', 'Normal')\n",
      "('Grass', 'Grass')\n",
      "('Grass', 'Electric')\n",
      "('Grass', 'Rock')\n",
      "('Grass', 'Water')\n",
      "('Grass', 'Fire')\n",
      "('Grass', 'Bug')\n",
      "('Fire', 'Poison')\n",
      "('Fire', 'Fairy')\n",
      "('Fire', 'Grass')\n",
      "('Fire', 'Electric')\n",
      "('Fire', 'Ice')\n",
      "('Fire', 'Fire')\n",
      "('Water', 'Normal')\n",
      "('Water', 'Water')\n",
      "('Water', 'Fire')\n",
      "('Bug', 'Dragon')\n",
      "('Bug', 'Normal')\n",
      "('Bug', 'Ice')\n",
      "('Bug', 'Dark')\n",
      "('Bug', 'Bug')\n",
      "('Normal', 'Poison')\n",
      "('Normal', 'Normal')\n",
      "('Normal', 'Steel')\n",
      "('Normal', 'Electric')\n",
      "('Normal', 'Ice')\n",
      "('Normal', 'Dark')\n",
      "('Normal', 'Ghost')\n",
      "('Normal', 'Rock')\n",
      "('Normal', 'Fire')\n",
      "('Normal', 'Bug')\n",
      "('Dark', 'Poison')\n",
      "('Dark', 'Ground')\n",
      "('Dark', 'Electric')\n",
      "('Dark', 'Dark')\n",
      "('Dark', 'Rock')\n",
      "('Dark', 'Water')\n",
      "('Dark', 'Bug')\n",
      "('Poison', 'Poison')\n",
      "('Poison', 'Normal')\n",
      "('Poison', 'Steel')\n",
      "('Poison', 'Grass')\n",
      "('Poison', 'Electric')\n",
      "('Poison', 'Ice')\n",
      "('Poison', 'Ghost')\n",
      "('Poison', 'Rock')\n",
      "('Electric', 'Ground')\n",
      "('Electric', 'Fighting')\n",
      "('Electric', 'Electric')\n",
      "('Electric', 'Rock')\n",
      "('Electric', 'Bug')\n",
      "('Ground', 'Poison')\n",
      "('Ground', 'Normal')\n",
      "('Ground', 'Ground')\n",
      "('Ground', 'Fairy')\n",
      "('Ground', 'Grass')\n",
      "('Ground', 'Fighting')\n",
      "('Ground', 'Ice')\n",
      "('Ground', 'Water')\n",
      "('Ground', 'Bug')\n",
      "('Ice', 'Poison')\n",
      "('Ice', 'Dragon')\n",
      "('Ice', 'Normal')\n",
      "('Ice', 'Grass')\n",
      "('Ice', 'Fighting')\n",
      "('Ice', 'Electric')\n",
      "('Ice', 'Ice')\n",
      "('Ice', 'Dark')\n",
      "('Ice', 'Rock')\n",
      "('Fairy', 'Poison')\n",
      "('Fairy', 'Dragon')\n",
      "('Fairy', 'Normal')\n",
      "('Fairy', 'Psychic')\n",
      "('Fairy', 'Ground')\n",
      "('Fairy', 'Fairy')\n",
      "('Fairy', 'Grass')\n",
      "('Fairy', 'Fighting')\n",
      "('Fairy', 'Electric')\n",
      "('Fairy', 'Ice')\n",
      "('Fairy', 'Dark')\n",
      "('Fairy', 'Ghost')\n",
      "('Fairy', 'Rock')\n",
      "('Fairy', 'Water')\n",
      "('Fairy', 'Fire')\n",
      "('Fairy', 'Bug')\n",
      "('Steel', 'Poison')\n",
      "('Steel', 'Normal')\n",
      "('Steel', 'Steel')\n",
      "('Steel', 'Grass')\n",
      "('Steel', 'Electric')\n",
      "('Steel', 'Ice')\n",
      "('Steel', 'Dark')\n",
      "('Steel', 'Water')\n",
      "('Steel', 'Fire')\n",
      "('Steel', 'Bug')\n",
      "('Fighting', 'Poison')\n",
      "('Fighting', 'Dragon')\n",
      "('Fighting', 'Normal')\n",
      "('Fighting', 'Ground')\n",
      "('Fighting', 'Fairy')\n",
      "('Fighting', 'Grass')\n",
      "('Fighting', 'Fighting')\n",
      "('Fighting', 'Electric')\n",
      "('Fighting', 'Rock')\n",
      "('Fighting', 'Fire')\n",
      "('Fighting', 'Bug')\n",
      "('Psychic', 'Poison')\n",
      "('Psychic', 'Psychic')\n",
      "('Psychic', 'Ground')\n",
      "('Psychic', 'Electric')\n",
      "('Psychic', 'Rock')\n",
      "('Psychic', 'Water')\n",
      "('Psychic', 'Bug')\n",
      "('Rock', 'Normal')\n",
      "('Rock', 'Ghost')\n",
      "('Rock', 'Rock')\n",
      "('Ghost', 'Normal')\n",
      "('Ghost', 'Psychic')\n",
      "('Ghost', 'Steel')\n",
      "('Ghost', 'Fighting')\n",
      "('Ghost', 'Electric')\n",
      "('Ghost', 'Ice')\n",
      "('Ghost', 'Ghost')\n",
      "('Ghost', 'Rock')\n",
      "('Ghost', 'Water')\n",
      "('Ghost', 'Bug')\n",
      "('Dragon', 'Poison')\n",
      "('Dragon', 'Dragon')\n",
      "('Dragon', 'Normal')\n",
      "('Dragon', 'Steel')\n",
      "('Dragon', 'Grass')\n",
      "('Dragon', 'Dark')\n",
      "('Dragon', 'Rock')\n",
      "('Dragon', 'Water')\n",
      "('Dragon', 'Bug')\n",
      "('Flying', 'Poison')\n",
      "('Flying', 'Flying')\n",
      "('Flying', 'Normal')\n",
      "('Flying', 'Psychic')\n",
      "('Flying', 'Ground')\n",
      "('Flying', 'Fairy')\n",
      "('Flying', 'Grass')\n",
      "('Flying', 'Fighting')\n",
      "('Flying', 'Electric')\n",
      "('Flying', 'Ice')\n",
      "('Flying', 'Dark')\n",
      "('Flying', 'Ghost')\n",
      "('Flying', 'Rock')\n",
      "('Flying', 'Fire')\n",
      "('Flying', 'Bug')\n"
     ]
    }
   ],
   "source": [
    "unique_type1 = pokemon_df['type_1'].unique()\n",
    "unique_type2 = pokemon_df['type_2'].unique()\n",
    "\n",
    "all_combinations = [(t1, t2) for t1 in unique_type1 for t2 in unique_type2]\n",
    "\n",
    "combinations_in_dataset = set(zip(pokemon_df['type_1'], pokemon_df['type_2']))\n",
    "\n",
    "combinations_not_in_dataset = [combo for combo in all_combinations if combo not in combinations_in_dataset]\n",
    "\n",
    "print(\"\\nType Combinations Not in the Dataset:\")\n",
    "for combo in combinations_not_in_dataset:\n",
    "    print(combo)"
   ]
  },
  {
   "cell_type": "markdown",
   "id": "b0d6f606",
   "metadata": {
    "papermill": {
     "duration": 0.015812,
     "end_time": "2025-01-21T08:20:10.979270",
     "exception": false,
     "start_time": "2025-01-21T08:20:10.963458",
     "status": "completed"
    },
    "tags": []
   },
   "source": [
    "**Observations**\n",
    "\n",
    "* Many potential type combinations, such as ('Grass', 'Normal'), ('Fire', 'Fairy'), and ('Bug', 'Dragon'), are not represented in the dataset. This indicates a lack of diversity in some type pairings and possibly the rarity or nonexistence of certain combinations in the Pokémon universe."
   ]
  },
  {
   "cell_type": "markdown",
   "id": "ef765db4",
   "metadata": {
    "papermill": {
     "duration": 0.015602,
     "end_time": "2025-01-21T08:20:11.010818",
     "exception": false,
     "start_time": "2025-01-21T08:20:10.995216",
     "status": "completed"
    },
    "tags": []
   },
   "source": [
    "### Number of Each Combination in Dataset"
   ]
  },
  {
   "cell_type": "code",
   "execution_count": 11,
   "id": "46fe8715",
   "metadata": {
    "execution": {
     "iopub.execute_input": "2025-01-21T08:20:11.044103Z",
     "iopub.status.busy": "2025-01-21T08:20:11.043719Z",
     "iopub.status.idle": "2025-01-21T08:20:11.308836Z",
     "shell.execute_reply": "2025-01-21T08:20:11.307075Z"
    },
    "papermill": {
     "duration": 0.283895,
     "end_time": "2025-01-21T08:20:11.310649",
     "exception": false,
     "start_time": "2025-01-21T08:20:11.026754",
     "status": "completed"
    },
    "tags": []
   },
   "outputs": [
    {
     "name": "stdout",
     "output_type": "stream",
     "text": [
      "Number of Each Combination in the Dataset:\n",
      "('Grass', 'Poison'): 15 Pokémon\n",
      "('Grass', 'None'): 43 Pokémon\n",
      "('Grass', 'Flying'): 7 Pokémon\n",
      "('Grass', 'Dragon'): 5 Pokémon\n",
      "('Grass', 'Psychic'): 2 Pokémon\n",
      "('Grass', 'Steel'): 3 Pokémon\n",
      "('Grass', 'Ground'): 1 Pokémon\n",
      "('Grass', 'Fairy'): 5 Pokémon\n",
      "('Grass', 'Fighting'): 3 Pokémon\n",
      "('Grass', 'Ice'): 3 Pokémon\n",
      "('Grass', 'Dark'): 3 Pokémon\n",
      "('Grass', 'Ghost'): 1 Pokémon\n",
      "('Fire', 'None'): 34 Pokémon\n",
      "('Fire', 'Flying'): 7 Pokémon\n",
      "('Fire', 'Dragon'): 2 Pokémon\n",
      "('Fire', 'Normal'): 2 Pokémon\n",
      "('Fire', 'Psychic'): 2 Pokémon\n",
      "('Fire', 'Steel'): 1 Pokémon\n",
      "('Fire', 'Ground'): 3 Pokémon\n",
      "('Fire', 'Fighting'): 7 Pokémon\n",
      "('Fire', 'Dark'): 1 Pokémon\n",
      "('Fire', 'Ghost'): 2 Pokémon\n",
      "('Fire', 'Rock'): 1 Pokémon\n",
      "('Fire', 'Water'): 1 Pokémon\n",
      "('Fire', 'Bug'): 2 Pokémon\n",
      "('Water', 'Poison'): 3 Pokémon\n",
      "('Water', 'None'): 72 Pokémon\n",
      "('Water', 'Flying'): 7 Pokémon\n",
      "('Water', 'Dragon'): 3 Pokémon\n",
      "('Water', 'Psychic'): 6 Pokémon\n",
      "('Water', 'Steel'): 1 Pokémon\n",
      "('Water', 'Ground'): 10 Pokémon\n",
      "('Water', 'Fairy'): 4 Pokémon\n",
      "('Water', 'Grass'): 3 Pokémon\n",
      "('Water', 'Fighting'): 3 Pokémon\n",
      "('Water', 'Electric'): 2 Pokémon\n",
      "('Water', 'Ice'): 4 Pokémon\n",
      "('Water', 'Dark'): 7 Pokémon\n",
      "('Water', 'Ghost'): 2 Pokémon\n",
      "('Water', 'Rock'): 5 Pokémon\n",
      "('Water', 'Bug'): 2 Pokémon\n",
      "('Bug', 'Poison'): 12 Pokémon\n",
      "('Bug', 'None'): 19 Pokémon\n",
      "('Bug', 'Flying'): 14 Pokémon\n",
      "('Bug', 'Psychic'): 2 Pokémon\n",
      "('Bug', 'Steel'): 7 Pokémon\n",
      "('Bug', 'Ground'): 2 Pokémon\n",
      "('Bug', 'Fairy'): 2 Pokémon\n",
      "('Bug', 'Grass'): 6 Pokémon\n",
      "('Bug', 'Fighting'): 4 Pokémon\n",
      "('Bug', 'Electric'): 4 Pokémon\n",
      "('Bug', 'Ghost'): 1 Pokémon\n",
      "('Bug', 'Rock'): 3 Pokémon\n",
      "('Bug', 'Water'): 3 Pokémon\n",
      "('Bug', 'Fire'): 2 Pokémon\n",
      "('Normal', 'None'): 71 Pokémon\n",
      "('Normal', 'Flying'): 27 Pokémon\n",
      "('Normal', 'Dragon'): 1 Pokémon\n",
      "('Normal', 'Psychic'): 3 Pokémon\n",
      "('Normal', 'Ground'): 1 Pokémon\n",
      "('Normal', 'Fairy'): 5 Pokémon\n",
      "('Normal', 'Grass'): 2 Pokémon\n",
      "('Normal', 'Fighting'): 4 Pokémon\n",
      "('Normal', 'Water'): 1 Pokémon\n",
      "('Dark', 'None'): 14 Pokémon\n",
      "('Dark', 'Flying'): 6 Pokémon\n",
      "('Dark', 'Dragon'): 4 Pokémon\n",
      "('Dark', 'Normal'): 5 Pokémon\n",
      "('Dark', 'Psychic'): 2 Pokémon\n",
      "('Dark', 'Steel'): 2 Pokémon\n",
      "('Dark', 'Fairy'): 3 Pokémon\n",
      "('Dark', 'Grass'): 1 Pokémon\n",
      "('Dark', 'Fighting'): 2 Pokémon\n",
      "('Dark', 'Ice'): 2 Pokémon\n",
      "('Dark', 'Ghost'): 2 Pokémon\n",
      "('Dark', 'Fire'): 3 Pokémon\n",
      "('Poison', 'None'): 16 Pokémon\n",
      "('Poison', 'Flying'): 3 Pokémon\n",
      "('Poison', 'Dragon'): 4 Pokémon\n",
      "('Poison', 'Psychic'): 2 Pokémon\n",
      "('Poison', 'Ground'): 2 Pokémon\n",
      "('Poison', 'Fairy'): 1 Pokémon\n",
      "('Poison', 'Fighting'): 2 Pokémon\n",
      "('Poison', 'Dark'): 5 Pokémon\n",
      "('Poison', 'Water'): 3 Pokémon\n",
      "('Poison', 'Fire'): 2 Pokémon\n",
      "('Poison', 'Bug'): 1 Pokémon\n",
      "('Electric', 'Poison'): 3 Pokémon\n",
      "('Electric', 'None'): 34 Pokémon\n",
      "('Electric', 'Flying'): 6 Pokémon\n",
      "('Electric', 'Dragon'): 2 Pokémon\n",
      "('Electric', 'Normal'): 2 Pokémon\n",
      "('Electric', 'Psychic'): 1 Pokémon\n",
      "('Electric', 'Steel'): 4 Pokémon\n",
      "('Electric', 'Fairy'): 2 Pokémon\n",
      "('Electric', 'Grass'): 1 Pokémon\n",
      "('Electric', 'Ice'): 2 Pokémon\n",
      "('Electric', 'Dark'): 2 Pokémon\n",
      "('Electric', 'Ghost'): 1 Pokémon\n",
      "('Electric', 'Water'): 1 Pokémon\n",
      "('Electric', 'Fire'): 1 Pokémon\n",
      "('Ground', 'None'): 17 Pokémon\n",
      "('Ground', 'Flying'): 4 Pokémon\n",
      "('Ground', 'Dragon'): 2 Pokémon\n",
      "('Ground', 'Psychic'): 2 Pokémon\n",
      "('Ground', 'Steel'): 4 Pokémon\n",
      "('Ground', 'Electric'): 1 Pokémon\n",
      "('Ground', 'Dark'): 3 Pokémon\n",
      "('Ground', 'Ghost'): 4 Pokémon\n",
      "('Ground', 'Rock'): 3 Pokémon\n",
      "('Ground', 'Fire'): 1 Pokémon\n",
      "('Ice', 'None'): 20 Pokémon\n",
      "('Ice', 'Flying'): 2 Pokémon\n",
      "('Ice', 'Psychic'): 2 Pokémon\n",
      "('Ice', 'Steel'): 2 Pokémon\n",
      "('Ice', 'Ground'): 3 Pokémon\n",
      "('Ice', 'Fairy'): 1 Pokémon\n",
      "('Ice', 'Ghost'): 1 Pokémon\n",
      "('Ice', 'Water'): 3 Pokémon\n",
      "('Ice', 'Fire'): 1 Pokémon\n",
      "('Ice', 'Bug'): 2 Pokémon\n",
      "('Fairy', 'None'): 19 Pokémon\n",
      "('Fairy', 'Flying'): 2 Pokémon\n",
      "('Fairy', 'Steel'): 1 Pokémon\n",
      "('Steel', 'None'): 11 Pokémon\n",
      "('Steel', 'Flying'): 2 Pokémon\n",
      "('Steel', 'Dragon'): 2 Pokémon\n",
      "('Steel', 'Psychic'): 7 Pokémon\n",
      "('Steel', 'Ground'): 2 Pokémon\n",
      "('Steel', 'Fairy'): 4 Pokémon\n",
      "('Steel', 'Fighting'): 1 Pokémon\n",
      "('Steel', 'Ghost'): 4 Pokémon\n",
      "('Steel', 'Rock'): 3 Pokémon\n",
      "('Fighting', 'None'): 29 Pokémon\n",
      "('Fighting', 'Flying'): 2 Pokémon\n",
      "('Fighting', 'Psychic'): 3 Pokémon\n",
      "('Fighting', 'Steel'): 3 Pokémon\n",
      "('Fighting', 'Ice'): 1 Pokémon\n",
      "('Fighting', 'Dark'): 2 Pokémon\n",
      "('Fighting', 'Ghost'): 1 Pokémon\n",
      "('Fighting', 'Water'): 1 Pokémon\n",
      "('Psychic', 'None'): 45 Pokémon\n",
      "('Psychic', 'Flying'): 8 Pokémon\n",
      "('Psychic', 'Dragon'): 1 Pokémon\n",
      "('Psychic', 'Normal'): 2 Pokémon\n",
      "('Psychic', 'Steel'): 2 Pokémon\n",
      "('Psychic', 'Fairy'): 9 Pokémon\n",
      "('Psychic', 'Grass'): 2 Pokémon\n",
      "('Psychic', 'Fighting'): 3 Pokémon\n",
      "('Psychic', 'Ice'): 3 Pokémon\n",
      "('Psychic', 'Dark'): 1 Pokémon\n",
      "('Psychic', 'Ghost'): 4 Pokémon\n",
      "('Psychic', 'Fire'): 1 Pokémon\n",
      "('Rock', 'Poison'): 1 Pokémon\n",
      "('Rock', 'None'): 16 Pokémon\n",
      "('Rock', 'Flying'): 6 Pokémon\n",
      "('Rock', 'Dragon'): 2 Pokémon\n",
      "('Rock', 'Psychic'): 2 Pokémon\n",
      "('Rock', 'Steel'): 4 Pokémon\n",
      "('Rock', 'Ground'): 6 Pokémon\n",
      "('Rock', 'Fairy'): 3 Pokémon\n",
      "('Rock', 'Grass'): 2 Pokémon\n",
      "('Rock', 'Fighting'): 1 Pokémon\n",
      "('Rock', 'Electric'): 3 Pokémon\n",
      "('Rock', 'Ice'): 2 Pokémon\n",
      "('Rock', 'Dark'): 2 Pokémon\n",
      "('Rock', 'Water'): 6 Pokémon\n",
      "('Rock', 'Fire'): 2 Pokémon\n",
      "('Rock', 'Bug'): 2 Pokémon\n",
      "('Ghost', 'Poison'): 4 Pokémon\n",
      "('Ghost', 'None'): 15 Pokémon\n",
      "('Ghost', 'Flying'): 3 Pokémon\n",
      "('Ghost', 'Dragon'): 2 Pokémon\n",
      "('Ghost', 'Ground'): 2 Pokémon\n",
      "('Ghost', 'Fairy'): 1 Pokémon\n",
      "('Ghost', 'Grass'): 11 Pokémon\n",
      "('Ghost', 'Dark'): 1 Pokémon\n",
      "('Ghost', 'Fire'): 3 Pokémon\n",
      "('Dragon', 'None'): 13 Pokémon\n",
      "('Dragon', 'Flying'): 6 Pokémon\n",
      "('Dragon', 'Psychic'): 4 Pokémon\n",
      "('Dragon', 'Ground'): 7 Pokémon\n",
      "('Dragon', 'Fairy'): 1 Pokémon\n",
      "('Dragon', 'Fighting'): 2 Pokémon\n",
      "('Dragon', 'Electric'): 1 Pokémon\n",
      "('Dragon', 'Ice'): 3 Pokémon\n",
      "('Dragon', 'Ghost'): 3 Pokémon\n",
      "('Dragon', 'Fire'): 1 Pokémon\n",
      "('Flying', 'None'): 4 Pokémon\n",
      "('Flying', 'Dragon'): 2 Pokémon\n",
      "('Flying', 'Steel'): 1 Pokémon\n",
      "('Flying', 'Water'): 1 Pokémon\n"
     ]
    }
   ],
   "source": [
    "all_combinations = [(t1, t2) for t1 in unique_type1 for t2 in unique_type2]\n",
    "\n",
    "combination_counts = {}\n",
    "\n",
    "for combo in all_combinations:\n",
    "    count = len(pokemon_df[(pokemon_df['type_1'] == combo[0]) & (pokemon_df['type_2'] == combo[1])])\n",
    "    if count > 0:\n",
    "        combination_counts[combo] = count\n",
    "\n",
    "print(\"Number of Each Combination in the Dataset:\")\n",
    "for combo, count in combination_counts.items():\n",
    "    print(f\"{combo}: {count} Pokémon\")"
   ]
  },
  {
   "cell_type": "markdown",
   "id": "6f42e8c5",
   "metadata": {
    "papermill": {
     "duration": 0.01579,
     "end_time": "2025-01-21T08:20:11.343071",
     "exception": false,
     "start_time": "2025-01-21T08:20:11.327281",
     "status": "completed"
    },
    "tags": []
   },
   "source": [
    "**Observations**\n",
    "\n",
    "* Primary types like Water (72 Pokémon), Normal (71 Pokémon), and Psychic (45 Pokémon) often appear without a secondary type. This suggests these types are commonly used in their standalone form.\n",
    "\n",
    "* Some primary-secondary combinations, such as ('Bug', 'Flying') with 14 Pokémon and ('Normal', 'Flying') with 27 Pokémon, are highly prevalent, showing a preference for these combinations in the dataset.\n",
    "\n",
    "* Types like Ice and Steel are underrepresented as secondary types, with limited diversity in pairings. For instance, ('Ice', 'Bug') and ('Ice', 'Dark') each appear only twice, indicating fewer applications for these combinations.\n",
    "\n",
    "* Some secondary types, such as Flying and Psychic, are paired with a wide range of primary types. For example, Flying appears as a secondary type in combinations like ('Grass', 'Flying'), ('Fire', 'Flying'), and ('Dark', 'Flying').\n",
    "\n",
    "* Grass and Fire types show limited versatility in secondary type pairings, often being paired with fewer unique secondary types compared to Water or Bug."
   ]
  },
  {
   "cell_type": "markdown",
   "id": "faffe430",
   "metadata": {
    "papermill": {
     "duration": 0.016,
     "end_time": "2025-01-21T08:20:11.375147",
     "exception": false,
     "start_time": "2025-01-21T08:20:11.359147",
     "status": "completed"
    },
    "tags": []
   },
   "source": [
    "### Percentage of Mono-Type and Dual-Type Pokemon"
   ]
  },
  {
   "cell_type": "code",
   "execution_count": 12,
   "id": "6aec83d7",
   "metadata": {
    "execution": {
     "iopub.execute_input": "2025-01-21T08:20:11.409210Z",
     "iopub.status.busy": "2025-01-21T08:20:11.408799Z",
     "iopub.status.idle": "2025-01-21T08:20:11.563591Z",
     "shell.execute_reply": "2025-01-21T08:20:11.562409Z"
    },
    "papermill": {
     "duration": 0.174843,
     "end_time": "2025-01-21T08:20:11.566061",
     "exception": false,
     "start_time": "2025-01-21T08:20:11.391218",
     "status": "completed"
    },
    "tags": []
   },
   "outputs": [
    {
     "data": {
      "image/png": "[encoded data removed]",
      "text/plain": [
       "<Figure size 600x600 with 1 Axes>"
      ]
     },
     "metadata": {},
     "output_type": "display_data"
    }
   ],
   "source": [
    "# Replace 'null' values with 'None' in the Type 2 column\n",
    "# pokemon_df['Secondary Type'] = pokemon_df['Secondary Type'].fillna('None')\n",
    "\n",
    "mono_type_count = (pokemon_df['type_2'] == 'None').sum()\n",
    "dual_type_count = (pokemon_df['type_2'] != 'None').sum()\n",
    "\n",
    "labels = ['Mono-Type', 'Dual-Type']\n",
    "sizes = [mono_type_count, dual_type_count]\n",
    "colors = ['lightcoral', 'lightblue']\n",
    "explode = (0.1, 0)  # Explode the 1st slice (Mono-Type)\n",
    "\n",
    "plt.figure(figsize=(6, 6))\n",
    "plt.pie(sizes, explode=explode, labels=labels, colors=colors, autopct='%1.1f%%', shadow=True, startangle=140)\n",
    "plt.title('Percentage of Mono-Types and Dual-Types of Pokémon')\n",
    "plt.axis('equal')  # Equal aspect ratio ensures the pie chart is circular.\n",
    "\n",
    "plt.show()"
   ]
  },
  {
   "cell_type": "markdown",
   "id": "298a42c1",
   "metadata": {
    "papermill": {
     "duration": 0.01918,
     "end_time": "2025-01-21T08:20:11.605210",
     "exception": false,
     "start_time": "2025-01-21T08:20:11.586030",
     "status": "completed"
    },
    "tags": []
   },
   "source": [
    "**Observations**\n",
    "\n",
    "* Dual-type Pokémon make up 52.9% of the dataset, indicating that a majority of Pokémon benefit from the added versatility of a second type. Mono-type Pokémon account for a substantial 47.1%, showing that nearly half of Pokémon remain focused on a single type, which might favor simplicity or specialization.\n",
    "\n",
    "* The near 50-50 split highlights a balanced design approach, allowing for both specialized (mono-type) and versatile (dual-type) Pokémon within the game mechanics."
   ]
  },
  {
   "cell_type": "markdown",
   "id": "2a2ff98e",
   "metadata": {
    "papermill": {
     "duration": 0.017416,
     "end_time": "2025-01-21T08:20:11.640739",
     "exception": false,
     "start_time": "2025-01-21T08:20:11.623323",
     "status": "completed"
    },
    "tags": []
   },
   "source": [
    "### Distribution of Primary Types"
   ]
  },
  {
   "cell_type": "code",
   "execution_count": 13,
   "id": "49f996d0",
   "metadata": {
    "execution": {
     "iopub.execute_input": "2025-01-21T08:20:11.692240Z",
     "iopub.status.busy": "2025-01-21T08:20:11.691843Z",
     "iopub.status.idle": "2025-01-21T08:20:12.059488Z",
     "shell.execute_reply": "2025-01-21T08:20:12.058442Z"
    },
    "papermill": {
     "duration": 0.392904,
     "end_time": "2025-01-21T08:20:12.061079",
     "exception": false,
     "start_time": "2025-01-21T08:20:11.668175",
     "status": "completed"
    },
    "tags": []
   },
   "outputs": [
    {
     "data": {
      "image/png": "[encoded data removed]",
      "text/plain": [
       "<Figure size 1000x400 with 1 Axes>"
      ]
     },
     "metadata": {},
     "output_type": "display_data"
    }
   ],
   "source": [
    "type_counts = pokemon_df['type_1'].value_counts()\n",
    "\n",
    "types = type_counts.index\n",
    "counts = type_counts.values\n",
    "\n",
    "type_colors = {\n",
    "    'Normal': '#A8A77A',\n",
    "    'Fire': '#EE8130',\n",
    "    'Water': '#6390F0',\n",
    "    'Electric': '#F7D02C',\n",
    "    'Grass': '#7AC74C',\n",
    "    'Ice': '#96D9D6',\n",
    "    'Fighting': '#C22E28',\n",
    "    'Poison': '#A33EA1',\n",
    "    'Ground': '#E2BF65',\n",
    "    'Flying': '#A98FF3',\n",
    "    'Psychic': '#F95587',\n",
    "    'Bug': '#A6B91A',\n",
    "    'Rock': '#B6A136',\n",
    "    'Ghost': '#735797',\n",
    "    'Dragon': '#6F35FC',\n",
    "    'Dark': '#705746',\n",
    "    'Steel': '#B7B7CE',\n",
    "    'Fairy': '#D685AD'\n",
    "};\n",
    "\n",
    "colors = [type_colors.get(typ, 'gray') for typ in types]\n",
    "\n",
    "plt.figure(figsize=(10, 4))\n",
    "plt.bar(types, counts, color=colors)\n",
    "plt.xticks(rotation=90)\n",
    "plt.xlabel('Primary Type')\n",
    "plt.ylabel('Count')\n",
    "plt.title('Distribution of Pokémon Types (Primary)')\n",
    "\n",
    "plt.show()"
   ]
  },
  {
   "cell_type": "markdown",
   "id": "9fd4956a",
   "metadata": {
    "papermill": {
     "duration": 0.018624,
     "end_time": "2025-01-21T08:20:12.098496",
     "exception": false,
     "start_time": "2025-01-21T08:20:12.079872",
     "status": "completed"
    },
    "tags": []
   },
   "source": [
    "**Observations**\n",
    "\n",
    "* Water is the most common primary type, with the highest count among all types, showing its prevalence in the Pokémon dataset.\n",
    "* These two types also have high frequencies, making them common choices for primary types.\n",
    "* Types like Bug, Psychic, Fire, and Electric fall into a mid-range count, indicating they are fairly well-represented but not as dominant as Water or Normal.\n",
    "* Primary types such as Dragon, Ice, Steel, and Fairy are among the least common, highlighting their rarity in comparison to others.\n",
    "* Flying is significantly less frequent as a primary type, contrasting its prominence as a secondary type in the previous graph."
   ]
  },
  {
   "cell_type": "markdown",
   "id": "e156b314",
   "metadata": {
    "papermill": {
     "duration": 0.022353,
     "end_time": "2025-01-21T08:20:12.141185",
     "exception": false,
     "start_time": "2025-01-21T08:20:12.118832",
     "status": "completed"
    },
    "tags": []
   },
   "source": [
    "### Distribution of Secondary Types"
   ]
  },
  {
   "cell_type": "code",
   "execution_count": 14,
   "id": "9482d25b",
   "metadata": {
    "execution": {
     "iopub.execute_input": "2025-01-21T08:20:12.183745Z",
     "iopub.status.busy": "2025-01-21T08:20:12.183389Z",
     "iopub.status.idle": "2025-01-21T08:20:12.546829Z",
     "shell.execute_reply": "2025-01-21T08:20:12.545771Z"
    },
    "papermill": {
     "duration": 0.385195,
     "end_time": "2025-01-21T08:20:12.548686",
     "exception": false,
     "start_time": "2025-01-21T08:20:12.163491",
     "status": "completed"
    },
    "tags": []
   },
   "outputs": [
    {
     "data": {
      "image/png": "[encoded data removed]",
      "text/plain": [
       "<Figure size 1000x400 with 1 Axes>"
      ]
     },
     "metadata": {},
     "output_type": "display_data"
    }
   ],
   "source": [
    "type_counts = pokemon_df['type_2'].value_counts()\n",
    "\n",
    "types = type_counts.index\n",
    "counts = type_counts.values\n",
    "\n",
    "type_colors = {\n",
    "    'Normal': '#A8A77A',\n",
    "    'Fire': '#EE8130',\n",
    "    'Water': '#6390F0',\n",
    "    'Electric': '#F7D02C',\n",
    "    'Grass': '#7AC74C',\n",
    "    'Ice': '#96D9D6',\n",
    "    'Fighting': '#C22E28',\n",
    "    'Poison': '#A33EA1',\n",
    "    'Ground': '#E2BF65',\n",
    "    'Flying': '#A98FF3',\n",
    "    'Psychic': '#F95587',\n",
    "    'Bug': '#A6B91A',\n",
    "    'Rock': '#B6A136',\n",
    "    'Ghost': '#735797',\n",
    "    'Dragon': '#6F35FC',\n",
    "    'Dark': '#705746',\n",
    "    'Steel': '#B7B7CE',\n",
    "    'Fairy': '#D685AD'\n",
    "};\n",
    "\n",
    "colors = [type_colors.get(typ, 'gray') for typ in types]\n",
    "\n",
    "plt.figure(figsize=(10, 4))\n",
    "plt.bar(types, counts, color=colors)\n",
    "plt.xticks(rotation=90)\n",
    "plt.xlabel('Secondary Type')\n",
    "plt.ylabel('Count')\n",
    "plt.title('Distribution of Pokémon Types (Secondary)')\n",
    "\n",
    "plt.show()"
   ]
  },
  {
   "cell_type": "markdown",
   "id": "36fbe9f6",
   "metadata": {
    "papermill": {
     "duration": 0.02274,
     "end_time": "2025-01-21T08:20:12.593272",
     "exception": false,
     "start_time": "2025-01-21T08:20:12.570532",
     "status": "completed"
    },
    "tags": []
   },
   "source": [
    "**Observations**\n",
    "\n",
    "* The majority of Pokémon do not have a secondary type, as represented by the None category, which has by far the highest count.\n",
    "* Flying is the most frequent secondary type after \"None,\" suggesting that many Pokémon that do have a secondary type pair it with Flying.\n",
    "* Types like Fairy, Psychic, and Ground have notable frequencies, but still much lower than None or Flying.\n",
    "* Categories such as Bug, Electric, Fire, and Rock appear much less often as secondary types, indicating they are less commonly paired with other types.\n",
    "* Secondary types such as Dragon, Steel, and Ghost are present in a similar range, showing relatively rare but consistent pairings in the dataset."
   ]
  },
  {
   "cell_type": "markdown",
   "id": "22d9472c",
   "metadata": {
    "papermill": {
     "duration": 0.021089,
     "end_time": "2025-01-21T08:20:12.641085",
     "exception": false,
     "start_time": "2025-01-21T08:20:12.619996",
     "status": "completed"
    },
    "tags": []
   },
   "source": [
    "### Average Base Stats According to Primary Type"
   ]
  },
  {
   "cell_type": "code",
   "execution_count": 15,
   "id": "110d7e89",
   "metadata": {
    "execution": {
     "iopub.execute_input": "2025-01-21T08:20:12.682311Z",
     "iopub.status.busy": "2025-01-21T08:20:12.681955Z",
     "iopub.status.idle": "2025-01-21T08:20:13.036807Z",
     "shell.execute_reply": "2025-01-21T08:20:13.035512Z"
    },
    "papermill": {
     "duration": 0.377277,
     "end_time": "2025-01-21T08:20:13.038684",
     "exception": false,
     "start_time": "2025-01-21T08:20:12.661407",
     "status": "completed"
    },
    "tags": []
   },
   "outputs": [
    {
     "data": {
      "image/png": "[encoded data removed]",
      "text/plain": [
       "<Figure size 800x600 with 2 Axes>"
      ]
     },
     "metadata": {},
     "output_type": "display_data"
    }
   ],
   "source": [
    "pokemon_df.rename(columns={'name':'Name', 'status':'Status', 'hp':'HP', 'attack':'Attack', 'defense':'Defense', \n",
    "                           'sp_attack':'Sp. Attack', 'sp_defense':'Sp. Defense', 'speed':'Speed'}, inplace=True)\n",
    "\n",
    "numeric_attributes = ['HP', 'Attack', 'Defense', 'Sp. Attack', 'Sp. Defense', 'Speed']\n",
    "\n",
    "type_mean_stats = pokemon_df.groupby('type_1')[numeric_attributes].mean()\n",
    "\n",
    "plt.figure(figsize=(8, 6))\n",
    "heatmap = plt.pcolor(type_mean_stats, cmap='RdYlBu', edgecolor='k')\n",
    "plt.colorbar(heatmap)\n",
    "plt.xticks(np.arange(len(numeric_attributes)) + 0.5, numeric_attributes, rotation=45)\n",
    "plt.yticks(np.arange(len(type_mean_stats)) + 0.5, type_mean_stats.index)\n",
    "plt.title('Average Base Stats by Pokémon Primary Type')\n",
    "plt.show()"
   ]
  },
  {
   "cell_type": "markdown",
   "id": "8fa8bb0d",
   "metadata": {
    "papermill": {
     "duration": 0.021165,
     "end_time": "2025-01-21T08:20:13.081584",
     "exception": false,
     "start_time": "2025-01-21T08:20:13.060419",
     "status": "completed"
    },
    "tags": []
   },
   "source": [
    "**Observations**\n",
    "\n",
    "* Steel Pokémon stand out with the highest average Defense stats, making them the most defensively oriented primary type.\n",
    "\n",
    "* Dragon Pokémon have strong averages in multiple categories, particularly Special Attack and HP, showing their role as powerful, well-rounded Pokémon.\n",
    "\n",
    "* Bug Pokémon consistently rank among the lowest in almost all base stats, reflecting their tendency to be early-game or niche choices.\n",
    "\n",
    "* Electric and Flying types excel in Speed, while Rock and Steel types are slower, highlighting a clear division between offensive/agile and defensive/slow archetypes.\n",
    "\n",
    "* Both Rock and Ground types show above-average Defense and Special Defense, emphasizing their durability despite generally lower Speed.\n",
    "\n",
    "* Types like Fire (Special Attack), Fighting (Attack), and Electric (Speed and Special Attack) lean heavily toward offensive capabilities."
   ]
  },
  {
   "cell_type": "markdown",
   "id": "299db7ac",
   "metadata": {
    "papermill": {
     "duration": 0.020776,
     "end_time": "2025-01-21T08:20:13.123609",
     "exception": false,
     "start_time": "2025-01-21T08:20:13.102833",
     "status": "completed"
    },
    "tags": []
   },
   "source": [
    "### Distribution of Total Stats According to Primary Type"
   ]
  },
  {
   "cell_type": "code",
   "execution_count": 16,
   "id": "84b14aa4",
   "metadata": {
    "execution": {
     "iopub.execute_input": "2025-01-21T08:20:13.167410Z",
     "iopub.status.busy": "2025-01-21T08:20:13.167023Z",
     "iopub.status.idle": "2025-01-21T08:20:13.726880Z",
     "shell.execute_reply": "2025-01-21T08:20:13.725784Z"
    },
    "papermill": {
     "duration": 0.583739,
     "end_time": "2025-01-21T08:20:13.728603",
     "exception": false,
     "start_time": "2025-01-21T08:20:13.144864",
     "status": "completed"
    },
    "tags": []
   },
   "outputs": [
    {
     "data": {
      "image/png": "[encoded data removed]",
      "text/plain": [
       "<Figure size 800x400 with 1 Axes>"
      ]
     },
     "metadata": {},
     "output_type": "display_data"
    }
   ],
   "source": [
    "plt.figure(figsize=(8, 4))\n",
    "plt.xticks(rotation=90)\n",
    "plt.title('Distribution of Total Stats by Primary Type')\n",
    "plt.xlabel('Primary Types')\n",
    "plt.ylabel('Total')\n",
    "plt.grid(axis='y', linestyle='--', alpha=0.7)\n",
    "\n",
    "plt.boxplot(\n",
    "    [pokemon_df['total_points'][pokemon_df['type_1'] == t] for t in pokemon_df['type_1'].unique()],\n",
    "    labels=pokemon_df['type_1'].unique()\n",
    ")\n",
    "\n",
    "plt.show()"
   ]
  },
  {
   "cell_type": "markdown",
   "id": "ddc2a77e",
   "metadata": {
    "papermill": {
     "duration": 0.022212,
     "end_time": "2025-01-21T08:20:13.773257",
     "exception": false,
     "start_time": "2025-01-21T08:20:13.751045",
     "status": "completed"
    },
    "tags": []
   },
   "source": [
    "**Observations**\n",
    "\n",
    "* The Dragon type has the highest median and overall range of total stats, underscoring their role as powerful and often legendary Pokémon.\n",
    "\n",
    "* Bug Pokémon have the lowest median and range of total stats, emphasizing their position as generally weaker or early-game options.\n",
    "\n",
    "* Both Electric and Poison types show a wide spread in total stats, with some high-performing outliers, suggesting a mix of both weaker and stronger Pokémon in these categories.\n",
    "\n",
    "* Types like Grass, Fire, Water, and Normal exhibit tight interquartile ranges, meaning the majority of Pokémon within these types have similar total stats.\n",
    "\n",
    "* Some outliers are visible (e.g., high-performing Electric or Dragon types), indicating rare but exceptionally strong Pokémon within certain types.\n",
    "\n",
    "* Types like Rock and Steel lean toward higher total stats, likely driven by their defensive capabilities."
   ]
  },
  {
   "cell_type": "markdown",
   "id": "c67cd0e1",
   "metadata": {
    "papermill": {
     "duration": 0.022306,
     "end_time": "2025-01-21T08:20:13.818711",
     "exception": false,
     "start_time": "2025-01-21T08:20:13.796405",
     "status": "completed"
    },
    "tags": []
   },
   "source": [
    "### Distribution of Status According to Primary Type"
   ]
  },
  {
   "cell_type": "code",
   "execution_count": 17,
   "id": "28cb6c32",
   "metadata": {
    "execution": {
     "iopub.execute_input": "2025-01-21T08:20:13.864958Z",
     "iopub.status.busy": "2025-01-21T08:20:13.864569Z",
     "iopub.status.idle": "2025-01-21T08:20:14.388967Z",
     "shell.execute_reply": "2025-01-21T08:20:14.387880Z"
    },
    "papermill": {
     "duration": 0.549739,
     "end_time": "2025-01-21T08:20:14.390803",
     "exception": false,
     "start_time": "2025-01-21T08:20:13.841064",
     "status": "completed"
    },
    "tags": []
   },
   "outputs": [
    {
     "data": {
      "image/png": "[encoded data removed]",
      "text/plain": [
       "<Figure size 1200x600 with 1 Axes>"
      ]
     },
     "metadata": {},
     "output_type": "display_data"
    }
   ],
   "source": [
    "plt.figure(figsize=(12, 6))\n",
    "plt.xticks(rotation=90)\n",
    "plt.title('Distribution of Status by Primary Type')\n",
    "plt.xlabel('Primary Type')\n",
    "plt.ylabel('Status')\n",
    "plt.grid(axis='y', linestyle='--', alpha=0.7)\n",
    "\n",
    "status_count = pokemon_df.groupby(['type_1', 'Status']).size().unstack()\n",
    "\n",
    "status_count.plot(kind='bar', stacked=True, ax=plt.gca(), colormap='Set3')\n",
    "\n",
    "plt.show()"
   ]
  },
  {
   "cell_type": "markdown",
   "id": "4353e914",
   "metadata": {
    "papermill": {
     "duration": 0.024039,
     "end_time": "2025-01-21T08:20:14.439345",
     "exception": false,
     "start_time": "2025-01-21T08:20:14.415306",
     "status": "completed"
    },
    "tags": []
   },
   "source": [
    "**Observations**\n",
    "\n",
    "* The Normal type has the highest count of Pokémon, almost exclusively composed of Normal status (non-legendary, non-mythical, non-sub-legendary).\n",
    "\n",
    "* The Water type not only has the highest count of Pokémon overall but also features a notable number of Sub-Legendaries, reflecting its diversity.\n",
    "\n",
    "* These types have a relatively large proportion of Legendary and Mythical Pokémon, indicating their association with powerful or rare Pokémon.\n",
    "\n",
    "* Both Bug and Poison types are overwhelmingly composed of Normal status Pokémon, highlighting their lower representation in rare or powerful categories.\n",
    "\n",
    "* Types like Ice, Ground, and Fire have a significant number of Sub-Legendary Pokémon, suggesting their role in balancing power levels across various primary types.\n",
    "\n",
    "* Despite its strategic importance, Fairy has relatively few Legendary or Sub-Legendary Pokémon, making it unique in this distribution."
   ]
  },
  {
   "cell_type": "markdown",
   "id": "54950c4e",
   "metadata": {
    "papermill": {
     "duration": 0.024624,
     "end_time": "2025-01-21T08:20:14.488552",
     "exception": false,
     "start_time": "2025-01-21T08:20:14.463928",
     "status": "completed"
    },
    "tags": []
   },
   "source": [
    "## Cleaning the Dataset"
   ]
  },
  {
   "cell_type": "markdown",
   "id": "64564e81",
   "metadata": {
    "papermill": {
     "duration": 0.023427,
     "end_time": "2025-01-21T08:20:14.536293",
     "exception": false,
     "start_time": "2025-01-21T08:20:14.512866",
     "status": "completed"
    },
    "tags": []
   },
   "source": [
    "#### Remove Unnecessary Columns"
   ]
  },
  {
   "cell_type": "code",
   "execution_count": 18,
   "id": "824ef57a",
   "metadata": {
    "execution": {
     "iopub.execute_input": "2025-01-21T08:20:14.587144Z",
     "iopub.status.busy": "2025-01-21T08:20:14.586708Z",
     "iopub.status.idle": "2025-01-21T08:20:14.592668Z",
     "shell.execute_reply": "2025-01-21T08:20:14.591758Z"
    },
    "papermill": {
     "duration": 0.034323,
     "end_time": "2025-01-21T08:20:14.594432",
     "exception": false,
     "start_time": "2025-01-21T08:20:14.560109",
     "status": "completed"
    },
    "tags": []
   },
   "outputs": [],
   "source": [
    "pokemon_df = pokemon_df.drop(['german_name', 'species', 'japanese_name', 'base_friendship', 'base_experience', 'egg_type_number',\n",
    "                              'abilities_number', 'percentage_male', 'height_m', 'weight_kg', 'growth_rate',\n",
    "                               'egg_type_1', 'egg_type_2', 'egg_cycles', 'pokedex_number'], axis=1)"
   ]
  },
  {
   "cell_type": "markdown",
   "id": "3611b77f",
   "metadata": {
    "papermill": {
     "duration": 0.024203,
     "end_time": "2025-01-21T08:20:14.643388",
     "exception": false,
     "start_time": "2025-01-21T08:20:14.619185",
     "status": "completed"
    },
    "tags": []
   },
   "source": [
    "#### Rename Columns and Fill Remaining Null Values"
   ]
  },
  {
   "cell_type": "code",
   "execution_count": 19,
   "id": "2973880b",
   "metadata": {
    "execution": {
     "iopub.execute_input": "2025-01-21T08:20:14.692945Z",
     "iopub.status.busy": "2025-01-21T08:20:14.692539Z",
     "iopub.status.idle": "2025-01-21T08:20:14.699629Z",
     "shell.execute_reply": "2025-01-21T08:20:14.698497Z"
    },
    "papermill": {
     "duration": 0.034012,
     "end_time": "2025-01-21T08:20:14.701432",
     "exception": false,
     "start_time": "2025-01-21T08:20:14.667420",
     "status": "completed"
    },
    "tags": []
   },
   "outputs": [],
   "source": [
    "pokemon_df.rename(columns={'Unnamed: 0':'pokedex_number', 'Name':'name', 'Status':'status',\n",
    "                           'type_1':'primary_type', 'type_2':'secondary_type', 'against_fight':'against_fighting'}, inplace=True)\n",
    "pokemon_df['catch_rate'].fillna(value='None', inplace=True)"
   ]
  },
  {
   "cell_type": "code",
   "execution_count": 20,
   "id": "06e02bf9",
   "metadata": {
    "execution": {
     "iopub.execute_input": "2025-01-21T08:20:14.750746Z",
     "iopub.status.busy": "2025-01-21T08:20:14.750383Z",
     "iopub.status.idle": "2025-01-21T08:20:14.758997Z",
     "shell.execute_reply": "2025-01-21T08:20:14.758137Z"
    },
    "papermill": {
     "duration": 0.035347,
     "end_time": "2025-01-21T08:20:14.760709",
     "exception": false,
     "start_time": "2025-01-21T08:20:14.725362",
     "status": "completed"
    },
    "tags": []
   },
   "outputs": [
    {
     "data": {
      "text/plain": [
       "pokedex_number      0\n",
       "name                0\n",
       "generation          0\n",
       "status              0\n",
       "type_number         0\n",
       "primary_type        0\n",
       "secondary_type      0\n",
       "ability_1           0\n",
       "ability_2           0\n",
       "ability_hidden      0\n",
       "total_points        0\n",
       "HP                  0\n",
       "Attack              0\n",
       "Defense             0\n",
       "Sp. Attack          0\n",
       "Sp. Defense         0\n",
       "Speed               0\n",
       "catch_rate          0\n",
       "against_normal      0\n",
       "against_fire        0\n",
       "against_water       0\n",
       "against_electric    0\n",
       "against_grass       0\n",
       "against_ice         0\n",
       "against_fighting    0\n",
       "against_poison      0\n",
       "against_ground      0\n",
       "against_flying      0\n",
       "against_psychic     0\n",
       "against_bug         0\n",
       "against_rock        0\n",
       "against_ghost       0\n",
       "against_dragon      0\n",
       "against_dark        0\n",
       "against_steel       0\n",
       "against_fairy       0\n",
       "dtype: int64"
      ]
     },
     "execution_count": 20,
     "metadata": {},
     "output_type": "execute_result"
    }
   ],
   "source": [
    "pokemon_df.isnull().sum()"
   ]
  },
  {
   "cell_type": "code",
   "execution_count": 21,
   "id": "7ba52da0",
   "metadata": {
    "execution": {
     "iopub.execute_input": "2025-01-21T08:20:14.813250Z",
     "iopub.status.busy": "2025-01-21T08:20:14.812818Z",
     "iopub.status.idle": "2025-01-21T08:20:14.836094Z",
     "shell.execute_reply": "2025-01-21T08:20:14.835140Z"
    },
    "papermill": {
     "duration": 0.051309,
     "end_time": "2025-01-21T08:20:14.837880",
     "exception": false,
     "start_time": "2025-01-21T08:20:14.786571",
     "status": "completed"
    },
    "tags": []
   },
   "outputs": [
    {
     "data": {
      "text/html": [
       "<div>\n",
       "<style scoped>\n",
       "    .dataframe tbody tr th:only-of-type {\n",
       "        vertical-align: middle;\n",
       "    }\n",
       "\n",
       "    .dataframe tbody tr th {\n",
       "        vertical-align: top;\n",
       "    }\n",
       "\n",
       "    .dataframe thead th {\n",
       "        text-align: right;\n",
       "    }\n",
       "</style>\n",
       "<table border=\"1\" class=\"dataframe\">\n",
       "  <thead>\n",
       "    <tr style=\"text-align: right;\">\n",
       "      <th></th>\n",
       "      <th>pokedex_number</th>\n",
       "      <th>name</th>\n",
       "      <th>generation</th>\n",
       "      <th>status</th>\n",
       "      <th>type_number</th>\n",
       "      <th>primary_type</th>\n",
       "      <th>secondary_type</th>\n",
       "      <th>ability_1</th>\n",
       "      <th>ability_2</th>\n",
       "      <th>ability_hidden</th>\n",
       "      <th>...</th>\n",
       "      <th>against_ground</th>\n",
       "      <th>against_flying</th>\n",
       "      <th>against_psychic</th>\n",
       "      <th>against_bug</th>\n",
       "      <th>against_rock</th>\n",
       "      <th>against_ghost</th>\n",
       "      <th>against_dragon</th>\n",
       "      <th>against_dark</th>\n",
       "      <th>against_steel</th>\n",
       "      <th>against_fairy</th>\n",
       "    </tr>\n",
       "  </thead>\n",
       "  <tbody>\n",
       "    <tr>\n",
       "      <th>0</th>\n",
       "      <td>0</td>\n",
       "      <td>Bulbasaur</td>\n",
       "      <td>1</td>\n",
       "      <td>Normal</td>\n",
       "      <td>2</td>\n",
       "      <td>Grass</td>\n",
       "      <td>Poison</td>\n",
       "      <td>Overgrow</td>\n",
       "      <td>None</td>\n",
       "      <td>Chlorophyll</td>\n",
       "      <td>...</td>\n",
       "      <td>1.0</td>\n",
       "      <td>2.0</td>\n",
       "      <td>2.0</td>\n",
       "      <td>1.0</td>\n",
       "      <td>1.0</td>\n",
       "      <td>1.0</td>\n",
       "      <td>1.0</td>\n",
       "      <td>1.0</td>\n",
       "      <td>1.0</td>\n",
       "      <td>0.5</td>\n",
       "    </tr>\n",
       "    <tr>\n",
       "      <th>1</th>\n",
       "      <td>1</td>\n",
       "      <td>Ivysaur</td>\n",
       "      <td>1</td>\n",
       "      <td>Normal</td>\n",
       "      <td>2</td>\n",
       "      <td>Grass</td>\n",
       "      <td>Poison</td>\n",
       "      <td>Overgrow</td>\n",
       "      <td>None</td>\n",
       "      <td>Chlorophyll</td>\n",
       "      <td>...</td>\n",
       "      <td>1.0</td>\n",
       "      <td>2.0</td>\n",
       "      <td>2.0</td>\n",
       "      <td>1.0</td>\n",
       "      <td>1.0</td>\n",
       "      <td>1.0</td>\n",
       "      <td>1.0</td>\n",
       "      <td>1.0</td>\n",
       "      <td>1.0</td>\n",
       "      <td>0.5</td>\n",
       "    </tr>\n",
       "    <tr>\n",
       "      <th>2</th>\n",
       "      <td>2</td>\n",
       "      <td>Venusaur</td>\n",
       "      <td>1</td>\n",
       "      <td>Normal</td>\n",
       "      <td>2</td>\n",
       "      <td>Grass</td>\n",
       "      <td>Poison</td>\n",
       "      <td>Overgrow</td>\n",
       "      <td>None</td>\n",
       "      <td>Chlorophyll</td>\n",
       "      <td>...</td>\n",
       "      <td>1.0</td>\n",
       "      <td>2.0</td>\n",
       "      <td>2.0</td>\n",
       "      <td>1.0</td>\n",
       "      <td>1.0</td>\n",
       "      <td>1.0</td>\n",
       "      <td>1.0</td>\n",
       "      <td>1.0</td>\n",
       "      <td>1.0</td>\n",
       "      <td>0.5</td>\n",
       "    </tr>\n",
       "    <tr>\n",
       "      <th>3</th>\n",
       "      <td>3</td>\n",
       "      <td>Mega Venusaur</td>\n",
       "      <td>1</td>\n",
       "      <td>Normal</td>\n",
       "      <td>2</td>\n",
       "      <td>Grass</td>\n",
       "      <td>Poison</td>\n",
       "      <td>Thick Fat</td>\n",
       "      <td>None</td>\n",
       "      <td>None</td>\n",
       "      <td>...</td>\n",
       "      <td>1.0</td>\n",
       "      <td>2.0</td>\n",
       "      <td>2.0</td>\n",
       "      <td>1.0</td>\n",
       "      <td>1.0</td>\n",
       "      <td>1.0</td>\n",
       "      <td>1.0</td>\n",
       "      <td>1.0</td>\n",
       "      <td>1.0</td>\n",
       "      <td>0.5</td>\n",
       "    </tr>\n",
       "    <tr>\n",
       "      <th>4</th>\n",
       "      <td>4</td>\n",
       "      <td>Charmander</td>\n",
       "      <td>1</td>\n",
       "      <td>Normal</td>\n",
       "      <td>1</td>\n",
       "      <td>Fire</td>\n",
       "      <td>None</td>\n",
       "      <td>Blaze</td>\n",
       "      <td>None</td>\n",
       "      <td>Solar Power</td>\n",
       "      <td>...</td>\n",
       "      <td>2.0</td>\n",
       "      <td>1.0</td>\n",
       "      <td>1.0</td>\n",
       "      <td>0.5</td>\n",
       "      <td>2.0</td>\n",
       "      <td>1.0</td>\n",
       "      <td>1.0</td>\n",
       "      <td>1.0</td>\n",
       "      <td>0.5</td>\n",
       "      <td>0.5</td>\n",
       "    </tr>\n",
       "  </tbody>\n",
       "</table>\n",
       "<p>5 rows × 36 columns</p>\n",
       "</div>"
      ],
      "text/plain": [
       "   pokedex_number           name  generation  status  type_number  \\\n",
       "0               0      Bulbasaur           1  Normal            2   \n",
       "1               1        Ivysaur           1  Normal            2   \n",
       "2               2       Venusaur           1  Normal            2   \n",
       "3               3  Mega Venusaur           1  Normal            2   \n",
       "4               4     Charmander           1  Normal            1   \n",
       "\n",
       "  primary_type secondary_type  ability_1 ability_2 ability_hidden  ...  \\\n",
       "0        Grass         Poison   Overgrow      None    Chlorophyll  ...   \n",
       "1        Grass         Poison   Overgrow      None    Chlorophyll  ...   \n",
       "2        Grass         Poison   Overgrow      None    Chlorophyll  ...   \n",
       "3        Grass         Poison  Thick Fat      None           None  ...   \n",
       "4         Fire           None      Blaze      None    Solar Power  ...   \n",
       "\n",
       "   against_ground  against_flying  against_psychic  against_bug  against_rock  \\\n",
       "0             1.0             2.0              2.0          1.0           1.0   \n",
       "1             1.0             2.0              2.0          1.0           1.0   \n",
       "2             1.0             2.0              2.0          1.0           1.0   \n",
       "3             1.0             2.0              2.0          1.0           1.0   \n",
       "4             2.0             1.0              1.0          0.5           2.0   \n",
       "\n",
       "   against_ghost  against_dragon against_dark  against_steel  against_fairy  \n",
       "0            1.0             1.0          1.0            1.0            0.5  \n",
       "1            1.0             1.0          1.0            1.0            0.5  \n",
       "2            1.0             1.0          1.0            1.0            0.5  \n",
       "3            1.0             1.0          1.0            1.0            0.5  \n",
       "4            1.0             1.0          1.0            0.5            0.5  \n",
       "\n",
       "[5 rows x 36 columns]"
      ]
     },
     "execution_count": 21,
     "metadata": {},
     "output_type": "execute_result"
    }
   ],
   "source": [
    "pokemon_df.head()"
   ]
  },
  {
   "cell_type": "markdown",
   "id": "a9d01584",
   "metadata": {
    "papermill": {
     "duration": 0.024125,
     "end_time": "2025-01-21T08:20:14.886342",
     "exception": false,
     "start_time": "2025-01-21T08:20:14.862217",
     "status": "completed"
    },
    "tags": []
   },
   "source": [
    "#### Save Cleaned Dataset to CSV File"
   ]
  },
  {
   "cell_type": "code",
   "execution_count": 22,
   "id": "5cd0a908",
   "metadata": {
    "execution": {
     "iopub.execute_input": "2025-01-21T08:20:14.936612Z",
     "iopub.status.busy": "2025-01-21T08:20:14.936283Z",
     "iopub.status.idle": "2025-01-21T08:20:14.939877Z",
     "shell.execute_reply": "2025-01-21T08:20:14.939037Z"
    },
    "papermill": {
     "duration": 0.030524,
     "end_time": "2025-01-21T08:20:14.941550",
     "exception": false,
     "start_time": "2025-01-21T08:20:14.911026",
     "status": "completed"
    },
    "tags": []
   },
   "outputs": [],
   "source": [
    "# Save the updated dataset\n",
    "#pokemon_df.to_csv('updated_cleaned_pokemon_data.csv', index=False)\n",
    "#pokemon_df.to_csv('cleaned_pokemon_data.csv', index=False)"
   ]
  },
  {
   "cell_type": "markdown",
   "id": "46f302b4",
   "metadata": {
    "papermill": {
     "duration": 0.024146,
     "end_time": "2025-01-21T08:20:14.989900",
     "exception": false,
     "start_time": "2025-01-21T08:20:14.965754",
     "status": "completed"
    },
    "tags": []
   },
   "source": [
    "## Modeling (Random Forest)"
   ]
  },
  {
   "cell_type": "markdown",
   "id": "a97c713d",
   "metadata": {
    "papermill": {
     "duration": 0.02376,
     "end_time": "2025-01-21T08:20:15.037825",
     "exception": false,
     "start_time": "2025-01-21T08:20:15.014065",
     "status": "completed"
    },
    "tags": []
   },
   "source": [
    "#### Preparing Data"
   ]
  },
  {
   "cell_type": "markdown",
   "id": "7c507821",
   "metadata": {
    "papermill": {
     "duration": 0.023818,
     "end_time": "2025-01-21T08:20:15.085625",
     "exception": false,
     "start_time": "2025-01-21T08:20:15.061807",
     "status": "completed"
    },
    "tags": []
   },
   "source": [
    "Now that the data has been cleaned, it is time to choose features for our model. Since the dataset is large with many features, a random forest will perform better in terms of reducing overfitting and improving accuracy. To accurately identify the primary and secondary typing of Pokemon, we will use the 18 effectiveness multipliers (against_normal, against_fire, etc.) as well as generation and status. By utilizing the multipliers alone, we can achieve high accuracy because there is a direct correlation between typing and effectiveness against other types. Status and generation are also be two features that will prove effective in accurate predictions.  "
   ]
  },
  {
   "cell_type": "code",
   "execution_count": 23,
   "id": "d3937f7c",
   "metadata": {
    "execution": {
     "iopub.execute_input": "2025-01-21T08:20:15.135106Z",
     "iopub.status.busy": "2025-01-21T08:20:15.134734Z",
     "iopub.status.idle": "2025-01-21T08:20:15.142470Z",
     "shell.execute_reply": "2025-01-21T08:20:15.141374Z"
    },
    "papermill": {
     "duration": 0.034384,
     "end_time": "2025-01-21T08:20:15.144119",
     "exception": false,
     "start_time": "2025-01-21T08:20:15.109735",
     "status": "completed"
    },
    "tags": []
   },
   "outputs": [],
   "source": [
    "# Map 'Status' to the corresponding index\n",
    "status_mapping = {\n",
    "    'Normal': 0,\n",
    "    'Sub Legendary': 1,\n",
    "    'Mythical': 2,\n",
    "    'Legendary': 3\n",
    "}\n",
    "\n",
    "pokemon_df['status'] = pokemon_df['status'].map(status_mapping)\n",
    "\n",
    "# Relevant features and target variables for primary and secondary types\n",
    "X = pokemon_df[['generation', 'status', 'against_normal', 'against_fire', 'against_water', 'against_electric', \n",
    "                  'against_grass', 'against_ice', 'against_fighting', 'against_poison', 'against_ground', 'against_flying',\n",
    "                  'against_psychic', 'against_bug', 'against_rock', 'against_ghost', 'against_dragon',\n",
    "                  'against_dark', 'against_steel', 'against_fairy']]\n",
    "y_primary = pokemon_df['primary_type']\n",
    "y_secondary = pokemon_df['secondary_type']"
   ]
  },
  {
   "cell_type": "markdown",
   "id": "bc660f67",
   "metadata": {
    "papermill": {
     "duration": 0.023987,
     "end_time": "2025-01-21T08:20:15.192498",
     "exception": false,
     "start_time": "2025-01-21T08:20:15.168511",
     "status": "completed"
    },
    "tags": []
   },
   "source": [
    "#### Random Forest Model"
   ]
  },
  {
   "cell_type": "code",
   "execution_count": 24,
   "id": "a50f178d",
   "metadata": {
    "execution": {
     "iopub.execute_input": "2025-01-21T08:20:15.242193Z",
     "iopub.status.busy": "2025-01-21T08:20:15.241783Z",
     "iopub.status.idle": "2025-01-21T08:20:15.249333Z",
     "shell.execute_reply": "2025-01-21T08:20:15.248432Z"
    },
    "papermill": {
     "duration": 0.03442,
     "end_time": "2025-01-21T08:20:15.251061",
     "exception": false,
     "start_time": "2025-01-21T08:20:15.216641",
     "status": "completed"
    },
    "tags": []
   },
   "outputs": [],
   "source": [
    "# Split into training and testing sets\n",
    "X_train, X_test, y_primary_train, y_primary_test, y_secondary_train, y_secondary_test = train_test_split(\n",
    "    X, y_primary, y_secondary, test_size=0.2, random_state=42\n",
    ")"
   ]
  },
  {
   "cell_type": "code",
   "execution_count": 25,
   "id": "b0b8a366",
   "metadata": {
    "execution": {
     "iopub.execute_input": "2025-01-21T08:20:15.301229Z",
     "iopub.status.busy": "2025-01-21T08:20:15.300835Z",
     "iopub.status.idle": "2025-01-21T08:20:15.512749Z",
     "shell.execute_reply": "2025-01-21T08:20:15.511692Z"
    },
    "papermill": {
     "duration": 0.238943,
     "end_time": "2025-01-21T08:20:15.514517",
     "exception": false,
     "start_time": "2025-01-21T08:20:15.275574",
     "status": "completed"
    },
    "tags": []
   },
   "outputs": [
    {
     "data": {
      "text/html": [
       "<style>#sk-container-id-1 {color: black;background-color: white;}#sk-container-id-1 pre{padding: 0;}#sk-container-id-1 div.sk-toggleable {background-color: white;}#sk-container-id-1 label.sk-toggleable__label {cursor: pointer;display: block;width: 100%;margin-bottom: 0;padding: 0.3em;box-sizing: border-box;text-align: center;}#sk-container-id-1 label.sk-toggleable__label-arrow:before {content: \"▸\";float: left;margin-right: 0.25em;color: #696969;}#sk-container-id-1 label.sk-toggleable__label-arrow:hover:before {color: black;}#sk-container-id-1 div.sk-estimator:hover label.sk-toggleable__label-arrow:before {color: black;}#sk-container-id-1 div.sk-toggleable__content {max-height: 0;max-width: 0;overflow: hidden;text-align: left;background-color: #f0f8ff;}#sk-container-id-1 div.sk-toggleable__content pre {margin: 0.2em;color: black;border-radius: 0.25em;background-color: #f0f8ff;}#sk-container-id-1 input.sk-toggleable__control:checked~div.sk-toggleable__content {max-height: 200px;max-width: 100%;overflow: auto;}#sk-container-id-1 input.sk-toggleable__control:checked~label.sk-toggleable__label-arrow:before {content: \"▾\";}#sk-container-id-1 div.sk-estimator input.sk-toggleable__control:checked~label.sk-toggleable__label {background-color: #d4ebff;}#sk-container-id-1 div.sk-label input.sk-toggleable__control:checked~label.sk-toggleable__label {background-color: #d4ebff;}#sk-container-id-1 input.sk-hidden--visually {border: 0;clip: rect(1px 1px 1px 1px);clip: rect(1px, 1px, 1px, 1px);height: 1px;margin: -1px;overflow: hidden;padding: 0;position: absolute;width: 1px;}#sk-container-id-1 div.sk-estimator {font-family: monospace;background-color: #f0f8ff;border: 1px dotted black;border-radius: 0.25em;box-sizing: border-box;margin-bottom: 0.5em;}#sk-container-id-1 div.sk-estimator:hover {background-color: #d4ebff;}#sk-container-id-1 div.sk-parallel-item::after {content: \"\";width: 100%;border-bottom: 1px solid gray;flex-grow: 1;}#sk-container-id-1 div.sk-label:hover label.sk-toggleable__label {background-color: #d4ebff;}#sk-container-id-1 div.sk-serial::before {content: \"\";position: absolute;border-left: 1px solid gray;box-sizing: border-box;top: 0;bottom: 0;left: 50%;z-index: 0;}#sk-container-id-1 div.sk-serial {display: flex;flex-direction: column;align-items: center;background-color: white;padding-right: 0.2em;padding-left: 0.2em;position: relative;}#sk-container-id-1 div.sk-item {position: relative;z-index: 1;}#sk-container-id-1 div.sk-parallel {display: flex;align-items: stretch;justify-content: center;background-color: white;position: relative;}#sk-container-id-1 div.sk-item::before, #sk-container-id-1 div.sk-parallel-item::before {content: \"\";position: absolute;border-left: 1px solid gray;box-sizing: border-box;top: 0;bottom: 0;left: 50%;z-index: -1;}#sk-container-id-1 div.sk-parallel-item {display: flex;flex-direction: column;z-index: 1;position: relative;background-color: white;}#sk-container-id-1 div.sk-parallel-item:first-child::after {align-self: flex-end;width: 50%;}#sk-container-id-1 div.sk-parallel-item:last-child::after {align-self: flex-start;width: 50%;}#sk-container-id-1 div.sk-parallel-item:only-child::after {width: 0;}#sk-container-id-1 div.sk-dashed-wrapped {border: 1px dashed gray;margin: 0 0.4em 0.5em 0.4em;box-sizing: border-box;padding-bottom: 0.4em;background-color: white;}#sk-container-id-1 div.sk-label label {font-family: monospace;font-weight: bold;display: inline-block;line-height: 1.2em;}#sk-container-id-1 div.sk-label-container {text-align: center;}#sk-container-id-1 div.sk-container {/* jupyter's `normalize.less` sets `[hidden] { display: none; }` but bootstrap.min.css set `[hidden] { display: none !important; }` so we also need the `!important` here to be able to override the default hidden behavior on the sphinx rendered scikit-learn.org. See: https://github.com/scikit-learn/scikit-learn/issues/21755 */display: inline-block !important;position: relative;}#sk-container-id-1 div.sk-text-repr-fallback {display: none;}</style><div id=\"sk-container-id-1\" class=\"sk-top-container\"><div class=\"sk-text-repr-fallback\"><pre>RandomForestClassifier(random_state=42)</pre><b>In a Jupyter environment, please rerun this cell to show the HTML representation or trust the notebook. <br />On GitHub, the HTML representation is unable to render, please try loading this page with nbviewer.org.</b></div><div class=\"sk-container\" hidden><div class=\"sk-item\"><div class=\"sk-estimator sk-toggleable\"><input class=\"sk-toggleable__control sk-hidden--visually\" id=\"sk-estimator-id-1\" type=\"checkbox\" checked><label for=\"sk-estimator-id-1\" class=\"sk-toggleable__label sk-toggleable__label-arrow\">RandomForestClassifier</label><div class=\"sk-toggleable__content\"><pre>RandomForestClassifier(random_state=42)</pre></div></div></div></div></div>"
      ],
      "text/plain": [
       "RandomForestClassifier(random_state=42)"
      ]
     },
     "execution_count": 25,
     "metadata": {},
     "output_type": "execute_result"
    }
   ],
   "source": [
    "# Train the classifier for primary typing\n",
    "rf_classifier_primary = RandomForestClassifier(n_estimators=100, random_state=42)\n",
    "rf_classifier_primary.fit(X_train, y_primary_train)"
   ]
  },
  {
   "cell_type": "code",
   "execution_count": 26,
   "id": "0086ccc0",
   "metadata": {
    "execution": {
     "iopub.execute_input": "2025-01-21T08:20:15.565872Z",
     "iopub.status.busy": "2025-01-21T08:20:15.565370Z",
     "iopub.status.idle": "2025-01-21T08:20:15.784338Z",
     "shell.execute_reply": "2025-01-21T08:20:15.783319Z"
    },
    "papermill": {
     "duration": 0.246496,
     "end_time": "2025-01-21T08:20:15.786164",
     "exception": false,
     "start_time": "2025-01-21T08:20:15.539668",
     "status": "completed"
    },
    "tags": []
   },
   "outputs": [
    {
     "data": {
      "text/html": [
       "<style>#sk-container-id-2 {color: black;background-color: white;}#sk-container-id-2 pre{padding: 0;}#sk-container-id-2 div.sk-toggleable {background-color: white;}#sk-container-id-2 label.sk-toggleable__label {cursor: pointer;display: block;width: 100%;margin-bottom: 0;padding: 0.3em;box-sizing: border-box;text-align: center;}#sk-container-id-2 label.sk-toggleable__label-arrow:before {content: \"▸\";float: left;margin-right: 0.25em;color: #696969;}#sk-container-id-2 label.sk-toggleable__label-arrow:hover:before {color: black;}#sk-container-id-2 div.sk-estimator:hover label.sk-toggleable__label-arrow:before {color: black;}#sk-container-id-2 div.sk-toggleable__content {max-height: 0;max-width: 0;overflow: hidden;text-align: left;background-color: #f0f8ff;}#sk-container-id-2 div.sk-toggleable__content pre {margin: 0.2em;color: black;border-radius: 0.25em;background-color: #f0f8ff;}#sk-container-id-2 input.sk-toggleable__control:checked~div.sk-toggleable__content {max-height: 200px;max-width: 100%;overflow: auto;}#sk-container-id-2 input.sk-toggleable__control:checked~label.sk-toggleable__label-arrow:before {content: \"▾\";}#sk-container-id-2 div.sk-estimator input.sk-toggleable__control:checked~label.sk-toggleable__label {background-color: #d4ebff;}#sk-container-id-2 div.sk-label input.sk-toggleable__control:checked~label.sk-toggleable__label {background-color: #d4ebff;}#sk-container-id-2 input.sk-hidden--visually {border: 0;clip: rect(1px 1px 1px 1px);clip: rect(1px, 1px, 1px, 1px);height: 1px;margin: -1px;overflow: hidden;padding: 0;position: absolute;width: 1px;}#sk-container-id-2 div.sk-estimator {font-family: monospace;background-color: #f0f8ff;border: 1px dotted black;border-radius: 0.25em;box-sizing: border-box;margin-bottom: 0.5em;}#sk-container-id-2 div.sk-estimator:hover {background-color: #d4ebff;}#sk-container-id-2 div.sk-parallel-item::after {content: \"\";width: 100%;border-bottom: 1px solid gray;flex-grow: 1;}#sk-container-id-2 div.sk-label:hover label.sk-toggleable__label {background-color: #d4ebff;}#sk-container-id-2 div.sk-serial::before {content: \"\";position: absolute;border-left: 1px solid gray;box-sizing: border-box;top: 0;bottom: 0;left: 50%;z-index: 0;}#sk-container-id-2 div.sk-serial {display: flex;flex-direction: column;align-items: center;background-color: white;padding-right: 0.2em;padding-left: 0.2em;position: relative;}#sk-container-id-2 div.sk-item {position: relative;z-index: 1;}#sk-container-id-2 div.sk-parallel {display: flex;align-items: stretch;justify-content: center;background-color: white;position: relative;}#sk-container-id-2 div.sk-item::before, #sk-container-id-2 div.sk-parallel-item::before {content: \"\";position: absolute;border-left: 1px solid gray;box-sizing: border-box;top: 0;bottom: 0;left: 50%;z-index: -1;}#sk-container-id-2 div.sk-parallel-item {display: flex;flex-direction: column;z-index: 1;position: relative;background-color: white;}#sk-container-id-2 div.sk-parallel-item:first-child::after {align-self: flex-end;width: 50%;}#sk-container-id-2 div.sk-parallel-item:last-child::after {align-self: flex-start;width: 50%;}#sk-container-id-2 div.sk-parallel-item:only-child::after {width: 0;}#sk-container-id-2 div.sk-dashed-wrapped {border: 1px dashed gray;margin: 0 0.4em 0.5em 0.4em;box-sizing: border-box;padding-bottom: 0.4em;background-color: white;}#sk-container-id-2 div.sk-label label {font-family: monospace;font-weight: bold;display: inline-block;line-height: 1.2em;}#sk-container-id-2 div.sk-label-container {text-align: center;}#sk-container-id-2 div.sk-container {/* jupyter's `normalize.less` sets `[hidden] { display: none; }` but bootstrap.min.css set `[hidden] { display: none !important; }` so we also need the `!important` here to be able to override the default hidden behavior on the sphinx rendered scikit-learn.org. See: https://github.com/scikit-learn/scikit-learn/issues/21755 */display: inline-block !important;position: relative;}#sk-container-id-2 div.sk-text-repr-fallback {display: none;}</style><div id=\"sk-container-id-2\" class=\"sk-top-container\"><div class=\"sk-text-repr-fallback\"><pre>RandomForestClassifier(random_state=42)</pre><b>In a Jupyter environment, please rerun this cell to show the HTML representation or trust the notebook. <br />On GitHub, the HTML representation is unable to render, please try loading this page with nbviewer.org.</b></div><div class=\"sk-container\" hidden><div class=\"sk-item\"><div class=\"sk-estimator sk-toggleable\"><input class=\"sk-toggleable__control sk-hidden--visually\" id=\"sk-estimator-id-2\" type=\"checkbox\" checked><label for=\"sk-estimator-id-2\" class=\"sk-toggleable__label sk-toggleable__label-arrow\">RandomForestClassifier</label><div class=\"sk-toggleable__content\"><pre>RandomForestClassifier(random_state=42)</pre></div></div></div></div></div>"
      ],
      "text/plain": [
       "RandomForestClassifier(random_state=42)"
      ]
     },
     "execution_count": 26,
     "metadata": {},
     "output_type": "execute_result"
    }
   ],
   "source": [
    "# Train the classifier for secondary typing\n",
    "rf_classifier_secondary = RandomForestClassifier(n_estimators=100, random_state=42)\n",
    "rf_classifier_secondary.fit(X_train, y_secondary_train)"
   ]
  },
  {
   "cell_type": "code",
   "execution_count": 27,
   "id": "365acb03",
   "metadata": {
    "execution": {
     "iopub.execute_input": "2025-01-21T08:20:15.837252Z",
     "iopub.status.busy": "2025-01-21T08:20:15.836891Z",
     "iopub.status.idle": "2025-01-21T08:20:15.863375Z",
     "shell.execute_reply": "2025-01-21T08:20:15.862520Z"
    },
    "papermill": {
     "duration": 0.05391,
     "end_time": "2025-01-21T08:20:15.865200",
     "exception": false,
     "start_time": "2025-01-21T08:20:15.811290",
     "status": "completed"
    },
    "tags": []
   },
   "outputs": [],
   "source": [
    "# Test set to predict the primary and secondary typing of Pokemon\n",
    "y_primary_pred = rf_classifier_primary.predict(X_test)\n",
    "y_secondary_pred = rf_classifier_secondary.predict(X_test)"
   ]
  },
  {
   "cell_type": "markdown",
   "id": "3bd2b79c",
   "metadata": {
    "papermill": {
     "duration": 0.028041,
     "end_time": "2025-01-21T08:20:15.918657",
     "exception": false,
     "start_time": "2025-01-21T08:20:15.890616",
     "status": "completed"
    },
    "tags": []
   },
   "source": [
    "## Results"
   ]
  },
  {
   "cell_type": "code",
   "execution_count": 28,
   "id": "701a09ee",
   "metadata": {
    "execution": {
     "iopub.execute_input": "2025-01-21T08:20:15.972761Z",
     "iopub.status.busy": "2025-01-21T08:20:15.972423Z",
     "iopub.status.idle": "2025-01-21T08:20:15.993144Z",
     "shell.execute_reply": "2025-01-21T08:20:15.991978Z"
    },
    "papermill": {
     "duration": 0.049686,
     "end_time": "2025-01-21T08:20:15.994728",
     "exception": false,
     "start_time": "2025-01-21T08:20:15.945042",
     "status": "completed"
    },
    "tags": []
   },
   "outputs": [
    {
     "name": "stdout",
     "output_type": "stream",
     "text": [
      "Primary Typing Accuracy: 0.937799043062201\n",
      "Primary Typing Classification Report:\n",
      "               precision    recall  f1-score   support\n",
      "\n",
      "         Bug       1.00      0.87      0.93        15\n",
      "        Dark       1.00      1.00      1.00        12\n",
      "      Dragon       0.67      1.00      0.80         6\n",
      "    Electric       1.00      1.00      1.00         6\n",
      "       Fairy       1.00      0.75      0.86         4\n",
      "    Fighting       1.00      1.00      1.00         5\n",
      "        Fire       0.81      1.00      0.90        13\n",
      "      Flying       1.00      1.00      1.00         2\n",
      "       Ghost       0.89      0.80      0.84        10\n",
      "       Grass       1.00      1.00      1.00        28\n",
      "      Ground       1.00      0.89      0.94         9\n",
      "         Ice       1.00      0.80      0.89        10\n",
      "      Normal       0.94      1.00      0.97        29\n",
      "      Poison       1.00      1.00      1.00         8\n",
      "     Psychic       0.75      0.55      0.63        11\n",
      "        Rock       1.00      1.00      1.00         9\n",
      "       Steel       0.80      1.00      0.89         8\n",
      "       Water       1.00      1.00      1.00        24\n",
      "\n",
      "    accuracy                           0.94       209\n",
      "   macro avg       0.94      0.93      0.92       209\n",
      "weighted avg       0.94      0.94      0.94       209\n",
      "\n"
     ]
    }
   ],
   "source": [
    "# Calculate accuracy and other evaluation metrics for primary typing\n",
    "accuracy_primary = accuracy_score(y_primary_test, y_primary_pred)\n",
    "classification_rep_primary = classification_report(y_primary_test, y_primary_pred)\n",
    "\n",
    "print(\"Primary Typing Accuracy:\", accuracy_primary)\n",
    "print(\"Primary Typing Classification Report:\\n\", classification_rep_primary)"
   ]
  },
  {
   "cell_type": "markdown",
   "id": "1b3f5179",
   "metadata": {
    "papermill": {
     "duration": 0.024571,
     "end_time": "2025-01-21T08:20:16.044163",
     "exception": false,
     "start_time": "2025-01-21T08:20:16.019592",
     "status": "completed"
    },
    "tags": []
   },
   "source": [
    "**Observations**\n",
    "\n",
    "* The model achieved a high accuracy of 93.78%, indicating strong performance across all typing classifications.\n",
    "\n",
    "* Types like Dark, Electric, Fighting, Flying, Grass, Rock, Poison, and Water have perfect precision, recall, and F1-scores, showing excellent classification capability.\n",
    "\n",
    "* Dragon has a lower precision (0.67) despite perfect recall (1.00), indicating some false positives for this type.\n",
    "\n",
    "* Fairy and Psychic exhibit relatively lower recall (0.75 and 0.55, respectively), which means some true cases for these types are not being detected.\n",
    "\n",
    "* Fire, Ghost, and Ice have slight dips in either precision or recall, but their F1-scores remain strong (0.84-0.90 range).\n",
    "\n",
    "* Steel has a moderate precision (0.80) but achieves perfect recall (1.00), indicating occasional over-predictions.\n",
    "\n",
    "* Based on weighted average precision, recall, and f1-score, all are 0.94, confirming that the model’s performance is consistent when weighted by the support of each type."
   ]
  },
  {
   "cell_type": "code",
   "execution_count": 29,
   "id": "f7c078c5",
   "metadata": {
    "execution": {
     "iopub.execute_input": "2025-01-21T08:20:16.095031Z",
     "iopub.status.busy": "2025-01-21T08:20:16.094614Z",
     "iopub.status.idle": "2025-01-21T08:20:16.114355Z",
     "shell.execute_reply": "2025-01-21T08:20:16.112986Z"
    },
    "papermill": {
     "duration": 0.047295,
     "end_time": "2025-01-21T08:20:16.116186",
     "exception": false,
     "start_time": "2025-01-21T08:20:16.068891",
     "status": "completed"
    },
    "scrolled": true,
    "tags": []
   },
   "outputs": [
    {
     "name": "stdout",
     "output_type": "stream",
     "text": [
      "Secondary Typing Accuracy: 0.9425837320574163\n",
      "Secondary Typing Classification Report:\n",
      "               precision    recall  f1-score   support\n",
      "\n",
      "        Dark       1.00      1.00      1.00         5\n",
      "      Dragon       1.00      0.75      0.86        12\n",
      "    Electric       1.00      1.00      1.00         1\n",
      "       Fairy       0.75      1.00      0.86         6\n",
      "    Fighting       1.00      1.00      1.00         8\n",
      "        Fire       1.00      0.67      0.80         3\n",
      "      Flying       1.00      1.00      1.00        28\n",
      "       Ghost       0.67      0.80      0.73         5\n",
      "       Grass       1.00      1.00      1.00         7\n",
      "      Ground       0.50      0.50      0.50         2\n",
      "         Ice       0.67      0.80      0.73         5\n",
      "        None       0.98      1.00      0.99        90\n",
      "      Normal       1.00      0.33      0.50         3\n",
      "      Poison       1.00      1.00      1.00         6\n",
      "     Psychic       0.79      0.85      0.81        13\n",
      "        Rock       1.00      1.00      1.00         3\n",
      "       Steel       1.00      0.90      0.95        10\n",
      "       Water       1.00      1.00      1.00         2\n",
      "\n",
      "    accuracy                           0.94       209\n",
      "   macro avg       0.91      0.87      0.87       209\n",
      "weighted avg       0.95      0.94      0.94       209\n",
      "\n"
     ]
    }
   ],
   "source": [
    "# Calculate accuracy and other evaluation metrics for secondary typing\n",
    "accuracy_secondary = accuracy_score(y_secondary_test, y_secondary_pred)\n",
    "classification_rep_secondary = classification_report(y_secondary_test, y_secondary_pred)\n",
    "\n",
    "print(\"Secondary Typing Accuracy:\", accuracy_secondary)\n",
    "print(\"Secondary Typing Classification Report:\\n\", classification_rep_secondary)"
   ]
  },
  {
   "cell_type": "markdown",
   "id": "2420cc63",
   "metadata": {
    "papermill": {
     "duration": 0.024801,
     "end_time": "2025-01-21T08:20:16.221359",
     "exception": false,
     "start_time": "2025-01-21T08:20:16.196558",
     "status": "completed"
    },
    "tags": []
   },
   "source": [
    "**Observations**\n",
    "\n",
    "* The model achieved an accuracy of 94.26%, reflecting strong classification capabilities for secondary typing.\n",
    "\n",
    "* Types like Dark, Electric, Fighting, Flying, Grass, Poison, Rock, and Water achieved perfect scores in precision, recall, and F1, indicating flawless classification for these types.\n",
    "\n",
    "* Dragon achieved perfect precision (1.00) but lower recall (0.75), leading to an F1-score of 0.86. Fairy had excellent recall (1.00) but lower precision (0.75), resulting in an F1-score of 0.86. Steel got very high scores with slight variability in recall (0.90), producing an F1-score of 0.95.\n",
    "\n",
    "* Ghost and Ice achieved moderate precision and recall (both around 0.67-0.80), leading to F1-scores of 0.73 for both. Psychic had good precision (0.79) and recall (0.85), resulting in an F1-score of 0.81.\n",
    "\n",
    "* The precision and recall for Ground are both 0.50, resulting in a low F1-score of 0.50. The precision for Normal is high (1.00), but recall drops to 0.33, yielding an F1-score of 0.50. This suggests a high rate of false negatives."
   ]
  },
  {
   "cell_type": "code",
   "execution_count": 30,
   "id": "5ea46520",
   "metadata": {
    "execution": {
     "iopub.execute_input": "2025-01-21T08:20:16.273377Z",
     "iopub.status.busy": "2025-01-21T08:20:16.273019Z",
     "iopub.status.idle": "2025-01-21T08:20:16.749385Z",
     "shell.execute_reply": "2025-01-21T08:20:16.748265Z"
    },
    "papermill": {
     "duration": 0.505126,
     "end_time": "2025-01-21T08:20:16.751434",
     "exception": false,
     "start_time": "2025-01-21T08:20:16.246308",
     "status": "completed"
    },
    "tags": []
   },
   "outputs": [
    {
     "data": {
      "image/png": "[encoded data removed]",
      "text/plain": [
       "<Figure size 1300x1300 with 1 Axes>"
      ]
     },
     "metadata": {},
     "output_type": "display_data"
    }
   ],
   "source": [
    "# Plot the feature importance for primary type\n",
    "\n",
    "importances = rf_classifier_primary.feature_importances_\n",
    "\n",
    "columns = X.columns\n",
    "\n",
    "importance_df = pd.DataFrame(importances, index = columns, columns = ['Importance']).sort_values(by = 'Importance', ascending = False)\n",
    "\n",
    "plt.figure(figsize = (13, 13))\n",
    "\n",
    "palette = sns.color_palette(\"husl\", len(importance_df))\n",
    "\n",
    "sns.barplot(x=importance_df.Importance,y=importance_df.index, palette=palette);"
   ]
  },
  {
   "cell_type": "markdown",
   "id": "7786c280",
   "metadata": {
    "papermill": {
     "duration": 0.027212,
     "end_time": "2025-01-21T08:20:16.807673",
     "exception": false,
     "start_time": "2025-01-21T08:20:16.780461",
     "status": "completed"
    },
    "tags": []
   },
   "source": [
    "**Observations**\n",
    "\n",
    "* The top five most important features, based on their importance scores, are `against_ghost`, `against_fire`, `against_flying`, `against_water`, and `against_grass`. These features have the highest importance, suggesting they significantly influence the prediction or outcome in the model.\n",
    "\n",
    "* Features like `against_steel`, `against_fighting`, `against_psychic`, and `against_electric` also have considerable importance, but they are less influential than the top five.\n",
    "\n",
    "* Features such as `generation`, `against_fairy`, and `against_poison` contribute less to the model's decision-making, as they have lower importance scores.\n",
    "\n",
    "* The least impactful features in the model are `status`, `against_dragon`, and `against_normal`, with very low importance scores. This suggests that these factors do not strongly affect the outcomes or predictions."
   ]
  },
  {
   "cell_type": "code",
   "execution_count": 31,
   "id": "839305f0",
   "metadata": {
    "execution": {
     "iopub.execute_input": "2025-01-21T08:20:16.864107Z",
     "iopub.status.busy": "2025-01-21T08:20:16.863726Z",
     "iopub.status.idle": "2025-01-21T08:20:17.312832Z",
     "shell.execute_reply": "2025-01-21T08:20:17.311762Z"
    },
    "papermill": {
     "duration": 0.47837,
     "end_time": "2025-01-21T08:20:17.314592",
     "exception": false,
     "start_time": "2025-01-21T08:20:16.836222",
     "status": "completed"
    },
    "tags": []
   },
   "outputs": [
    {
     "data": {
      "image/png": "[encoded data removed]",
      "text/plain": [
       "<Figure size 1300x1300 with 1 Axes>"
      ]
     },
     "metadata": {},
     "output_type": "display_data"
    }
   ],
   "source": [
    "# Plot the feature importance for secondary type\n",
    "\n",
    "importances = rf_classifier_secondary.feature_importances_\n",
    "\n",
    "columns = X.columns\n",
    "\n",
    "importance_df = pd.DataFrame(importances, index = columns, columns = ['Importance']).sort_values(by = 'Importance', ascending = False)\n",
    "\n",
    "plt.figure(figsize = (13, 13))\n",
    "\n",
    "palette = sns.color_palette(\"husl\", len(importance_df))\n",
    "\n",
    "sns.barplot(x=importance_df.Importance,y=importance_df.index, palette=palette);"
   ]
  },
  {
   "cell_type": "markdown",
   "id": "673dc96e",
   "metadata": {
    "papermill": {
     "duration": 0.027894,
     "end_time": "2025-01-21T08:20:17.372771",
     "exception": false,
     "start_time": "2025-01-21T08:20:17.344877",
     "status": "completed"
    },
    "tags": []
   },
   "source": [
    "**Observations**\n",
    "\n",
    "* `against_ground` ranks as the most important feature, surpassing `against_ghost` from the previous chart. `against_electric`also appears higher in importance, moving up to a strong second place in this chart.\n",
    "\n",
    "* Features like `against_ice`, `generation`, and `against_fighting` are more prominent in this chart than the previous one, showing they have a higher weight in this particular model.\n",
    "\n",
    "* `against_water`, `against_flying`, `against_fire`, and `against_steel` drop significantly in importance in this chart, meaning these features play a lesser role than in the previous model.\n",
    "\n",
    "* `status`, `against_dark`, `against_normal`, and `against_dragon` still have the least importance in both charts, consistently showing minimal influence on the model."
   ]
  },
  {
   "cell_type": "markdown",
   "id": "7977ad8d",
   "metadata": {
    "papermill": {
     "duration": 0.028444,
     "end_time": "2025-01-21T08:20:17.429602",
     "exception": false,
     "start_time": "2025-01-21T08:20:17.401158",
     "status": "completed"
    },
    "tags": []
   },
   "source": [
    "## Prediction of Pokemon Types"
   ]
  },
  {
   "cell_type": "code",
   "execution_count": 32,
   "id": "2d7aa4be",
   "metadata": {
    "execution": {
     "iopub.execute_input": "2025-01-21T08:20:17.487628Z",
     "iopub.status.busy": "2025-01-21T08:20:17.487208Z",
     "iopub.status.idle": "2025-01-21T08:20:17.553507Z",
     "shell.execute_reply": "2025-01-21T08:20:17.552415Z"
    },
    "papermill": {
     "duration": 0.097635,
     "end_time": "2025-01-21T08:20:17.555538",
     "exception": false,
     "start_time": "2025-01-21T08:20:17.457903",
     "status": "completed"
    },
    "tags": []
   },
   "outputs": [],
   "source": [
    "# Predicting types with the trained models\n",
    "eval_data = X\n",
    "predicted_primary_type = rf_classifier_primary.predict(eval_data)\n",
    "predicted_secondary_type = rf_classifier_secondary.predict(eval_data)\n",
    "\n",
    "# Create a DataFrame consisting of the original data along with predictions\n",
    "result_df = eval_data.copy()\n",
    "result_df['Predicted Primary Type'] = predicted_primary_type\n",
    "result_df['Predicted Secondary Type'] = predicted_secondary_type"
   ]
  },
  {
   "cell_type": "code",
   "execution_count": 33,
   "id": "f6295e3c",
   "metadata": {
    "execution": {
     "iopub.execute_input": "2025-01-21T08:20:17.615822Z",
     "iopub.status.busy": "2025-01-21T08:20:17.615493Z",
     "iopub.status.idle": "2025-01-21T08:20:17.641533Z",
     "shell.execute_reply": "2025-01-21T08:20:17.640427Z"
    },
    "papermill": {
     "duration": 0.057733,
     "end_time": "2025-01-21T08:20:17.643515",
     "exception": false,
     "start_time": "2025-01-21T08:20:17.585782",
     "status": "completed"
    },
    "tags": []
   },
   "outputs": [
    {
     "data": {
      "text/html": [
       "<div>\n",
       "<style scoped>\n",
       "    .dataframe tbody tr th:only-of-type {\n",
       "        vertical-align: middle;\n",
       "    }\n",
       "\n",
       "    .dataframe tbody tr th {\n",
       "        vertical-align: top;\n",
       "    }\n",
       "\n",
       "    .dataframe thead th {\n",
       "        text-align: right;\n",
       "    }\n",
       "</style>\n",
       "<table border=\"1\" class=\"dataframe\">\n",
       "  <thead>\n",
       "    <tr style=\"text-align: right;\">\n",
       "      <th></th>\n",
       "      <th>generation</th>\n",
       "      <th>status</th>\n",
       "      <th>against_normal</th>\n",
       "      <th>against_fire</th>\n",
       "      <th>against_water</th>\n",
       "      <th>against_electric</th>\n",
       "      <th>against_grass</th>\n",
       "      <th>against_ice</th>\n",
       "      <th>against_fighting</th>\n",
       "      <th>against_poison</th>\n",
       "      <th>...</th>\n",
       "      <th>against_psychic</th>\n",
       "      <th>against_bug</th>\n",
       "      <th>against_rock</th>\n",
       "      <th>against_ghost</th>\n",
       "      <th>against_dragon</th>\n",
       "      <th>against_dark</th>\n",
       "      <th>against_steel</th>\n",
       "      <th>against_fairy</th>\n",
       "      <th>Predicted Primary Type</th>\n",
       "      <th>Predicted Secondary Type</th>\n",
       "    </tr>\n",
       "  </thead>\n",
       "  <tbody>\n",
       "    <tr>\n",
       "      <th>0</th>\n",
       "      <td>1</td>\n",
       "      <td>0</td>\n",
       "      <td>1.0</td>\n",
       "      <td>2.0</td>\n",
       "      <td>0.5</td>\n",
       "      <td>0.5</td>\n",
       "      <td>0.25</td>\n",
       "      <td>2.0</td>\n",
       "      <td>0.5</td>\n",
       "      <td>1.0</td>\n",
       "      <td>...</td>\n",
       "      <td>2.0</td>\n",
       "      <td>1.0</td>\n",
       "      <td>1.0</td>\n",
       "      <td>1.0</td>\n",
       "      <td>1.0</td>\n",
       "      <td>1.0</td>\n",
       "      <td>1.0</td>\n",
       "      <td>0.5</td>\n",
       "      <td>Grass</td>\n",
       "      <td>Poison</td>\n",
       "    </tr>\n",
       "    <tr>\n",
       "      <th>1</th>\n",
       "      <td>1</td>\n",
       "      <td>0</td>\n",
       "      <td>1.0</td>\n",
       "      <td>2.0</td>\n",
       "      <td>0.5</td>\n",
       "      <td>0.5</td>\n",
       "      <td>0.25</td>\n",
       "      <td>2.0</td>\n",
       "      <td>0.5</td>\n",
       "      <td>1.0</td>\n",
       "      <td>...</td>\n",
       "      <td>2.0</td>\n",
       "      <td>1.0</td>\n",
       "      <td>1.0</td>\n",
       "      <td>1.0</td>\n",
       "      <td>1.0</td>\n",
       "      <td>1.0</td>\n",
       "      <td>1.0</td>\n",
       "      <td>0.5</td>\n",
       "      <td>Grass</td>\n",
       "      <td>Poison</td>\n",
       "    </tr>\n",
       "    <tr>\n",
       "      <th>2</th>\n",
       "      <td>1</td>\n",
       "      <td>0</td>\n",
       "      <td>1.0</td>\n",
       "      <td>2.0</td>\n",
       "      <td>0.5</td>\n",
       "      <td>0.5</td>\n",
       "      <td>0.25</td>\n",
       "      <td>2.0</td>\n",
       "      <td>0.5</td>\n",
       "      <td>1.0</td>\n",
       "      <td>...</td>\n",
       "      <td>2.0</td>\n",
       "      <td>1.0</td>\n",
       "      <td>1.0</td>\n",
       "      <td>1.0</td>\n",
       "      <td>1.0</td>\n",
       "      <td>1.0</td>\n",
       "      <td>1.0</td>\n",
       "      <td>0.5</td>\n",
       "      <td>Grass</td>\n",
       "      <td>Poison</td>\n",
       "    </tr>\n",
       "    <tr>\n",
       "      <th>3</th>\n",
       "      <td>1</td>\n",
       "      <td>0</td>\n",
       "      <td>1.0</td>\n",
       "      <td>1.0</td>\n",
       "      <td>0.5</td>\n",
       "      <td>0.5</td>\n",
       "      <td>0.25</td>\n",
       "      <td>1.0</td>\n",
       "      <td>0.5</td>\n",
       "      <td>1.0</td>\n",
       "      <td>...</td>\n",
       "      <td>2.0</td>\n",
       "      <td>1.0</td>\n",
       "      <td>1.0</td>\n",
       "      <td>1.0</td>\n",
       "      <td>1.0</td>\n",
       "      <td>1.0</td>\n",
       "      <td>1.0</td>\n",
       "      <td>0.5</td>\n",
       "      <td>Grass</td>\n",
       "      <td>Poison</td>\n",
       "    </tr>\n",
       "    <tr>\n",
       "      <th>4</th>\n",
       "      <td>1</td>\n",
       "      <td>0</td>\n",
       "      <td>1.0</td>\n",
       "      <td>0.5</td>\n",
       "      <td>2.0</td>\n",
       "      <td>1.0</td>\n",
       "      <td>0.50</td>\n",
       "      <td>0.5</td>\n",
       "      <td>1.0</td>\n",
       "      <td>1.0</td>\n",
       "      <td>...</td>\n",
       "      <td>1.0</td>\n",
       "      <td>0.5</td>\n",
       "      <td>2.0</td>\n",
       "      <td>1.0</td>\n",
       "      <td>1.0</td>\n",
       "      <td>1.0</td>\n",
       "      <td>0.5</td>\n",
       "      <td>0.5</td>\n",
       "      <td>Fire</td>\n",
       "      <td>None</td>\n",
       "    </tr>\n",
       "  </tbody>\n",
       "</table>\n",
       "<p>5 rows × 22 columns</p>\n",
       "</div>"
      ],
      "text/plain": [
       "   generation  status  against_normal  against_fire  against_water  \\\n",
       "0           1       0             1.0           2.0            0.5   \n",
       "1           1       0             1.0           2.0            0.5   \n",
       "2           1       0             1.0           2.0            0.5   \n",
       "3           1       0             1.0           1.0            0.5   \n",
       "4           1       0             1.0           0.5            2.0   \n",
       "\n",
       "   against_electric  against_grass  against_ice  against_fighting  \\\n",
       "0               0.5           0.25          2.0               0.5   \n",
       "1               0.5           0.25          2.0               0.5   \n",
       "2               0.5           0.25          2.0               0.5   \n",
       "3               0.5           0.25          1.0               0.5   \n",
       "4               1.0           0.50          0.5               1.0   \n",
       "\n",
       "   against_poison  ...  against_psychic  against_bug  against_rock  \\\n",
       "0             1.0  ...              2.0          1.0           1.0   \n",
       "1             1.0  ...              2.0          1.0           1.0   \n",
       "2             1.0  ...              2.0          1.0           1.0   \n",
       "3             1.0  ...              2.0          1.0           1.0   \n",
       "4             1.0  ...              1.0          0.5           2.0   \n",
       "\n",
       "   against_ghost  against_dragon  against_dark  against_steel  against_fairy  \\\n",
       "0            1.0             1.0           1.0            1.0            0.5   \n",
       "1            1.0             1.0           1.0            1.0            0.5   \n",
       "2            1.0             1.0           1.0            1.0            0.5   \n",
       "3            1.0             1.0           1.0            1.0            0.5   \n",
       "4            1.0             1.0           1.0            0.5            0.5   \n",
       "\n",
       "   Predicted Primary Type  Predicted Secondary Type  \n",
       "0                   Grass                    Poison  \n",
       "1                   Grass                    Poison  \n",
       "2                   Grass                    Poison  \n",
       "3                   Grass                    Poison  \n",
       "4                    Fire                      None  \n",
       "\n",
       "[5 rows x 22 columns]"
      ]
     },
     "execution_count": 33,
     "metadata": {},
     "output_type": "execute_result"
    }
   ],
   "source": [
    "result_df.head()"
   ]
  },
  {
   "cell_type": "markdown",
   "id": "e1a99747",
   "metadata": {
    "papermill": {
     "duration": 0.028739,
     "end_time": "2025-01-21T08:20:17.701079",
     "exception": false,
     "start_time": "2025-01-21T08:20:17.672340",
     "status": "completed"
    },
    "tags": []
   },
   "source": [
    "### Predicted Types vs. Original Types"
   ]
  },
  {
   "cell_type": "code",
   "execution_count": 34,
   "id": "3e6c0454",
   "metadata": {
    "execution": {
     "iopub.execute_input": "2025-01-21T08:20:17.759764Z",
     "iopub.status.busy": "2025-01-21T08:20:17.759404Z",
     "iopub.status.idle": "2025-01-21T08:20:17.769561Z",
     "shell.execute_reply": "2025-01-21T08:20:17.768545Z"
    },
    "papermill": {
     "duration": 0.041289,
     "end_time": "2025-01-21T08:20:17.771194",
     "exception": false,
     "start_time": "2025-01-21T08:20:17.729905",
     "status": "completed"
    },
    "tags": []
   },
   "outputs": [
    {
     "name": "stdout",
     "output_type": "stream",
     "text": [
      "Combination Accuracy: 97.89%\n"
     ]
    }
   ],
   "source": [
    "# Combine original and predicted primary and secondary types into tuples for comparison\n",
    "result_df['Original Combination'] = list(zip(pokemon_df['primary_type'], pokemon_df['secondary_type']))\n",
    "result_df['Predicted Combination'] = list(zip(result_df['Predicted Primary Type'], result_df['Predicted Secondary Type']))\n",
    "\n",
    "# Calculate accuracy\n",
    "total_rows = len(result_df)\n",
    "correct_matches = sum(result_df['Original Combination'] == result_df['Predicted Combination'])\n",
    "combination_accuracy = correct_matches / total_rows\n",
    "\n",
    "print(f\"Combination Accuracy: {combination_accuracy:.2%}\")"
   ]
  },
  {
   "cell_type": "code",
   "execution_count": 35,
   "id": "b6deca38",
   "metadata": {
    "execution": {
     "iopub.execute_input": "2025-01-21T08:20:17.831569Z",
     "iopub.status.busy": "2025-01-21T08:20:17.831219Z",
     "iopub.status.idle": "2025-01-21T08:20:17.944896Z",
     "shell.execute_reply": "2025-01-21T08:20:17.943897Z"
    },
    "papermill": {
     "duration": 0.14639,
     "end_time": "2025-01-21T08:20:17.946560",
     "exception": false,
     "start_time": "2025-01-21T08:20:17.800170",
     "status": "completed"
    },
    "tags": []
   },
   "outputs": [
    {
     "data": {
      "image/png": "[encoded data removed]",
      "text/plain": [
       "<Figure size 800x600 with 1 Axes>"
      ]
     },
     "metadata": {},
     "output_type": "display_data"
    }
   ],
   "source": [
    "import matplotlib.pyplot as plt\n",
    "\n",
    "correct_matches = sum(result_df['Original Combination'] == result_df['Predicted Combination'])\n",
    "incorrect_matches = len(result_df) - correct_matches\n",
    "\n",
    "accuracy_data = [correct_matches, incorrect_matches]\n",
    "labels = ['Correct', 'Incorrect']\n",
    "colors = ['green', 'red']\n",
    "\n",
    "plt.figure(figsize=(8, 6))\n",
    "plt.pie(accuracy_data, labels=labels, autopct='%1.1f%%', startangle=90, colors=colors)\n",
    "plt.title(\"Accuracy of Predicted Primary and Secondary Combinations\")\n",
    "plt.show()"
   ]
  },
  {
   "cell_type": "markdown",
   "id": "5ee1dd01",
   "metadata": {
    "papermill": {
     "duration": 0.029005,
     "end_time": "2025-01-21T08:20:18.004975",
     "exception": false,
     "start_time": "2025-01-21T08:20:17.975970",
     "status": "completed"
    },
    "tags": []
   },
   "source": [
    "**Observations**\n",
    "\n",
    "* The model predicts primary and secondary combinations with 97.9% accuracy, indicating that the predictions are mostly correct.\n",
    "\n",
    "* Only 2.1% of the predictions are incorrect, suggesting a very low error rate in the chosen features and model’s predictions."
   ]
  },
  {
   "cell_type": "markdown",
   "id": "c6cf7110",
   "metadata": {
    "papermill": {
     "duration": 0.029105,
     "end_time": "2025-01-21T08:20:18.063437",
     "exception": false,
     "start_time": "2025-01-21T08:20:18.034332",
     "status": "completed"
    },
    "tags": []
   },
   "source": [
    "### Analysis of Incorrect Combinations"
   ]
  },
  {
   "cell_type": "code",
   "execution_count": 36,
   "id": "e436ea80",
   "metadata": {
    "execution": {
     "iopub.execute_input": "2025-01-21T08:20:18.123697Z",
     "iopub.status.busy": "2025-01-21T08:20:18.123375Z",
     "iopub.status.idle": "2025-01-21T08:20:18.173875Z",
     "shell.execute_reply": "2025-01-21T08:20:18.172680Z"
    },
    "papermill": {
     "duration": 0.082766,
     "end_time": "2025-01-21T08:20:18.175609",
     "exception": false,
     "start_time": "2025-01-21T08:20:18.092843",
     "status": "completed"
    },
    "tags": []
   },
   "outputs": [
    {
     "data": {
      "text/html": [
       "<div>\n",
       "<style scoped>\n",
       "    .dataframe tbody tr th:only-of-type {\n",
       "        vertical-align: middle;\n",
       "    }\n",
       "\n",
       "    .dataframe tbody tr th {\n",
       "        vertical-align: top;\n",
       "    }\n",
       "\n",
       "    .dataframe thead th {\n",
       "        text-align: right;\n",
       "    }\n",
       "</style>\n",
       "<table border=\"1\" class=\"dataframe\">\n",
       "  <thead>\n",
       "    <tr style=\"text-align: right;\">\n",
       "      <th></th>\n",
       "      <th>generation</th>\n",
       "      <th>status</th>\n",
       "      <th>against_normal</th>\n",
       "      <th>against_fire</th>\n",
       "      <th>against_water</th>\n",
       "      <th>against_electric</th>\n",
       "      <th>against_grass</th>\n",
       "      <th>against_ice</th>\n",
       "      <th>against_fighting</th>\n",
       "      <th>against_poison</th>\n",
       "      <th>...</th>\n",
       "      <th>against_rock</th>\n",
       "      <th>against_ghost</th>\n",
       "      <th>against_dragon</th>\n",
       "      <th>against_dark</th>\n",
       "      <th>against_steel</th>\n",
       "      <th>against_fairy</th>\n",
       "      <th>Predicted Primary Type</th>\n",
       "      <th>Predicted Secondary Type</th>\n",
       "      <th>Original Combination</th>\n",
       "      <th>Predicted Combination</th>\n",
       "    </tr>\n",
       "  </thead>\n",
       "  <tbody>\n",
       "    <tr>\n",
       "      <th>35</th>\n",
       "      <td>1</td>\n",
       "      <td>0</td>\n",
       "      <td>1.0</td>\n",
       "      <td>1.0</td>\n",
       "      <td>1.0</td>\n",
       "      <td>0.0</td>\n",
       "      <td>1.0</td>\n",
       "      <td>1.0</td>\n",
       "      <td>1.00</td>\n",
       "      <td>1.00</td>\n",
       "      <td>...</td>\n",
       "      <td>1.0</td>\n",
       "      <td>1.0</td>\n",
       "      <td>1.0</td>\n",
       "      <td>1.0</td>\n",
       "      <td>0.5</td>\n",
       "      <td>1.0</td>\n",
       "      <td>Electric</td>\n",
       "      <td>None</td>\n",
       "      <td>(Electric, Psychic)</td>\n",
       "      <td>(Electric, None)</td>\n",
       "    </tr>\n",
       "    <tr>\n",
       "      <th>49</th>\n",
       "      <td>1</td>\n",
       "      <td>0</td>\n",
       "      <td>1.0</td>\n",
       "      <td>0.5</td>\n",
       "      <td>2.0</td>\n",
       "      <td>1.0</td>\n",
       "      <td>0.5</td>\n",
       "      <td>0.5</td>\n",
       "      <td>1.00</td>\n",
       "      <td>1.00</td>\n",
       "      <td>...</td>\n",
       "      <td>2.0</td>\n",
       "      <td>1.0</td>\n",
       "      <td>1.0</td>\n",
       "      <td>1.0</td>\n",
       "      <td>0.5</td>\n",
       "      <td>0.5</td>\n",
       "      <td>Fire</td>\n",
       "      <td>None</td>\n",
       "      <td>(Ice, None)</td>\n",
       "      <td>(Fire, None)</td>\n",
       "    </tr>\n",
       "    <tr>\n",
       "      <th>51</th>\n",
       "      <td>1</td>\n",
       "      <td>0</td>\n",
       "      <td>1.0</td>\n",
       "      <td>0.5</td>\n",
       "      <td>2.0</td>\n",
       "      <td>1.0</td>\n",
       "      <td>0.5</td>\n",
       "      <td>0.5</td>\n",
       "      <td>1.00</td>\n",
       "      <td>1.00</td>\n",
       "      <td>...</td>\n",
       "      <td>2.0</td>\n",
       "      <td>1.0</td>\n",
       "      <td>1.0</td>\n",
       "      <td>1.0</td>\n",
       "      <td>0.5</td>\n",
       "      <td>0.5</td>\n",
       "      <td>Fire</td>\n",
       "      <td>None</td>\n",
       "      <td>(Ice, Fairy)</td>\n",
       "      <td>(Fire, None)</td>\n",
       "    </tr>\n",
       "    <tr>\n",
       "      <th>100</th>\n",
       "      <td>1</td>\n",
       "      <td>0</td>\n",
       "      <td>1.0</td>\n",
       "      <td>0.0</td>\n",
       "      <td>2.0</td>\n",
       "      <td>1.0</td>\n",
       "      <td>0.5</td>\n",
       "      <td>0.5</td>\n",
       "      <td>1.00</td>\n",
       "      <td>1.00</td>\n",
       "      <td>...</td>\n",
       "      <td>2.0</td>\n",
       "      <td>1.0</td>\n",
       "      <td>1.0</td>\n",
       "      <td>1.0</td>\n",
       "      <td>0.5</td>\n",
       "      <td>0.5</td>\n",
       "      <td>Fire</td>\n",
       "      <td>None</td>\n",
       "      <td>(Psychic, None)</td>\n",
       "      <td>(Fire, None)</td>\n",
       "    </tr>\n",
       "    <tr>\n",
       "      <th>102</th>\n",
       "      <td>1</td>\n",
       "      <td>0</td>\n",
       "      <td>1.0</td>\n",
       "      <td>0.0</td>\n",
       "      <td>2.0</td>\n",
       "      <td>1.0</td>\n",
       "      <td>0.5</td>\n",
       "      <td>0.5</td>\n",
       "      <td>1.00</td>\n",
       "      <td>1.00</td>\n",
       "      <td>...</td>\n",
       "      <td>2.0</td>\n",
       "      <td>1.0</td>\n",
       "      <td>1.0</td>\n",
       "      <td>1.0</td>\n",
       "      <td>0.5</td>\n",
       "      <td>0.5</td>\n",
       "      <td>Fire</td>\n",
       "      <td>None</td>\n",
       "      <td>(Psychic, Fairy)</td>\n",
       "      <td>(Fire, None)</td>\n",
       "    </tr>\n",
       "    <tr>\n",
       "      <th>144</th>\n",
       "      <td>1</td>\n",
       "      <td>0</td>\n",
       "      <td>1.0</td>\n",
       "      <td>1.0</td>\n",
       "      <td>1.0</td>\n",
       "      <td>1.0</td>\n",
       "      <td>0.5</td>\n",
       "      <td>1.0</td>\n",
       "      <td>0.50</td>\n",
       "      <td>0.50</td>\n",
       "      <td>...</td>\n",
       "      <td>1.0</td>\n",
       "      <td>1.0</td>\n",
       "      <td>1.0</td>\n",
       "      <td>1.0</td>\n",
       "      <td>1.0</td>\n",
       "      <td>0.5</td>\n",
       "      <td>Poison</td>\n",
       "      <td>None</td>\n",
       "      <td>(Poison, Fairy)</td>\n",
       "      <td>(Poison, None)</td>\n",
       "    </tr>\n",
       "    <tr>\n",
       "      <th>145</th>\n",
       "      <td>1</td>\n",
       "      <td>0</td>\n",
       "      <td>0.5</td>\n",
       "      <td>0.5</td>\n",
       "      <td>4.0</td>\n",
       "      <td>0.0</td>\n",
       "      <td>4.0</td>\n",
       "      <td>2.0</td>\n",
       "      <td>2.00</td>\n",
       "      <td>0.25</td>\n",
       "      <td>...</td>\n",
       "      <td>0.5</td>\n",
       "      <td>1.0</td>\n",
       "      <td>1.0</td>\n",
       "      <td>1.0</td>\n",
       "      <td>2.0</td>\n",
       "      <td>1.0</td>\n",
       "      <td>Rock</td>\n",
       "      <td>Ground</td>\n",
       "      <td>(Ground, Rock)</td>\n",
       "      <td>(Rock, Ground)</td>\n",
       "    </tr>\n",
       "    <tr>\n",
       "      <th>146</th>\n",
       "      <td>1</td>\n",
       "      <td>0</td>\n",
       "      <td>0.5</td>\n",
       "      <td>0.5</td>\n",
       "      <td>4.0</td>\n",
       "      <td>0.0</td>\n",
       "      <td>4.0</td>\n",
       "      <td>2.0</td>\n",
       "      <td>2.00</td>\n",
       "      <td>0.25</td>\n",
       "      <td>...</td>\n",
       "      <td>0.5</td>\n",
       "      <td>1.0</td>\n",
       "      <td>1.0</td>\n",
       "      <td>1.0</td>\n",
       "      <td>2.0</td>\n",
       "      <td>1.0</td>\n",
       "      <td>Rock</td>\n",
       "      <td>Ground</td>\n",
       "      <td>(Ground, Rock)</td>\n",
       "      <td>(Rock, Ground)</td>\n",
       "    </tr>\n",
       "    <tr>\n",
       "      <th>158</th>\n",
       "      <td>1</td>\n",
       "      <td>0</td>\n",
       "      <td>1.0</td>\n",
       "      <td>1.0</td>\n",
       "      <td>1.0</td>\n",
       "      <td>1.0</td>\n",
       "      <td>1.0</td>\n",
       "      <td>1.0</td>\n",
       "      <td>0.25</td>\n",
       "      <td>1.50</td>\n",
       "      <td>...</td>\n",
       "      <td>1.0</td>\n",
       "      <td>1.5</td>\n",
       "      <td>0.0</td>\n",
       "      <td>1.0</td>\n",
       "      <td>1.5</td>\n",
       "      <td>1.0</td>\n",
       "      <td>Psychic</td>\n",
       "      <td>Fairy</td>\n",
       "      <td>(Psychic, Ice)</td>\n",
       "      <td>(Psychic, Fairy)</td>\n",
       "    </tr>\n",
       "    <tr>\n",
       "      <th>462</th>\n",
       "      <td>3</td>\n",
       "      <td>3</td>\n",
       "      <td>1.0</td>\n",
       "      <td>0.5</td>\n",
       "      <td>0.0</td>\n",
       "      <td>0.0</td>\n",
       "      <td>1.0</td>\n",
       "      <td>1.0</td>\n",
       "      <td>1.00</td>\n",
       "      <td>0.50</td>\n",
       "      <td>...</td>\n",
       "      <td>1.0</td>\n",
       "      <td>1.0</td>\n",
       "      <td>1.0</td>\n",
       "      <td>1.0</td>\n",
       "      <td>0.5</td>\n",
       "      <td>0.5</td>\n",
       "      <td>Fire</td>\n",
       "      <td>Ground</td>\n",
       "      <td>(Ground, Fire)</td>\n",
       "      <td>(Fire, Ground)</td>\n",
       "    </tr>\n",
       "    <tr>\n",
       "      <th>568</th>\n",
       "      <td>4</td>\n",
       "      <td>0</td>\n",
       "      <td>0.0</td>\n",
       "      <td>2.0</td>\n",
       "      <td>1.0</td>\n",
       "      <td>1.0</td>\n",
       "      <td>1.0</td>\n",
       "      <td>0.5</td>\n",
       "      <td>0.00</td>\n",
       "      <td>0.50</td>\n",
       "      <td>...</td>\n",
       "      <td>2.0</td>\n",
       "      <td>2.0</td>\n",
       "      <td>1.0</td>\n",
       "      <td>2.0</td>\n",
       "      <td>2.0</td>\n",
       "      <td>1.0</td>\n",
       "      <td>Ghost</td>\n",
       "      <td>None</td>\n",
       "      <td>(Ice, Ghost)</td>\n",
       "      <td>(Ghost, None)</td>\n",
       "    </tr>\n",
       "    <tr>\n",
       "      <th>582</th>\n",
       "      <td>4</td>\n",
       "      <td>3</td>\n",
       "      <td>0.0</td>\n",
       "      <td>0.5</td>\n",
       "      <td>0.5</td>\n",
       "      <td>0.5</td>\n",
       "      <td>0.5</td>\n",
       "      <td>2.0</td>\n",
       "      <td>0.00</td>\n",
       "      <td>0.50</td>\n",
       "      <td>...</td>\n",
       "      <td>1.0</td>\n",
       "      <td>2.0</td>\n",
       "      <td>2.0</td>\n",
       "      <td>2.0</td>\n",
       "      <td>1.0</td>\n",
       "      <td>2.0</td>\n",
       "      <td>Dragon</td>\n",
       "      <td>Ghost</td>\n",
       "      <td>(Ghost, Dragon)</td>\n",
       "      <td>(Dragon, Ghost)</td>\n",
       "    </tr>\n",
       "    <tr>\n",
       "      <th>583</th>\n",
       "      <td>4</td>\n",
       "      <td>3</td>\n",
       "      <td>0.0</td>\n",
       "      <td>0.5</td>\n",
       "      <td>0.5</td>\n",
       "      <td>0.5</td>\n",
       "      <td>0.5</td>\n",
       "      <td>2.0</td>\n",
       "      <td>0.00</td>\n",
       "      <td>0.50</td>\n",
       "      <td>...</td>\n",
       "      <td>1.0</td>\n",
       "      <td>2.0</td>\n",
       "      <td>2.0</td>\n",
       "      <td>2.0</td>\n",
       "      <td>1.0</td>\n",
       "      <td>2.0</td>\n",
       "      <td>Dragon</td>\n",
       "      <td>Ghost</td>\n",
       "      <td>(Ghost, Dragon)</td>\n",
       "      <td>(Dragon, Ghost)</td>\n",
       "    </tr>\n",
       "    <tr>\n",
       "      <th>773</th>\n",
       "      <td>6</td>\n",
       "      <td>0</td>\n",
       "      <td>1.0</td>\n",
       "      <td>1.0</td>\n",
       "      <td>2.0</td>\n",
       "      <td>0.0</td>\n",
       "      <td>2.0</td>\n",
       "      <td>2.0</td>\n",
       "      <td>2.00</td>\n",
       "      <td>0.50</td>\n",
       "      <td>...</td>\n",
       "      <td>0.5</td>\n",
       "      <td>0.0</td>\n",
       "      <td>1.0</td>\n",
       "      <td>1.0</td>\n",
       "      <td>1.0</td>\n",
       "      <td>1.0</td>\n",
       "      <td>Normal</td>\n",
       "      <td>None</td>\n",
       "      <td>(Normal, Ground)</td>\n",
       "      <td>(Normal, None)</td>\n",
       "    </tr>\n",
       "    <tr>\n",
       "      <th>849</th>\n",
       "      <td>7</td>\n",
       "      <td>0</td>\n",
       "      <td>0.0</td>\n",
       "      <td>2.0</td>\n",
       "      <td>0.5</td>\n",
       "      <td>0.5</td>\n",
       "      <td>0.5</td>\n",
       "      <td>2.0</td>\n",
       "      <td>0.00</td>\n",
       "      <td>1.00</td>\n",
       "      <td>...</td>\n",
       "      <td>1.0</td>\n",
       "      <td>2.0</td>\n",
       "      <td>1.0</td>\n",
       "      <td>2.0</td>\n",
       "      <td>1.0</td>\n",
       "      <td>1.0</td>\n",
       "      <td>Ghost</td>\n",
       "      <td>Grass</td>\n",
       "      <td>(Grass, Ghost)</td>\n",
       "      <td>(Ghost, Grass)</td>\n",
       "    </tr>\n",
       "    <tr>\n",
       "      <th>934</th>\n",
       "      <td>7</td>\n",
       "      <td>3</td>\n",
       "      <td>0.5</td>\n",
       "      <td>1.5</td>\n",
       "      <td>1.0</td>\n",
       "      <td>1.0</td>\n",
       "      <td>0.5</td>\n",
       "      <td>0.5</td>\n",
       "      <td>1.00</td>\n",
       "      <td>0.00</td>\n",
       "      <td>...</td>\n",
       "      <td>0.5</td>\n",
       "      <td>1.5</td>\n",
       "      <td>0.5</td>\n",
       "      <td>1.5</td>\n",
       "      <td>0.5</td>\n",
       "      <td>0.5</td>\n",
       "      <td>Steel</td>\n",
       "      <td>Steel</td>\n",
       "      <td>(Psychic, Steel)</td>\n",
       "      <td>(Steel, Steel)</td>\n",
       "    </tr>\n",
       "    <tr>\n",
       "      <th>936</th>\n",
       "      <td>7</td>\n",
       "      <td>3</td>\n",
       "      <td>1.0</td>\n",
       "      <td>0.5</td>\n",
       "      <td>0.5</td>\n",
       "      <td>0.5</td>\n",
       "      <td>0.5</td>\n",
       "      <td>2.0</td>\n",
       "      <td>0.50</td>\n",
       "      <td>1.00</td>\n",
       "      <td>...</td>\n",
       "      <td>1.0</td>\n",
       "      <td>2.0</td>\n",
       "      <td>2.0</td>\n",
       "      <td>2.0</td>\n",
       "      <td>1.0</td>\n",
       "      <td>2.0</td>\n",
       "      <td>Dragon</td>\n",
       "      <td>Psychic</td>\n",
       "      <td>(Psychic, Dragon)</td>\n",
       "      <td>(Dragon, Psychic)</td>\n",
       "    </tr>\n",
       "    <tr>\n",
       "      <th>961</th>\n",
       "      <td>8</td>\n",
       "      <td>0</td>\n",
       "      <td>1.0</td>\n",
       "      <td>2.0</td>\n",
       "      <td>1.0</td>\n",
       "      <td>1.0</td>\n",
       "      <td>0.5</td>\n",
       "      <td>1.0</td>\n",
       "      <td>0.25</td>\n",
       "      <td>1.00</td>\n",
       "      <td>...</td>\n",
       "      <td>2.0</td>\n",
       "      <td>2.0</td>\n",
       "      <td>1.0</td>\n",
       "      <td>2.0</td>\n",
       "      <td>1.0</td>\n",
       "      <td>1.0</td>\n",
       "      <td>Psychic</td>\n",
       "      <td>Ice</td>\n",
       "      <td>(Bug, Psychic)</td>\n",
       "      <td>(Psychic, Ice)</td>\n",
       "    </tr>\n",
       "    <tr>\n",
       "      <th>962</th>\n",
       "      <td>8</td>\n",
       "      <td>0</td>\n",
       "      <td>1.0</td>\n",
       "      <td>2.0</td>\n",
       "      <td>1.0</td>\n",
       "      <td>1.0</td>\n",
       "      <td>0.5</td>\n",
       "      <td>1.0</td>\n",
       "      <td>0.25</td>\n",
       "      <td>1.00</td>\n",
       "      <td>...</td>\n",
       "      <td>2.0</td>\n",
       "      <td>2.0</td>\n",
       "      <td>1.0</td>\n",
       "      <td>2.0</td>\n",
       "      <td>1.0</td>\n",
       "      <td>1.0</td>\n",
       "      <td>Psychic</td>\n",
       "      <td>Ice</td>\n",
       "      <td>(Bug, Psychic)</td>\n",
       "      <td>(Psychic, Ice)</td>\n",
       "    </tr>\n",
       "    <tr>\n",
       "      <th>1014</th>\n",
       "      <td>8</td>\n",
       "      <td>0</td>\n",
       "      <td>1.0</td>\n",
       "      <td>1.0</td>\n",
       "      <td>1.0</td>\n",
       "      <td>1.0</td>\n",
       "      <td>1.0</td>\n",
       "      <td>1.0</td>\n",
       "      <td>1.00</td>\n",
       "      <td>1.00</td>\n",
       "      <td>...</td>\n",
       "      <td>1.0</td>\n",
       "      <td>0.0</td>\n",
       "      <td>1.0</td>\n",
       "      <td>2.0</td>\n",
       "      <td>1.0</td>\n",
       "      <td>1.0</td>\n",
       "      <td>Normal</td>\n",
       "      <td>Psychic</td>\n",
       "      <td>(Psychic, Normal)</td>\n",
       "      <td>(Normal, Psychic)</td>\n",
       "    </tr>\n",
       "    <tr>\n",
       "      <th>1015</th>\n",
       "      <td>8</td>\n",
       "      <td>0</td>\n",
       "      <td>1.0</td>\n",
       "      <td>1.0</td>\n",
       "      <td>1.0</td>\n",
       "      <td>1.0</td>\n",
       "      <td>1.0</td>\n",
       "      <td>1.0</td>\n",
       "      <td>1.00</td>\n",
       "      <td>1.00</td>\n",
       "      <td>...</td>\n",
       "      <td>1.0</td>\n",
       "      <td>0.0</td>\n",
       "      <td>1.0</td>\n",
       "      <td>2.0</td>\n",
       "      <td>1.0</td>\n",
       "      <td>1.0</td>\n",
       "      <td>Normal</td>\n",
       "      <td>Psychic</td>\n",
       "      <td>(Psychic, Normal)</td>\n",
       "      <td>(Normal, Psychic)</td>\n",
       "    </tr>\n",
       "    <tr>\n",
       "      <th>1028</th>\n",
       "      <td>8</td>\n",
       "      <td>3</td>\n",
       "      <td>0.5</td>\n",
       "      <td>2.0</td>\n",
       "      <td>1.0</td>\n",
       "      <td>1.0</td>\n",
       "      <td>0.5</td>\n",
       "      <td>0.5</td>\n",
       "      <td>1.00</td>\n",
       "      <td>0.00</td>\n",
       "      <td>...</td>\n",
       "      <td>0.5</td>\n",
       "      <td>1.0</td>\n",
       "      <td>0.0</td>\n",
       "      <td>0.5</td>\n",
       "      <td>1.0</td>\n",
       "      <td>0.5</td>\n",
       "      <td>Steel</td>\n",
       "      <td>Fairy</td>\n",
       "      <td>(Fairy, Steel)</td>\n",
       "      <td>(Steel, Fairy)</td>\n",
       "    </tr>\n",
       "  </tbody>\n",
       "</table>\n",
       "<p>22 rows × 24 columns</p>\n",
       "</div>"
      ],
      "text/plain": [
       "      generation  status  against_normal  against_fire  against_water  \\\n",
       "35             1       0             1.0           1.0            1.0   \n",
       "49             1       0             1.0           0.5            2.0   \n",
       "51             1       0             1.0           0.5            2.0   \n",
       "100            1       0             1.0           0.0            2.0   \n",
       "102            1       0             1.0           0.0            2.0   \n",
       "144            1       0             1.0           1.0            1.0   \n",
       "145            1       0             0.5           0.5            4.0   \n",
       "146            1       0             0.5           0.5            4.0   \n",
       "158            1       0             1.0           1.0            1.0   \n",
       "462            3       3             1.0           0.5            0.0   \n",
       "568            4       0             0.0           2.0            1.0   \n",
       "582            4       3             0.0           0.5            0.5   \n",
       "583            4       3             0.0           0.5            0.5   \n",
       "773            6       0             1.0           1.0            2.0   \n",
       "849            7       0             0.0           2.0            0.5   \n",
       "934            7       3             0.5           1.5            1.0   \n",
       "936            7       3             1.0           0.5            0.5   \n",
       "961            8       0             1.0           2.0            1.0   \n",
       "962            8       0             1.0           2.0            1.0   \n",
       "1014           8       0             1.0           1.0            1.0   \n",
       "1015           8       0             1.0           1.0            1.0   \n",
       "1028           8       3             0.5           2.0            1.0   \n",
       "\n",
       "      against_electric  against_grass  against_ice  against_fighting  \\\n",
       "35                 0.0            1.0          1.0              1.00   \n",
       "49                 1.0            0.5          0.5              1.00   \n",
       "51                 1.0            0.5          0.5              1.00   \n",
       "100                1.0            0.5          0.5              1.00   \n",
       "102                1.0            0.5          0.5              1.00   \n",
       "144                1.0            0.5          1.0              0.50   \n",
       "145                0.0            4.0          2.0              2.00   \n",
       "146                0.0            4.0          2.0              2.00   \n",
       "158                1.0            1.0          1.0              0.25   \n",
       "462                0.0            1.0          1.0              1.00   \n",
       "568                1.0            1.0          0.5              0.00   \n",
       "582                0.5            0.5          2.0              0.00   \n",
       "583                0.5            0.5          2.0              0.00   \n",
       "773                0.0            2.0          2.0              2.00   \n",
       "849                0.5            0.5          2.0              0.00   \n",
       "934                1.0            0.5          0.5              1.00   \n",
       "936                0.5            0.5          2.0              0.50   \n",
       "961                1.0            0.5          1.0              0.25   \n",
       "962                1.0            0.5          1.0              0.25   \n",
       "1014               1.0            1.0          1.0              1.00   \n",
       "1015               1.0            1.0          1.0              1.00   \n",
       "1028               1.0            0.5          0.5              1.00   \n",
       "\n",
       "      against_poison  ...  against_rock  against_ghost  against_dragon  \\\n",
       "35              1.00  ...           1.0            1.0             1.0   \n",
       "49              1.00  ...           2.0            1.0             1.0   \n",
       "51              1.00  ...           2.0            1.0             1.0   \n",
       "100             1.00  ...           2.0            1.0             1.0   \n",
       "102             1.00  ...           2.0            1.0             1.0   \n",
       "144             0.50  ...           1.0            1.0             1.0   \n",
       "145             0.25  ...           0.5            1.0             1.0   \n",
       "146             0.25  ...           0.5            1.0             1.0   \n",
       "158             1.50  ...           1.0            1.5             0.0   \n",
       "462             0.50  ...           1.0            1.0             1.0   \n",
       "568             0.50  ...           2.0            2.0             1.0   \n",
       "582             0.50  ...           1.0            2.0             2.0   \n",
       "583             0.50  ...           1.0            2.0             2.0   \n",
       "773             0.50  ...           0.5            0.0             1.0   \n",
       "849             1.00  ...           1.0            2.0             1.0   \n",
       "934             0.00  ...           0.5            1.5             0.5   \n",
       "936             1.00  ...           1.0            2.0             2.0   \n",
       "961             1.00  ...           2.0            2.0             1.0   \n",
       "962             1.00  ...           2.0            2.0             1.0   \n",
       "1014            1.00  ...           1.0            0.0             1.0   \n",
       "1015            1.00  ...           1.0            0.0             1.0   \n",
       "1028            0.00  ...           0.5            1.0             0.0   \n",
       "\n",
       "      against_dark  against_steel  against_fairy  Predicted Primary Type  \\\n",
       "35             1.0            0.5            1.0                Electric   \n",
       "49             1.0            0.5            0.5                    Fire   \n",
       "51             1.0            0.5            0.5                    Fire   \n",
       "100            1.0            0.5            0.5                    Fire   \n",
       "102            1.0            0.5            0.5                    Fire   \n",
       "144            1.0            1.0            0.5                  Poison   \n",
       "145            1.0            2.0            1.0                    Rock   \n",
       "146            1.0            2.0            1.0                    Rock   \n",
       "158            1.0            1.5            1.0                 Psychic   \n",
       "462            1.0            0.5            0.5                    Fire   \n",
       "568            2.0            2.0            1.0                   Ghost   \n",
       "582            2.0            1.0            2.0                  Dragon   \n",
       "583            2.0            1.0            2.0                  Dragon   \n",
       "773            1.0            1.0            1.0                  Normal   \n",
       "849            2.0            1.0            1.0                   Ghost   \n",
       "934            1.5            0.5            0.5                   Steel   \n",
       "936            2.0            1.0            2.0                  Dragon   \n",
       "961            2.0            1.0            1.0                 Psychic   \n",
       "962            2.0            1.0            1.0                 Psychic   \n",
       "1014           2.0            1.0            1.0                  Normal   \n",
       "1015           2.0            1.0            1.0                  Normal   \n",
       "1028           0.5            1.0            0.5                   Steel   \n",
       "\n",
       "      Predicted Secondary Type  Original Combination  Predicted Combination  \n",
       "35                        None   (Electric, Psychic)       (Electric, None)  \n",
       "49                        None           (Ice, None)           (Fire, None)  \n",
       "51                        None          (Ice, Fairy)           (Fire, None)  \n",
       "100                       None       (Psychic, None)           (Fire, None)  \n",
       "102                       None      (Psychic, Fairy)           (Fire, None)  \n",
       "144                       None       (Poison, Fairy)         (Poison, None)  \n",
       "145                     Ground        (Ground, Rock)         (Rock, Ground)  \n",
       "146                     Ground        (Ground, Rock)         (Rock, Ground)  \n",
       "158                      Fairy        (Psychic, Ice)       (Psychic, Fairy)  \n",
       "462                     Ground        (Ground, Fire)         (Fire, Ground)  \n",
       "568                       None          (Ice, Ghost)          (Ghost, None)  \n",
       "582                      Ghost       (Ghost, Dragon)        (Dragon, Ghost)  \n",
       "583                      Ghost       (Ghost, Dragon)        (Dragon, Ghost)  \n",
       "773                       None      (Normal, Ground)         (Normal, None)  \n",
       "849                      Grass        (Grass, Ghost)         (Ghost, Grass)  \n",
       "934                      Steel      (Psychic, Steel)         (Steel, Steel)  \n",
       "936                    Psychic     (Psychic, Dragon)      (Dragon, Psychic)  \n",
       "961                        Ice        (Bug, Psychic)         (Psychic, Ice)  \n",
       "962                        Ice        (Bug, Psychic)         (Psychic, Ice)  \n",
       "1014                   Psychic     (Psychic, Normal)      (Normal, Psychic)  \n",
       "1015                   Psychic     (Psychic, Normal)      (Normal, Psychic)  \n",
       "1028                     Fairy        (Fairy, Steel)         (Steel, Fairy)  \n",
       "\n",
       "[22 rows x 24 columns]"
      ]
     },
     "execution_count": 36,
     "metadata": {},
     "output_type": "execute_result"
    }
   ],
   "source": [
    "# Filter rows where the combinations do not match\n",
    "mismatched_rows = result_df[result_df['Original Combination'] != result_df['Predicted Combination']]\n",
    "mismatched_rows"
   ]
  },
  {
   "cell_type": "markdown",
   "id": "8b54fe2a",
   "metadata": {
    "papermill": {
     "duration": 0.030015,
     "end_time": "2025-01-21T08:20:18.237602",
     "exception": false,
     "start_time": "2025-01-21T08:20:18.207587",
     "status": "completed"
    },
    "tags": []
   },
   "source": [
    "**Observations**\n",
    "\n",
    "* In some instances, the predicted types match the original ones but are flagged as incorrect by the model due to their reversed order. While technically true, both type combinations are valid, as the order typically does not matter. This suggests that our model’s accuracy may be higher than initially perceived.\n",
    "\n",
    "* In other instances, one or both predicted types differ from the original, highlighting opportunities for further refinement. Nonetheless, the majority of type combinations are accurately predicted, demonstrating the model’s ability to effectively identify the likely primary and secondary types for each Pokémon."
   ]
  },
  {
   "cell_type": "code",
   "execution_count": 37,
   "id": "0e4cbb4b",
   "metadata": {
    "execution": {
     "iopub.execute_input": "2025-01-21T08:20:18.299501Z",
     "iopub.status.busy": "2025-01-21T08:20:18.299118Z",
     "iopub.status.idle": "2025-01-21T08:20:18.315322Z",
     "shell.execute_reply": "2025-01-21T08:20:18.314154Z"
    },
    "papermill": {
     "duration": 0.049234,
     "end_time": "2025-01-21T08:20:18.317155",
     "exception": false,
     "start_time": "2025-01-21T08:20:18.267921",
     "status": "completed"
    },
    "tags": []
   },
   "outputs": [
    {
     "name": "stdout",
     "output_type": "stream",
     "text": [
      "     pokedex_number                name  generation  status  type_number  \\\n",
      "35               35       Alolan Raichu           1       0            2   \n",
      "49               49       Alolan Vulpix           1       0            1   \n",
      "51               51    Alolan Ninetales           1       0            2   \n",
      "100             100     Galarian Ponyta           1       0            1   \n",
      "102             102   Galarian Rapidash           1       0            2   \n",
      "144             144    Galarian Weezing           1       0            2   \n",
      "158             158   Galarian Mr. Mime           1       0            2   \n",
      "568             568            Froslass           4       0            2   \n",
      "773             773           Diggersby           6       0            2   \n",
      "934             934  Dusk Mane Necrozma           7       3            2   \n",
      "961             961             Dottler           8       0            2   \n",
      "962             962            Orbeetle           8       0            2   \n",
      "\n",
      "    primary_type secondary_type     ability_1         ability_2  \\\n",
      "35      Electric        Psychic  Surge Surfer              None   \n",
      "49           Ice           None    Snow Cloak              None   \n",
      "51           Ice          Fairy    Snow Cloak              None   \n",
      "100      Psychic           None      Run Away       Pastel Veil   \n",
      "102      Psychic          Fairy      Run Away       Pastel Veil   \n",
      "144       Poison          Fairy      Levitate  Neutralizing Gas   \n",
      "158      Psychic            Ice  Vital Spirit    Screen Cleaner   \n",
      "568          Ice          Ghost    Snow Cloak              None   \n",
      "773       Normal         Ground        Pickup       Cheek Pouch   \n",
      "934      Psychic          Steel   Prism Armor              None   \n",
      "961          Bug        Psychic         Swarm     Compound Eyes   \n",
      "962          Bug        Psychic         Swarm             Frisk   \n",
      "\n",
      "    ability_hidden  ...  against_ground  against_flying  against_psychic  \\\n",
      "35            None  ...             2.0             0.5             1.00   \n",
      "49    Snow Warning  ...             2.0             1.0             1.00   \n",
      "51    Snow Warning  ...             2.0             1.0             1.00   \n",
      "100   Anticipation  ...             2.0             1.0             1.00   \n",
      "102   Anticipation  ...             2.0             1.0             1.00   \n",
      "144    Misty Surge  ...             2.0             1.0             2.00   \n",
      "158       Ice Body  ...             1.0             1.0             0.50   \n",
      "568    Cursed Body  ...             1.0             1.0             1.00   \n",
      "773     Huge Power  ...             1.0             1.0             1.00   \n",
      "934           None  ...             1.5             0.5             0.25   \n",
      "961      Telepathy  ...             0.5             2.0             0.50   \n",
      "962      Telepathy  ...             0.5             2.0             0.50   \n",
      "\n",
      "     against_bug  against_rock  against_ghost  against_dragon against_dark  \\\n",
      "35           1.0           1.0            1.0             1.0          1.0   \n",
      "49           0.5           2.0            1.0             1.0          1.0   \n",
      "51           0.5           2.0            1.0             1.0          1.0   \n",
      "100          0.5           2.0            1.0             1.0          1.0   \n",
      "102          0.5           2.0            1.0             1.0          1.0   \n",
      "144          0.5           1.0            1.0             1.0          1.0   \n",
      "158          1.0           1.0            1.5             0.0          1.0   \n",
      "568          0.5           2.0            2.0             1.0          2.0   \n",
      "773          1.0           0.5            0.0             1.0          1.0   \n",
      "934          1.0           0.5            1.5             0.5          1.5   \n",
      "961          2.0           2.0            2.0             1.0          2.0   \n",
      "962          2.0           2.0            2.0             1.0          2.0   \n",
      "\n",
      "     against_steel  against_fairy  \n",
      "35             0.5            1.0  \n",
      "49             0.5            0.5  \n",
      "51             0.5            0.5  \n",
      "100            0.5            0.5  \n",
      "102            0.5            0.5  \n",
      "144            1.0            0.5  \n",
      "158            1.5            1.0  \n",
      "568            2.0            1.0  \n",
      "773            1.0            1.0  \n",
      "934            0.5            0.5  \n",
      "961            1.0            1.0  \n",
      "962            1.0            1.0  \n",
      "\n",
      "[12 rows x 36 columns]\n"
     ]
    }
   ],
   "source": [
    "print(pokemon_df.iloc[[35, 49, 51, 100, 102, 144, 158, 568, 773, 934, 961, 962]])"
   ]
  },
  {
   "cell_type": "markdown",
   "id": "165990ce",
   "metadata": {
    "papermill": {
     "duration": 0.030201,
     "end_time": "2025-01-21T08:20:18.378118",
     "exception": false,
     "start_time": "2025-01-21T08:20:18.347917",
     "status": "completed"
    },
    "tags": []
   },
   "source": [
    "## Conclusion"
   ]
  },
  {
   "cell_type": "markdown",
   "id": "7ede7068",
   "metadata": {
    "papermill": {
     "duration": 0.03133,
     "end_time": "2025-01-21T08:20:18.440110",
     "exception": false,
     "start_time": "2025-01-21T08:20:18.408780",
     "status": "completed"
    },
    "tags": []
   },
   "source": [
    "This project successfully analyzed Pokémon attributes to develop a predictive model for determining primary and secondary type combinations. By leveraging a dataset enriched with features such as base stats, type defenses, and status, the analysis provided valuable insights into type distributions, associations, and strategic design patterns within the Pokémon universe. The following conclusions summarize the key achievements and findings:\n",
    "\n",
    "1. **Insights on Pokémon Typing**\n",
    "\t* The dataset revealed critical patterns, such as the versatility of types like Normal, Grass, and Water, and the widespread pairing of Flying as a secondary type.\n",
    "\t* Underrepresented types such as Ice, Steel, and Dragon highlighted the rarity of certain combinations and the deliberate design choices in the Pokémon universe.\n",
    "\t* The diversity in type pairings, alongside the balanced distribution of mono-type and dual-type Pokémon, reflects a strategic approach to creating both specialized and versatile Pokémon.\n",
    "    \n",
    "\n",
    "2. **Data Preparation and Feature Engineering**\n",
    "\t* Null values in non-essential columns were effectively addressed, with irrelevant features removed to streamline model training.\n",
    "\t* Features like type effectiveness multipliers (e.g., against_fire), generation, and status proved pivotal for accurate predictions, while others, such as against_normal, had minimal impact.\n",
    "    \n",
    "\n",
    "3. **Model Performance**\n",
    "\t* A random forest model achieved high accuracy rates: 93.78% for primary typing and 94.26% for secondary typing, underscoring its robustness.\n",
    "\t* Perfect precision, recall, and F1-scores for types like Dark, Electric, and Water demonstrated flawless classification capabilities for these categories.\n",
    "\t* Challenges with types such as Dragon, Fairy, and Psychic, which exhibited lower precision or recall, highlighted areas for future refinement.\n",
    "    \n",
    "\n",
    "4. **Key Findings from Feature Importance Analysis**\n",
    "    * Features like against_ghost, against_fire, and against_grass emerged as the most influential in the model’s decision-making process, aligning with the strong correlation between type effectiveness and type prediction.\n",
    "\t* Less impactful features like status and against_normal offered limited value in classification, confirming the importance of carefully selecting features for optimal performance.\n",
    "    \n",
    "\n",
    "5. **Model Strengths and Opportunities for Improvement**\n",
    "    * The model’s ability to predict type combinations with 97.9% accuracy showcases its strength in deciphering complex relationships between attributes.\n",
    "    * Occasional false positives and false negatives for specific types, such as Dragon and Psychic, indicate room for enhanced training with additional data or refined feature selection.\n",
    "   \n",
    "\n",
    "6. **Broader Implications** \n",
    "    * This analysis highlights how computational models can uncover patterns and relationships in complex datasets, offering potential applications in game design, balancing, and Pokémon strategy development.\n",
    "    * The findings not only validate the effectiveness of the random forest approach but also emphasize the importance of feature engineering in predictive modeling tasks.\n",
    "\n",
    "In conclusion, this project demonstrates the power of data-driven insights to decode the intricate relationships between Pokémon attributes and their typing. The high accuracy achieved by the model, coupled with the nuanced understanding of type distributions and associations, provides a solid foundation for future research and potential applications in machine learning and gaming analytics."
   ]
  }
 ],
 "metadata": {
  "kaggle": {
   "accelerator": "none",
   "dataSources": [
    {
     "datasetId": 6507540,
     "sourceId": 10513151,
     "sourceType": "datasetVersion"
    }
   ],
   "isGpuEnabled": false,
   "isInternetEnabled": true,
   "language": "python",
   "sourceType": "notebook"
  },
  "kernelspec": {
   "display_name": "Python 3 (ipykernel)",
   "language": "python",
   "name": "python3"
  },
  "language_info": {
   "codemirror_mode": {
    "name": "ipython",
    "version": 3
   },
   "file_extension": ".py",
   "mimetype": "text/x-python",
   "name": "python",
   "nbconvert_exporter": "python",
   "pygments_lexer": "ipython3",
   "version": "3.10.12"
  },
  "papermill": {
   "default_parameters": {},
   "duration": 17.083061,
   "end_time": "2025-01-21T08:20:19.294305",
   "environment_variables": {},
   "exception": null,
   "input_path": "__notebook__.ipynb",
   "output_path": "__notebook__.ipynb",
   "parameters": {},
   "start_time": "2025-01-21T08:20:02.211244",
   "version": "2.6.0"
  }
 },
 "nbformat": 4,
 "nbformat_minor": 5
}
