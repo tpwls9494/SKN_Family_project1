{
 "cells": [
  {
   "cell_type": "markdown",
   "metadata": {},
   "source": [
    "# 평가"
   ]
  },
  {
   "cell_type": "markdown",
   "metadata": {},
   "source": [
    "### 분류 모델 평가"
   ]
  },
  {
   "cell_type": "markdown",
   "metadata": {},
   "source": [
    "### 정확도 (Accuracy)\n",
    "- 전체 샘플 중에서 올바르게 예측한 샘플의 비율\n",
    "- 데이터가 불균형한 경우 정확도는 비현실적인 성능을 낼 수 있음"
   ]
  },
  {
   "cell_type": "code",
   "execution_count": 54,
   "metadata": {},
   "outputs": [],
   "source": [
    "from sklearn.base import BaseEstimator\n",
    "import numpy as np\n",
    "import pandas as pd\n",
    "\n",
    "# 성별로만 판별하는 모델 작성\n",
    "class MyTitanicClassifier(BaseEstimator):\n",
    "    def fit(self, X, y):\n",
    "        # 훈련 메서드\n",
    "        pass\n",
    "    def predict(self, X):\n",
    "        # 결과 예측 메서드\n",
    "        pred = np.zeros((X.shape[0], 1))\n",
    "        for i in range(X.shape[0]):\n",
    "            sex = X['Sex'].iloc[i]\n",
    "            if sex == 0:        # 여성\n",
    "                pred[i] = 1     # 생존\n",
    "        return pred"
   ]
  },
  {
   "cell_type": "code",
   "execution_count": 55,
   "metadata": {},
   "outputs": [],
   "source": [
    "# 전처리 -> 함수\n",
    "from sklearn.preprocessing import LabelEncoder\n",
    "# from sklearn.preprocessing import MinMaxScaler\n",
    "from sklearn.preprocessing import StandardScaler\n",
    "def fillna(df: pd.DataFrame):\n",
    "    \"\"\"결측치 처리 함수\n",
    "    - Age : 평균값으로 대체\n",
    "    - Cabin : N으로 대체\n",
    "    - Embarked : N으로 대체\n",
    "    \"\"\"\n",
    "    df['Age'] = df['Age'].fillna(df.Age.mean())\n",
    "    df['Cabin'] = df['Cabin'].fillna('N')\n",
    "    df['Embarked'] = df['Embarked'].fillna('N')\n",
    "    return df\n",
    "\n",
    "def drop_features(df: pd.DataFrame):\n",
    "    \"\"\"\n",
    "    모델 훈련과 관련 없는 속성 제거\n",
    "    - PassengerId, Name, Ticket\n",
    "    \"\"\"\n",
    "    return df.drop(['PassengerId', 'Name', 'Ticket'], axis=1)\n",
    "\n",
    "\n",
    "def encode_features(df: pd.DataFrame):\n",
    "    \"\"\"\n",
    "    범주형 데이터를 숫자로 인코딩\n",
    "    - Sex, Cabin, Embarked\n",
    "    \"\"\"\n",
    "    # encoder = LabelEncoder()\n",
    "    # df['Sex'] = encoder.fit_transform(df['Sex'])    \n",
    "    # df['Cabin'] = encoder.fit_transform(df['Cabin'])\n",
    "    # df['Embarked'] = encoder.fit_transform(df['Embarked'])\n",
    "    df['Cabin'] = df['Cabin'].str[:1]\n",
    "    for c in ['Sex', 'Cabin', 'Embarked']:\n",
    "        encoder = LabelEncoder()\n",
    "        df[c] = encoder.fit_transform(df[c])\n",
    "    return df\n",
    "    \n",
    "\n",
    "def scaling_features(train_data: pd.DataFrame, test_data: pd.DataFrame):\n",
    "    \"\"\"\n",
    "    숫자 데이터를 정규화\n",
    "    - Age, Fare\n",
    "    \"\"\"\n",
    "    scaler = StandardScaler()\n",
    "    train_data[[\"Age\", \"Fare\"]] = scaler.fit_transform(train_data[[\"Age\", \"Fare\"]])\n",
    "    test_data[[\"Age\", \"Fare\"]] = scaler.transform(test_data[[\"Age\", \"Fare\"]])\n",
    "    return train_data, test_data\n",
    "\n",
    "# 입력/라벨 데이터 분리\n",
    "def preprocess_data(df: pd.DataFrame):\n",
    "    df = fillna(df)\n",
    "    df = drop_features(df)\n",
    "    df = encode_features(df)\n",
    "    return df"
   ]
  },
  {
   "cell_type": "code",
   "execution_count": 56,
   "metadata": {},
   "outputs": [],
   "source": [
    "import pandas as pd\n",
    "from sklearn.model_selection import train_test_split\n",
    "\n",
    "df = pd.read_csv('./data/titanic.csv')\n",
    "\n",
    "# 입력/라벨 데이터 분리\n",
    "X = df.drop(['Survived'], axis=1)\n",
    "y = df['Survived']\n",
    "\n",
    "\n",
    "# 전처리\n",
    "X = preprocess_data(X)\n",
    "\n",
    "\n",
    "# 훈련 테스트 분리\n",
    "X_train, X_test, y_train, y_test = train_test_split(X, y, random_state=0)\n",
    "X_train, X_test = scaling_features(X_train, X_test)"
   ]
  },
  {
   "cell_type": "code",
   "execution_count": null,
   "metadata": {},
   "outputs": [],
   "source": [
    "from sklearn.metrics import accuracy_score\n",
    "\n",
    "# 모델 훈련\n",
    "my_classifier = MyTitanicClassifier()\n",
    "my_classifier.fit(X_train, y_train)\n",
    "\n",
    "# 예측\n",
    "pred_train = my_classifier.predict(X_train)\n",
    "pred_test = my_classifier.predict(X_test)\n",
    "\n",
    "# 평가 (accuracy_score 사용)\n",
    "print('훈련 데이터 정확도:', accuracy_score(y_train, pred_train))\n",
    "print('훈련 데이터 정확도:', accuracy_score(y_test, pred_test))"
   ]
  },
  {
   "cell_type": "markdown",
   "metadata": {},
   "source": [
    "##### 혼동행렬 (Confusion Matrix)"
   ]
  },
  {
   "cell_type": "code",
   "execution_count": 58,
   "metadata": {},
   "outputs": [],
   "source": [
    "from sklearn.metrics import confusion_matrix, precision_score, recall_score"
   ]
  },
  {
   "cell_type": "markdown",
   "metadata": {},
   "source": [
    "- 정밀도 (Precision)\n",
    "    - 양성이라고 예측한 것(TP + FP) 중에 실제 양성 (TP)일 확률\n",
    "    - 정밀도가 중요한 지표인경우\n",
    "        - 음성인 데이터를 양성으로 예측하면 안되는 경우 (스팸메일 분류 등)"
   ]
  },
  {
   "cell_type": "code",
   "execution_count": null,
   "metadata": {},
   "outputs": [],
   "source": [
    "matrix = confusion_matrix(y_test, pred_test)\n",
    "matrix"
   ]
  },
  {
   "cell_type": "code",
   "execution_count": null,
   "metadata": {},
   "outputs": [],
   "source": [
    "p_score = 115 / (115 + 24)\n",
    "precision_score(y_test, pred_test)"
   ]
  },
  {
   "cell_type": "markdown",
   "metadata": {},
   "source": [
    "- 재현율\n",
    "    - 실제 양성(TP+FN)중에 양성으로 예측(TP)한 확률\n",
    "    - 재현율이 중요한 지표인 경우: 양성인 데이터를 음성으로 예측하면 안되는 경우\n",
    "    - (암 진단, 보험/금융 사기)"
   ]
  },
  {
   "cell_type": "code",
   "execution_count": null,
   "metadata": {},
   "outputs": [],
   "source": [
    "recall_score(y_test, pred_test)"
   ]
  },
  {
   "cell_type": "code",
   "execution_count": null,
   "metadata": {},
   "outputs": [],
   "source": [
    "# 잘못 학습된 모델 만들어보기 2\n",
    "class MyDeathClassifier(BaseEstimator):\n",
    "    def fit(self, X, y):\n",
    "        pass\n",
    "\n",
    "    def predict(self, X):\n",
    "        return np.zeros((X.shape[0], 1))    # 전부 사망\n",
    "    \n",
    "my_classifier = MyDeathClassifier()\n",
    "my_classifier.fit(X_train, y_train)\n",
    "\n",
    "pred_train = my_classifier.predict(X_train)\n",
    "pred_test = my_classifier.predict(X_test)\n",
    "\n",
    "print('훈련 데이터 혼동행렬:\\n', confusion_matrix(y_train, pred_train))\n",
    "print('훈련 데이터 정확도:\\n', accuracy_score(y_train, pred_train))\n",
    "print('훈련 데이터 정밀도:\\n', precision_score(y_train, pred_train))\n",
    "print('훈련 데이터 재현율:\\n', recall_score(y_train, pred_train))\n",
    "\n",
    "print('훈련 데이터 혼동행렬:\\n', confusion_matrix(y_test, pred_test))\n",
    "print('훈련 데이터 정확도:\\n', accuracy_score(y_test, pred_test))\n",
    "print('훈련 데이터 정밀도:\\n', precision_score(y_test, pred_test))\n",
    "print('훈련 데이터 재현율:\\n', recall_score(y_test, pred_test))"
   ]
  },
  {
   "cell_type": "code",
   "execution_count": 63,
   "metadata": {},
   "outputs": [],
   "source": [
    "# 오차행렬 \n",
    "def evalute_binary_classification(y_true, y_pred):\n",
    "    print(\"혼돈행렬:\\n\", confusion_matrix(y_true, y_pred))\n",
    "    print(f'정확도: {accuracy_score(y_true, y_pred)},정밀도: {precision_score(y_true, y_pred)},재현율: {recall_score(y_true, y_pred)}')"
   ]
  },
  {
   "cell_type": "code",
   "execution_count": null,
   "metadata": {},
   "outputs": [],
   "source": [
    "from sklearn.linear_model import LogisticRegression\n",
    "\n",
    "df = pd.read_csv('./data/titanic.csv')\n",
    "\n",
    "# 입력/라벨 데이터 분리\n",
    "X = df.drop(['Survived'], axis=1)\n",
    "y = df['Survived']\n",
    "\n",
    "# 전처리\n",
    "X = preprocess_data(X)\n",
    "X_train, X_test, y_train, y_test = train_test_split(X, y, random_state=0)\n",
    "\n",
    "# 모델 훈련\n",
    "lr_clf = LogisticRegression()\n",
    "lr_clf.fit(X_train, y_train)\n",
    "\n",
    "# 예측 및 평가\n",
    "pred_train = lr_clf.predict(X_train)\n",
    "pred_test = lr_clf.predict(X_test)\n",
    "evalute_binary_classification(y_train, pred_train)\n",
    "evalute_binary_classification(y_test, pred_test)"
   ]
  },
  {
   "cell_type": "markdown",
   "metadata": {},
   "source": [
    "- 정밀도-재현율의 trade-off\n",
    "    - 분류 결정 임계치를 낮추면? Positive로 예측할 확률이 늘어난다\n",
    "        - 정밀도는 낮아지고, 재현율이 높아진다.\n",
    "    - 분류 결정 임계치를 높히면? Positive로 예측할 확률이 줄어든다\n",
    "        - 정밀도는 높아지고, 재현율이 낮아진다."
   ]
  },
  {
   "cell_type": "code",
   "execution_count": null,
   "metadata": {},
   "outputs": [],
   "source": [
    "pred_proba = lr_clf.predict_proba(X_test) \n",
    "print(pred_proba[:7])\n",
    "\n",
    "pred = lr_clf.predict(X_test)\n",
    "print(pred[:7])"
   ]
  },
  {
   "cell_type": "code",
   "execution_count": null,
   "metadata": {},
   "outputs": [],
   "source": [
    "from sklearn.preprocessing import Binarizer\n",
    "\n",
    "temp_X = [[1, -1, 2], [2, 0, 0], [0, 1.1, 1.2]]\n",
    "binarizer = Binarizer(threshold=0.09)\n",
    "adj_X = binarizer.fit_transform(temp_X)\n",
    "adj_X"
   ]
  },
  {
   "cell_type": "code",
   "execution_count": null,
   "metadata": {},
   "outputs": [],
   "source": [
    "from sklearn.preprocessing import Binarizer\n",
    "\n",
    "# 1(생존)일 확률만 가져오고 + 배치 차원 추가\n",
    "predict_proba_1 = pred_proba[:, 1].reshape(-1, 1)\n",
    "\n",
    "binarizer = Binarizer(threshold=0.5)\n",
    "custom_pred = binarizer.fit_transform(predict_proba_1)\n",
    "evalute_binary_classification(y_test, custom_pred)\n",
    "\n",
    "binarizer = Binarizer(threshold=0.6)\n",
    "custom_pred = binarizer.fit_transform(predict_proba_1)\n",
    "evalute_binary_classification(y_test, custom_pred)"
   ]
  },
  {
   "cell_type": "code",
   "execution_count": null,
   "metadata": {},
   "outputs": [],
   "source": [
    "# 임계치 별 평과 결과 확인\n",
    "thresholds = [0.4, 0.45, 0.5, 0.55, 0.6, 0.65, 0.7]\n",
    "\n",
    "def evalute_by_classification(y_true, y_pred, thresholds):\n",
    "    for threshold in thresholds:\n",
    "        binarizer = Binarizer(threshold=threshold)\n",
    "        custom_pred = binarizer.fit_transform(y_pred)\n",
    "        evalute_binary_classification(y_true, custom_pred)\n",
    "\n",
    "evalute_by_classification(y_test, predict_proba_1, thresholds)"
   ]
  },
  {
   "cell_type": "code",
   "execution_count": null,
   "metadata": {},
   "outputs": [],
   "source": [
    "# 정밀도-재현율 변화 과정 시각화\n",
    "from sklearn.metrics import precision_recall_curve\n",
    "import matplotlib.pyplot as plt\n",
    "\n",
    "# thresholds에 따른 precision, recall 값 반환\n",
    "precisions, recalls, thresholds = precision_recall_curve(y_test, predict_proba_1)\n",
    "\n",
    "# 기준 thresholds 211개\n",
    "# - 모든 샘플이 양성 클래스인 경우에 대한 계산치가 추가되어\n",
    "# - 정밀도는 마지막에 1 추가 (임계값이 매우 낮아 모든 샘플이 양성으로 예측된 경우)\n",
    "# - 재한율은 마지막에 0 추가 (임계값이 매우 높아 모든 샘플이 음성으로 예측된 경우)\n",
    "# precisions.shape, recalls.shape, thresholds.shape\n",
    "\n",
    "plt.figure(figsize=(6, 4))\n",
    "plt.plot(thresholds, precision_score[:-1], linestyle='--', label='Precision')\n",
    "plt.plot(thresholds, recalls[:-1], label='Recall')\n",
    "plt.xlabel('Thresholds')\n",
    "plt.ylabel('Precision and Recall values')\n",
    "plt.legend()\n",
    "plt.show()"
   ]
  },
  {
   "cell_type": "markdown",
   "metadata": {},
   "source": [
    "- F1-score\n",
    "    - 정밀도와 재현율을 결합한 지표"
   ]
  },
  {
   "cell_type": "code",
   "execution_count": 83,
   "metadata": {},
   "outputs": [],
   "source": [
    "from sklearn.metrics import f1_score\n",
    "\n",
    "f1_score(y_test, pred_test)\n",
    "# 오차행렬 \n",
    "def evalute_by_classification(y_true, y_pred):\n",
    "    print(\"혼돈행렬:\\n\", confusion_matrix(y_true, y_pred))\n",
    "    print(f'정확도: {accuracy_score(y_true, y_pred)},정밀도: {precision_score(y_true, y_pred)},재현율: {recall_score(y_true, y_pred)}, f1: {f1_score(y_true, y_pred)}')"
   ]
  },
  {
   "cell_type": "markdown",
   "metadata": {},
   "source": [
    "### ROC Curve - AUC"
   ]
  },
  {
   "cell_type": "markdown",
   "metadata": {},
   "source": [
    "### 회귀 모델 평가"
   ]
  },
  {
   "cell_type": "code",
   "execution_count": 84,
   "metadata": {},
   "outputs": [],
   "source": [
    "# 샘플 데이터\n",
    "y_true = [3, 0.5, 2, 7]\n",
    "y_pred = [2.5, 0, 2, 9]"
   ]
  },
  {
   "cell_type": "code",
   "execution_count": null,
   "metadata": {},
   "outputs": [],
   "source": [
    "from sklearn.metrics import mean_squared_error          # MSE (퍙균 제곱 오차)\n",
    "from sklearn.metrics import root_mean_squared_error     # RMSE (평균 제곱 오차 제곱근)\n",
    "from sklearn.metrics import mean_absolute_error         # MAE (펴균 절대값 오차)\n",
    "from sklearn.metrics import mean_squared_log_error      # MSLE (평균 제곱 로그 오차)\n",
    "from sklearn.metrics import root_mean_squared_log_error # RMSLE (평균 제곱 로그 오차 제곱근)\n",
    "from sklearn.metrics import r2_score                    # R^2 결정 계수\n",
    "\n",
    "print(mean_squared_error(y_test, pred_test))\n",
    "print(root_mean_squared_error(y_test, pred_test))\n",
    "print(mean_absolute_error(y_test, pred_test))\n",
    "print(mean_squared_log_error(y_test, pred_test))\n",
    "print(root_mean_squared_log_error(y_test, pred_test))\n",
    "print(r2_score(y_test, pred_test))"
   ]
  }
 ],
 "metadata": {
  "kernelspec": {
   "display_name": "Python 3",
   "language": "python",
   "name": "python3"
  },
  "language_info": {
   "codemirror_mode": {
    "name": "ipython",
    "version": 3
   },
   "file_extension": ".py",
   "mimetype": "text/x-python",
   "name": "python",
   "nbconvert_exporter": "python",
   "pygments_lexer": "ipython3",
   "version": "3.13.1"
  }
 },
 "nbformat": 4,
 "nbformat_minor": 2
}
