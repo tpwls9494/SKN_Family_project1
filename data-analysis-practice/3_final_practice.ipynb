{
 "cells": [
  {
   "cell_type": "markdown",
   "metadata": {},
   "source": [
    "### 최종 실습 프로젝트\n",
    "- ecommerce_sales_data.csv 파일 활용"
   ]
  },
  {
   "cell_type": "code",
   "execution_count": null,
   "metadata": {},
   "outputs": [],
   "source": [
    "import numpy as np\n",
    "import pandas as pd\n",
    "\n",
    "df = pd.read_csv('./data/ecommerce_sales_data.csv')"
   ]
  },
  {
   "cell_type": "code",
   "execution_count": 31,
   "metadata": {},
   "outputs": [
    {
     "data": {
      "text/html": [
       "<div>\n",
       "<style scoped>\n",
       "    .dataframe tbody tr th:only-of-type {\n",
       "        vertical-align: middle;\n",
       "    }\n",
       "\n",
       "    .dataframe tbody tr th {\n",
       "        vertical-align: top;\n",
       "    }\n",
       "\n",
       "    .dataframe thead th {\n",
       "        text-align: right;\n",
       "    }\n",
       "</style>\n",
       "<table border=\"1\" class=\"dataframe\">\n",
       "  <thead>\n",
       "    <tr style=\"text-align: right;\">\n",
       "      <th></th>\n",
       "      <th>OrderID</th>\n",
       "      <th>Quantity</th>\n",
       "      <th>Price</th>\n",
       "      <th>CustomerID</th>\n",
       "    </tr>\n",
       "  </thead>\n",
       "  <tbody>\n",
       "    <tr>\n",
       "      <th>count</th>\n",
       "      <td>120.000000</td>\n",
       "      <td>120.000000</td>\n",
       "      <td>120.000000</td>\n",
       "      <td>120.000000</td>\n",
       "    </tr>\n",
       "    <tr>\n",
       "      <th>mean</th>\n",
       "      <td>60.500000</td>\n",
       "      <td>2.941667</td>\n",
       "      <td>25625.000000</td>\n",
       "      <td>1469.158333</td>\n",
       "    </tr>\n",
       "    <tr>\n",
       "      <th>std</th>\n",
       "      <td>34.785054</td>\n",
       "      <td>1.485481</td>\n",
       "      <td>14127.904624</td>\n",
       "      <td>272.327811</td>\n",
       "    </tr>\n",
       "    <tr>\n",
       "      <th>min</th>\n",
       "      <td>1.000000</td>\n",
       "      <td>1.000000</td>\n",
       "      <td>5000.000000</td>\n",
       "      <td>1007.000000</td>\n",
       "    </tr>\n",
       "    <tr>\n",
       "      <th>25%</th>\n",
       "      <td>30.750000</td>\n",
       "      <td>1.000000</td>\n",
       "      <td>13000.000000</td>\n",
       "      <td>1244.500000</td>\n",
       "    </tr>\n",
       "    <tr>\n",
       "      <th>50%</th>\n",
       "      <td>60.500000</td>\n",
       "      <td>3.000000</td>\n",
       "      <td>25000.000000</td>\n",
       "      <td>1491.000000</td>\n",
       "    </tr>\n",
       "    <tr>\n",
       "      <th>75%</th>\n",
       "      <td>90.250000</td>\n",
       "      <td>4.000000</td>\n",
       "      <td>38000.000000</td>\n",
       "      <td>1670.750000</td>\n",
       "    </tr>\n",
       "    <tr>\n",
       "      <th>max</th>\n",
       "      <td>120.000000</td>\n",
       "      <td>5.000000</td>\n",
       "      <td>50000.000000</td>\n",
       "      <td>1982.000000</td>\n",
       "    </tr>\n",
       "  </tbody>\n",
       "</table>\n",
       "</div>"
      ],
      "text/plain": [
       "          OrderID    Quantity         Price   CustomerID\n",
       "count  120.000000  120.000000    120.000000   120.000000\n",
       "mean    60.500000    2.941667  25625.000000  1469.158333\n",
       "std     34.785054    1.485481  14127.904624   272.327811\n",
       "min      1.000000    1.000000   5000.000000  1007.000000\n",
       "25%     30.750000    1.000000  13000.000000  1244.500000\n",
       "50%     60.500000    3.000000  25000.000000  1491.000000\n",
       "75%     90.250000    4.000000  38000.000000  1670.750000\n",
       "max    120.000000    5.000000  50000.000000  1982.000000"
      ]
     },
     "execution_count": 31,
     "metadata": {},
     "output_type": "execute_result"
    }
   ],
   "source": [
    "\n",
    "df.describe()"
   ]
  },
  {
   "cell_type": "markdown",
   "metadata": {},
   "source": [
    "당신은 한 온라인 쇼핑몰의 데이터 분석가로 고용되었다. 쇼핑몰의 판매 데이터를 분석하여 고객의 구매 패턴을 파악하고, 중요한 인사이트를 도출하는 것이 이번 프로젝트의 목표다. 이를 통해 향후 마케팅 전략을 제시하고자 한다. ecommerce_sales_data.csv 파일을 통해 주어진 데이터는 고객의 주문 기록, 상품 정보, 판매 데이터 등을 포함하고 있다. 주어진 데이터를 분석하여 아래의 질문에 답하라."
   ]
  },
  {
   "cell_type": "markdown",
   "metadata": {},
   "source": [
    "- **데이터 설명**:\n",
    "    - **OrderID**: 주문 ID\n",
    "    - **Product**: 주문한 상품 이름\n",
    "    - **Category**: 상품의 카테고리 (예: Electronics, Clothing 등)\n",
    "    - **Quantity**: 주문 수량\n",
    "    - **Price**: 상품의 가격\n",
    "    - **CustomerID**: 고객 ID\n",
    "    - **BirthDate**: 고객 생일\n",
    "    - **OrderDate**: 주문 날짜\n",
    "    - **Country**: 주문한 고객의 국가"
   ]
  },
  {
   "cell_type": "markdown",
   "metadata": {},
   "source": [
    "1. **데이터 탐색 및 전처리**\n",
    "    1. 데이터셋을 로드하고 상위 5개의 데이터를 출력하세요.\n",
    "    2. 결측값이 있는 열이 있는지 확인하고, 결측값이 있는 경우 적절한 방법으로 처리하세요.\n",
    "    3. 각 열의 데이터 타입을 확인하고, **OrderDate** 열을 datetime 형식으로 변환하세요."
   ]
  },
  {
   "cell_type": "code",
   "execution_count": 36,
   "metadata": {},
   "outputs": [
    {
     "name": "stdout",
     "output_type": "stream",
     "text": [
      "   OrderID Product     Category  Quantity  Price  CustomerID   Birthdate  \\\n",
      "0        1     역사책        Books         5  37000        1071  1980-08-08   \n",
      "1        2      셔츠     Clothing         5  20000        1526  1967-08-09   \n",
      "2        3     노트북  Electronics         4   8000        1252  1973-04-07   \n",
      "3        4     자전거       Sports         1   8000        1670  1970-04-08   \n",
      "4        5     헤드폰  Electronics         3  26000        1838  1992-05-19   \n",
      "\n",
      "            OrderDate Country  TotalRevenue  \n",
      "0 2024-06-10 17:18:00      미국        185000  \n",
      "1 2023-11-18 18:45:00      독일        100000  \n",
      "2 2023-10-15 11:19:00      중국         32000  \n",
      "3 2024-07-19 02:19:00      일본          8000  \n",
      "4 2024-01-20 20:34:00    대한민국         78000  \n",
      "OrderID         0\n",
      "Product         0\n",
      "Category        0\n",
      "Quantity        0\n",
      "Price           0\n",
      "CustomerID      0\n",
      "Birthdate       0\n",
      "OrderDate       0\n",
      "Country         0\n",
      "TotalRevenue    0\n",
      "dtype: int64\n"
     ]
    },
    {
     "data": {
      "text/plain": [
       "0     2024-06-10 17:18:00\n",
       "1     2023-11-18 18:45:00\n",
       "2     2023-10-15 11:19:00\n",
       "3     2024-07-19 02:19:00\n",
       "4     2024-01-20 20:34:00\n",
       "              ...        \n",
       "115   2024-03-01 16:57:00\n",
       "116   2024-01-18 21:37:00\n",
       "117   2024-09-29 12:27:00\n",
       "118   2024-06-10 09:01:00\n",
       "119   2024-06-29 10:28:00\n",
       "Name: OrderDate, Length: 120, dtype: datetime64[ns]"
      ]
     },
     "execution_count": 36,
     "metadata": {},
     "output_type": "execute_result"
    }
   ],
   "source": [
    "print(df.head(5))\n",
    "print(df.isnull().sum())\n",
    "df['OrderDate'] = pd.to_datetime(df['OrderDate'])\n",
    "df['OrderDate']"
   ]
  },
  {
   "cell_type": "markdown",
   "metadata": {},
   "source": [
    "2. **매출 분석**\n",
    "    1. **매출액**(총 판매 금액)을 계산하는 새로운 열 `TotalRevenue`를 생성하세요.\n",
    "        - 매출액 = `Quantity` * `Price`\n",
    "    2. 월별 총 매출액을 집계하여 시각화하세요.\n",
    "        - 힌트: `resample()`을 사용하여 월별로 데이터를 집계하세요.\n",
    "    3. 카테고리별로 매출액이 가장 높은 상위 3개의 카테고리를 구하세요.\n",
    "    4. 국가별 총 매출액을 계산하고, 매출액이 가장 높은 5개 국가를 출력하세요."
   ]
  },
  {
   "cell_type": "code",
   "execution_count": 84,
   "metadata": {},
   "outputs": [
    {
     "name": "stdout",
     "output_type": "stream",
     "text": [
      "OrderDate\n",
      "2023-10-31     392000\n",
      "2023-11-30     995000\n",
      "2023-12-31     920000\n",
      "2024-01-31     905000\n",
      "2024-02-29     565000\n",
      "2024-03-31     703000\n",
      "2024-04-30     288000\n",
      "2024-05-31     930000\n",
      "2024-06-30    1365000\n",
      "2024-07-31     712000\n",
      "2024-08-31     635000\n",
      "2024-09-30     319000\n",
      "2024-10-31     190000\n",
      "Freq: ME, Name: TotalRevenue, dtype: int64\n",
      "\n",
      "Category\n",
      "Food           1966000\n",
      "Electronics    1746000\n",
      "Beauty         1493000\n",
      "Name: TotalRevenue, dtype: int64\n",
      "\n",
      "Country\n",
      "미국      2238000\n",
      "독일      1973000\n",
      "중국      1766000\n",
      "일본      1523000\n",
      "대한민국    1419000\n",
      "Name: TotalRevenue, dtype: int64\n",
      "\n"
     ]
    },
    {
     "data": {
      "text/plain": [
       "(None, None)"
      ]
     },
     "execution_count": 84,
     "metadata": {},
     "output_type": "execute_result"
    }
   ],
   "source": [
    "df['TotalRevenue'] = df['Quantity'] * df['Price']\n",
    "print(df.set_index('OrderDate')['TotalRevenue'].resample('ME').sum()), print()\n",
    "print(df.groupby('Category')['TotalRevenue'].sum().sort_values(ascending=False).head(3)), print()\n",
    "print(df.groupby('Country')['TotalRevenue'].sum().sort_values(ascending=False).head(5)), print()"
   ]
  },
  {
   "cell_type": "markdown",
   "metadata": {},
   "source": [
    "3. **고객 분석**\n",
    "    1. 고객별로 총 매출액을 계산한 후, 상위 5명의 고객을 출력하세요.\n",
    "    2. 주문 횟수가 가장 많은 상위 5명의 고객을 출력하세요.\n",
    "    3. **연령대**에 따라 고객을 분류하고, 각 연령대별로 가장 많이 구매한 상품의 카테고리를 구하세요.\n",
    "        - 힌트: 고객의 연령대는 따로 제공되지 않으므로, 가정 데이터를 추가해 임의로 분류할 수 있습니다."
   ]
  },
  {
   "cell_type": "code",
   "execution_count": 45,
   "metadata": {},
   "outputs": [
    {
     "name": "stdout",
     "output_type": "stream",
     "text": [
      "CustomerID\n",
      "1007    334000\n",
      "1354    245000\n",
      "1141    241000\n",
      "1589    215000\n",
      "1632    192000\n",
      "Name: TotalRevenue, dtype: int64\n",
      "CustomerID\n",
      "1206    2\n",
      "1278    2\n",
      "1496    2\n",
      "1007    2\n",
      "1673    2\n",
      "Name: count, dtype: int64\n",
      "   AgeGroup Category  Quantity\n",
      "8    30~40대     Food        48\n",
      "11   50대 이상    Books        42\n",
      "2    20대 이하     Food         6\n"
     ]
    }
   ],
   "source": [
    "print(df.groupby('CustomerID')['TotalRevenue'].sum().sort_values(ascending=False).head(5))\n",
    "print(df['CustomerID'].value_counts().head(5))\n",
    "\n",
    "# 3\n",
    "df['Birthdate'] = pd.to_datetime(df['Birthdate'])\n",
    "df['Age'] = 2024 - df['Birthdate'].dt.year\n",
    "df['AgeGroup'] = pd.cut(df['Age'], \n",
    "                       bins=[0, 20, 40, 60],\n",
    "                       labels=['20대 이하', '30~40대', '50대 이상'])\n",
    "print(df.groupby(['AgeGroup', 'Category'], observed=True)['Quantity'].sum().reset_index().sort_values('Quantity', ascending=False).groupby('AgeGroup', observed=True).head(1))"
   ]
  },
  {
   "cell_type": "markdown",
   "metadata": {},
   "source": [
    "4. **상품 분석**\n",
    "    1. 가장 많이 판매된 상위 5개의 상품을 출력하세요.\n",
    "    2. **카테고리별**로 가장 많이 판매된 상품을 찾아 출력하세요.\n",
    "    3. **평균 구매 수량**이 가장 높은 상위 3개의 상품을 출력하세요."
   ]
  },
  {
   "cell_type": "code",
   "execution_count": 51,
   "metadata": {},
   "outputs": [
    {
     "name": "stdout",
     "output_type": "stream",
     "text": [
      "Product\n",
      "셔츠     25\n",
      "립스틱    22\n",
      "소설     21\n",
      "커피     20\n",
      "역사책    20\n",
      "Name: Quantity, dtype: int64\n",
      "       Category Product  Quantity\n",
      "10     Clothing      셔츠        25\n",
      "1        Beauty     립스틱        22\n",
      "7         Books      소설        21\n",
      "23         Food      커피        20\n",
      "14  Electronics     노트북        15\n",
      "25       Sports    요가매트        12\n",
      "Product\n",
      "주스      5.0\n",
      "자기계발    5.0\n",
      "요가매트    4.0\n",
      "Name: Quantity, dtype: float64\n"
     ]
    }
   ],
   "source": [
    "print(df.groupby('Product')['Quantity'].sum().sort_values(ascending=False).head(5))\n",
    "print(df.groupby(['Category', 'Product'])['Quantity'].sum().reset_index().sort_values('Quantity', ascending=False).groupby('Category').head(1))\n",
    "print(df.groupby('Product')['Quantity'].mean().sort_values(ascending=False).head(3))"
   ]
  },
  {
   "cell_type": "markdown",
   "metadata": {},
   "source": [
    "5. **시간 분석**\n",
    "    1. 주문 날짜별로 **주별** 매출액을 계산하고 시각화하세요.\n",
    "    2. 특정 기간(예: 2024년 1월 ~ 2024년 6월) 동안의 매출 추이를 분석하고 시각화하세요.\n",
    "    3. 특정 국가에서 가장 많이 주문한 시간대를 분석하고, 이를 시각화하여 인사이트를 도출하세요."
   ]
  },
  {
   "cell_type": "code",
   "execution_count": 64,
   "metadata": {},
   "outputs": [
    {
     "name": "stdout",
     "output_type": "stream",
     "text": [
      "   Country  Hour  OrderID\n",
      "6     대한민국    10        3\n",
      "12    대한민국    20        2\n",
      "0     대한민국     1        1\n",
      "1     대한민국     2        1\n",
      "2     대한민국     5        1\n",
      "..     ...   ...      ...\n",
      "70      중국    13        1\n",
      "71      중국    14        1\n",
      "72      중국    15        1\n",
      "73      중국    16        1\n",
      "75      중국    19        1\n",
      "\n",
      "[78 rows x 3 columns]\n"
     ]
    }
   ],
   "source": [
    "print(df.resample('W', on='OrderDate')['TotalRevenue'].sum().reset_index())\n",
    "print(df[(df['OrderDate'] >= '2024-01-01') & (df['OrderDate'] <= '2024-06-30')].resample('ME', on='OrderDate')['TotalRevenue'].sum().reset_index())\n",
    "\n",
    "df['Hour'] = df['OrderDate'].dt.hour\n",
    "print(df.groupby(['Country', 'Hour'])['OrderID'].count().reset_index().sort_values(['Country', 'OrderID'], ascending=[True, False]))"
   ]
  },
  {
   "cell_type": "markdown",
   "metadata": {},
   "source": [
    "6. **추가 분석**\n",
    "    1. 고객의 **재구매율**을 분석하세요.\n",
    "        - 재구매율 = 한 고객이 여러 번 주문한 비율\n",
    "    2. 상품 카테고리별 **할인**을 적용한 판매 데이터를 사용하여 할인율이 높은 카테고리의 매출액을 분석하세요."
   ]
  },
  {
   "cell_type": "code",
   "execution_count": 87,
   "metadata": {},
   "outputs": [
    {
     "name": "stdout",
     "output_type": "stream",
     "text": [
      "0.08\n",
      "   OrderID Product     Category  Quantity  Price  CustomerID  Birthdate  \\\n",
      "0        1     역사책        Books         5  37000        1071 1980-08-08   \n",
      "1        2      셔츠     Clothing         5  20000        1526 1967-08-09   \n",
      "2        3     노트북  Electronics         4   8000        1252 1973-04-07   \n",
      "3        4     자전거       Sports         1   8000        1670 1970-04-08   \n",
      "4        5     헤드폰  Electronics         3  26000        1838 1992-05-19   \n",
      "\n",
      "            OrderDate Country  TotalRevenue  Age AgeGroup  Hour  Discount  \n",
      "0 2024-06-10 17:18:00      미국        185000   44   50대 이상    17       0.0  \n",
      "1 2023-11-18 18:45:00      독일        100000   57   50대 이상    18       0.0  \n",
      "2 2023-10-15 11:19:00      중국         32000   51   50대 이상    11       0.0  \n",
      "3 2024-07-19 02:19:00      일본          8000   54   50대 이상     2       0.0  \n",
      "4 2024-01-20 20:34:00    대한민국         78000   32   30~40대    20       0.0  \n",
      "              현재_매출액   할인율  할인_적용_후_매출액\n",
      "Category                               \n",
      "Sports       1057000  50.0     528500.0\n",
      "Clothing     1279000  40.0     767400.0\n",
      "Books        1378000  30.0     964600.0\n",
      "Beauty       1493000  20.0    1194400.0\n",
      "Electronics  1746000  10.0    1571400.0\n",
      "Food         1966000   0.0    1966000.0\n"
     ]
    }
   ],
   "source": [
    "print(round(df['CustomerID'].value_counts()[df['CustomerID'].value_counts() >= 2].count() / df['CustomerID'].value_counts().count(), 2))\n",
    "print(df.head(5))\n",
    "\n",
    "category_revenue = df.groupby('Category')['TotalRevenue'].sum().sort_values()\n",
    "\n",
    "discount_rates = {\n",
    "    category_revenue.index[0]: 0.50,  \n",
    "    category_revenue.index[1]: 0.40,  \n",
    "    category_revenue.index[2]: 0.30,  \n",
    "    category_revenue.index[3]: 0.20,  \n",
    "    category_revenue.index[4]: 0.10,  \n",
    "    category_revenue.index[5]: 0.00   \n",
    "}\n",
    "\n",
    "result = pd.DataFrame({\n",
    "    '현재_매출액': category_revenue,\n",
    "    '할인율': [discount_rates[cat] * 100 for cat in category_revenue.index],\n",
    "})\n",
    "result['할인_적용_후_매출액'] = result['현재_매출액'] * (1 - result['할인율']/100)\n",
    "print(result.round(2))"
   ]
  }
 ],
 "metadata": {
  "kernelspec": {
   "display_name": "pystudy_env",
   "language": "python",
   "name": "python3"
  },
  "language_info": {
   "codemirror_mode": {
    "name": "ipython",
    "version": 3
   },
   "file_extension": ".py",
   "mimetype": "text/x-python",
   "name": "python",
   "nbconvert_exporter": "python",
   "pygments_lexer": "ipython3",
   "version": "3.13.1"
  }
 },
 "nbformat": 4,
 "nbformat_minor": 2
}
